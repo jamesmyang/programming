{
 "cells": [
  {
   "cell_type": "markdown",
   "metadata": {},
   "source": [
    "<a href=\"https://colab.research.google.com/github/https-deeplearning-ai/tensorflow-1-public/blob/master/C1/W3/ungraded_labs/C1_W3_Lab_1_improving_accuracy_using_convolutions.ipynb\" target=\"_parent\"><img src=\"https://colab.research.google.com/assets/colab-badge.svg\" alt=\"Open In Colab\"/></a>"
   ]
  },
  {
   "cell_type": "markdown",
   "metadata": {
    "id": "R6gHiH-I7uFa"
   },
   "source": [
    "# Ungraded Lab: Improving Computer Vision Accuracy using Convolutions\n",
    "\n",
    "\n",
    "\n"
   ]
  },
  {
   "cell_type": "markdown",
   "metadata": {
    "id": "Z6396DKnr-xp"
   },
   "source": [
    "# Shallow Neural Network\n",
    "\n",
    "In the previous lessons, you saw how to do fashion recognition using a neural network containing three layers -- the input layer (in the shape of the data), the output layer (in the shape of the desired output) and only one hidden layer. You experimented with the impact of different sizes of hidden layer, number of training epochs etc on the final accuracy. For convenience, here's the entire code again. Run it and take a note of the test accuracy that is printed out at the end. "
   ]
  },
  {
   "cell_type": "code",
   "execution_count": 1,
   "metadata": {
    "id": "qnCNAG-VecJ9"
   },
   "outputs": [],
   "source": [
    "import tensorflow as tf\n",
    "\n",
    "# Load the Fashion MNIST dataset\n",
    "fmnist = tf.keras.datasets.fashion_mnist\n",
    "(training_images, training_labels), (test_images, test_labels) = fmnist.load_data()\n",
    "\n",
    "# Normalize the pixel values\n",
    "training_images = training_images / 255.0\n",
    "test_images = test_images / 255.0"
   ]
  },
  {
   "cell_type": "code",
   "execution_count": 3,
   "metadata": {
    "id": "xcsRtq9OLorS"
   },
   "outputs": [
    {
     "name": "stdout",
     "output_type": "stream",
     "text": [
      "\n",
      "MODEL TRAINING:\n",
      "Epoch 1/5\n",
      "\u001b[1m1875/1875\u001b[0m \u001b[32m━━━━━━━━━━━━━━━━━━━━\u001b[0m\u001b[37m\u001b[0m \u001b[1m5s\u001b[0m 2ms/step - accuracy: 0.7856 - loss: 0.6180\n",
      "Epoch 2/5\n",
      "\u001b[1m1875/1875\u001b[0m \u001b[32m━━━━━━━━━━━━━━━━━━━━\u001b[0m\u001b[37m\u001b[0m \u001b[1m5s\u001b[0m 3ms/step - accuracy: 0.8605 - loss: 0.3886\n",
      "Epoch 3/5\n",
      "\u001b[1m1875/1875\u001b[0m \u001b[32m━━━━━━━━━━━━━━━━━━━━\u001b[0m\u001b[37m\u001b[0m \u001b[1m5s\u001b[0m 2ms/step - accuracy: 0.8768 - loss: 0.3415\n",
      "Epoch 4/5\n",
      "\u001b[1m1875/1875\u001b[0m \u001b[32m━━━━━━━━━━━━━━━━━━━━\u001b[0m\u001b[37m\u001b[0m \u001b[1m5s\u001b[0m 2ms/step - accuracy: 0.8863 - loss: 0.3125\n",
      "Epoch 5/5\n",
      "\u001b[1m1875/1875\u001b[0m \u001b[32m━━━━━━━━━━━━━━━━━━━━\u001b[0m\u001b[37m\u001b[0m \u001b[1m4s\u001b[0m 2ms/step - accuracy: 0.8917 - loss: 0.2956\n",
      "\n",
      "MODEL EVALUATION:\n",
      "\u001b[1m313/313\u001b[0m \u001b[32m━━━━━━━━━━━━━━━━━━━━\u001b[0m\u001b[37m\u001b[0m \u001b[1m1s\u001b[0m 2ms/step - accuracy: 0.8766 - loss: 0.3417\n"
     ]
    }
   ],
   "source": [
    "\n",
    "\n",
    "# Define the model\n",
    "model = tf.keras.models.Sequential([\n",
    "  tf.keras.layers.Flatten(),\n",
    "  tf.keras.layers.Dense(128, activation=tf.nn.relu),\n",
    "  tf.keras.layers.Dense(10, activation=tf.nn.softmax)\n",
    "])\n",
    "\n",
    "# Setup training parameters\n",
    "model.compile(optimizer='adam', loss='sparse_categorical_crossentropy', metrics=['accuracy'])\n",
    "\n",
    "# Train the model\n",
    "print(f'\\nMODEL TRAINING:')\n",
    "model.fit(training_images, training_labels, epochs=5)\n",
    "\n",
    "# Evaluate on the test set\n",
    "print(f'\\nMODEL EVALUATION:')\n",
    "test_loss = model.evaluate(test_images, test_labels)"
   ]
  },
  {
   "cell_type": "markdown",
   "metadata": {
    "id": "zldEXSsF8Noz"
   },
   "source": [
    "## Convolutional Neural Network\n",
    "\n",
    "In the model above, your accuracy will probably be about 89% on training and 87% on validation. Not bad. But how do you make that even better? One way is to use something called _convolutions_. We're not going into the details of convolutions in this notebook (please see resources in the classroom), but the ultimate concept is that they narrow down the content of the image to focus on specific parts and this will likely improve the model accuracy. \n",
    "\n",
    "If you've ever done image processing using a filter (like [this](https://en.wikipedia.org/wiki/Kernel_(image_processing))), then convolutions will look very familiar. In short, you take an array (usually 3x3 or 5x5) and scan it over the entire image. By changing the underlying pixels based on the formula within that matrix, you can do things like edge detection. So, for example, if you look at the above link, you'll see a 3x3 matrix that is defined for edge detection where the middle cell is 8, and all of its neighbors are -1. In this case, for each pixel, you would multiply its value by 8, then subtract the value of each neighbor. Do this for every pixel, and you'll end up with a new image that has the edges enhanced.\n",
    "\n",
    "This is perfect for computer vision because it often highlights features that distinguish one item from another. Moreover, the amount of information needed is then much less because you'll just train on the highlighted features.\n",
    "\n",
    "That's the concept of **Convolutional Neural Networks**. Add some layers to do convolution before you have the dense layers, and then the information going to the dense layers is more focused and possibly more accurate.\n",
    "\n",
    "Run the code below. This is the same neural network as earlier, but this time with [Convolution](https://www.tensorflow.org/api_docs/python/tf/keras/layers/Conv2D) and [MaxPooling](https://www.tensorflow.org/api_docs/python/tf/keras/layers/MaxPool2D) layers added first. It will take longer, but look at the impact on the accuracy."
   ]
  },
  {
   "cell_type": "code",
   "execution_count": 4,
   "metadata": {
    "id": "C0tFgT1MMKi6"
   },
   "outputs": [
    {
     "data": {
      "text/html": [
       "<pre style=\"white-space:pre;overflow-x:auto;line-height:normal;font-family:Menlo,'DejaVu Sans Mono',consolas,'Courier New',monospace\"><span style=\"font-weight: bold\">Model: \"sequential_2\"</span>\n",
       "</pre>\n"
      ],
      "text/plain": [
       "\u001b[1mModel: \"sequential_2\"\u001b[0m\n"
      ]
     },
     "metadata": {},
     "output_type": "display_data"
    },
    {
     "data": {
      "text/html": [
       "<pre style=\"white-space:pre;overflow-x:auto;line-height:normal;font-family:Menlo,'DejaVu Sans Mono',consolas,'Courier New',monospace\">┏━━━━━━━━━━━━━━━━━━━━━━━━━━━━━━━━━┳━━━━━━━━━━━━━━━━━━━━━━━━┳━━━━━━━━━━━━━━━┓\n",
       "┃<span style=\"font-weight: bold\"> Layer (type)                    </span>┃<span style=\"font-weight: bold\"> Output Shape           </span>┃<span style=\"font-weight: bold\">       Param # </span>┃\n",
       "┡━━━━━━━━━━━━━━━━━━━━━━━━━━━━━━━━━╇━━━━━━━━━━━━━━━━━━━━━━━━╇━━━━━━━━━━━━━━━┩\n",
       "│ conv2d (<span style=\"color: #0087ff; text-decoration-color: #0087ff\">Conv2D</span>)                 │ (<span style=\"color: #00d7ff; text-decoration-color: #00d7ff\">None</span>, <span style=\"color: #00af00; text-decoration-color: #00af00\">26</span>, <span style=\"color: #00af00; text-decoration-color: #00af00\">26</span>, <span style=\"color: #00af00; text-decoration-color: #00af00\">32</span>)     │           <span style=\"color: #00af00; text-decoration-color: #00af00\">320</span> │\n",
       "├─────────────────────────────────┼────────────────────────┼───────────────┤\n",
       "│ max_pooling2d (<span style=\"color: #0087ff; text-decoration-color: #0087ff\">MaxPooling2D</span>)    │ (<span style=\"color: #00d7ff; text-decoration-color: #00d7ff\">None</span>, <span style=\"color: #00af00; text-decoration-color: #00af00\">13</span>, <span style=\"color: #00af00; text-decoration-color: #00af00\">13</span>, <span style=\"color: #00af00; text-decoration-color: #00af00\">32</span>)     │             <span style=\"color: #00af00; text-decoration-color: #00af00\">0</span> │\n",
       "├─────────────────────────────────┼────────────────────────┼───────────────┤\n",
       "│ conv2d_1 (<span style=\"color: #0087ff; text-decoration-color: #0087ff\">Conv2D</span>)               │ (<span style=\"color: #00d7ff; text-decoration-color: #00d7ff\">None</span>, <span style=\"color: #00af00; text-decoration-color: #00af00\">11</span>, <span style=\"color: #00af00; text-decoration-color: #00af00\">11</span>, <span style=\"color: #00af00; text-decoration-color: #00af00\">32</span>)     │         <span style=\"color: #00af00; text-decoration-color: #00af00\">9,248</span> │\n",
       "├─────────────────────────────────┼────────────────────────┼───────────────┤\n",
       "│ max_pooling2d_1 (<span style=\"color: #0087ff; text-decoration-color: #0087ff\">MaxPooling2D</span>)  │ (<span style=\"color: #00d7ff; text-decoration-color: #00d7ff\">None</span>, <span style=\"color: #00af00; text-decoration-color: #00af00\">5</span>, <span style=\"color: #00af00; text-decoration-color: #00af00\">5</span>, <span style=\"color: #00af00; text-decoration-color: #00af00\">32</span>)       │             <span style=\"color: #00af00; text-decoration-color: #00af00\">0</span> │\n",
       "├─────────────────────────────────┼────────────────────────┼───────────────┤\n",
       "│ flatten_2 (<span style=\"color: #0087ff; text-decoration-color: #0087ff\">Flatten</span>)             │ (<span style=\"color: #00d7ff; text-decoration-color: #00d7ff\">None</span>, <span style=\"color: #00af00; text-decoration-color: #00af00\">800</span>)            │             <span style=\"color: #00af00; text-decoration-color: #00af00\">0</span> │\n",
       "├─────────────────────────────────┼────────────────────────┼───────────────┤\n",
       "│ dense_4 (<span style=\"color: #0087ff; text-decoration-color: #0087ff\">Dense</span>)                 │ (<span style=\"color: #00d7ff; text-decoration-color: #00d7ff\">None</span>, <span style=\"color: #00af00; text-decoration-color: #00af00\">128</span>)            │       <span style=\"color: #00af00; text-decoration-color: #00af00\">102,528</span> │\n",
       "├─────────────────────────────────┼────────────────────────┼───────────────┤\n",
       "│ dense_5 (<span style=\"color: #0087ff; text-decoration-color: #0087ff\">Dense</span>)                 │ (<span style=\"color: #00d7ff; text-decoration-color: #00d7ff\">None</span>, <span style=\"color: #00af00; text-decoration-color: #00af00\">10</span>)             │         <span style=\"color: #00af00; text-decoration-color: #00af00\">1,290</span> │\n",
       "└─────────────────────────────────┴────────────────────────┴───────────────┘\n",
       "</pre>\n"
      ],
      "text/plain": [
       "┏━━━━━━━━━━━━━━━━━━━━━━━━━━━━━━━━━┳━━━━━━━━━━━━━━━━━━━━━━━━┳━━━━━━━━━━━━━━━┓\n",
       "┃\u001b[1m \u001b[0m\u001b[1mLayer (type)                   \u001b[0m\u001b[1m \u001b[0m┃\u001b[1m \u001b[0m\u001b[1mOutput Shape          \u001b[0m\u001b[1m \u001b[0m┃\u001b[1m \u001b[0m\u001b[1m      Param #\u001b[0m\u001b[1m \u001b[0m┃\n",
       "┡━━━━━━━━━━━━━━━━━━━━━━━━━━━━━━━━━╇━━━━━━━━━━━━━━━━━━━━━━━━╇━━━━━━━━━━━━━━━┩\n",
       "│ conv2d (\u001b[38;5;33mConv2D\u001b[0m)                 │ (\u001b[38;5;45mNone\u001b[0m, \u001b[38;5;34m26\u001b[0m, \u001b[38;5;34m26\u001b[0m, \u001b[38;5;34m32\u001b[0m)     │           \u001b[38;5;34m320\u001b[0m │\n",
       "├─────────────────────────────────┼────────────────────────┼───────────────┤\n",
       "│ max_pooling2d (\u001b[38;5;33mMaxPooling2D\u001b[0m)    │ (\u001b[38;5;45mNone\u001b[0m, \u001b[38;5;34m13\u001b[0m, \u001b[38;5;34m13\u001b[0m, \u001b[38;5;34m32\u001b[0m)     │             \u001b[38;5;34m0\u001b[0m │\n",
       "├─────────────────────────────────┼────────────────────────┼───────────────┤\n",
       "│ conv2d_1 (\u001b[38;5;33mConv2D\u001b[0m)               │ (\u001b[38;5;45mNone\u001b[0m, \u001b[38;5;34m11\u001b[0m, \u001b[38;5;34m11\u001b[0m, \u001b[38;5;34m32\u001b[0m)     │         \u001b[38;5;34m9,248\u001b[0m │\n",
       "├─────────────────────────────────┼────────────────────────┼───────────────┤\n",
       "│ max_pooling2d_1 (\u001b[38;5;33mMaxPooling2D\u001b[0m)  │ (\u001b[38;5;45mNone\u001b[0m, \u001b[38;5;34m5\u001b[0m, \u001b[38;5;34m5\u001b[0m, \u001b[38;5;34m32\u001b[0m)       │             \u001b[38;5;34m0\u001b[0m │\n",
       "├─────────────────────────────────┼────────────────────────┼───────────────┤\n",
       "│ flatten_2 (\u001b[38;5;33mFlatten\u001b[0m)             │ (\u001b[38;5;45mNone\u001b[0m, \u001b[38;5;34m800\u001b[0m)            │             \u001b[38;5;34m0\u001b[0m │\n",
       "├─────────────────────────────────┼────────────────────────┼───────────────┤\n",
       "│ dense_4 (\u001b[38;5;33mDense\u001b[0m)                 │ (\u001b[38;5;45mNone\u001b[0m, \u001b[38;5;34m128\u001b[0m)            │       \u001b[38;5;34m102,528\u001b[0m │\n",
       "├─────────────────────────────────┼────────────────────────┼───────────────┤\n",
       "│ dense_5 (\u001b[38;5;33mDense\u001b[0m)                 │ (\u001b[38;5;45mNone\u001b[0m, \u001b[38;5;34m10\u001b[0m)             │         \u001b[38;5;34m1,290\u001b[0m │\n",
       "└─────────────────────────────────┴────────────────────────┴───────────────┘\n"
      ]
     },
     "metadata": {},
     "output_type": "display_data"
    },
    {
     "data": {
      "text/html": [
       "<pre style=\"white-space:pre;overflow-x:auto;line-height:normal;font-family:Menlo,'DejaVu Sans Mono',consolas,'Courier New',monospace\"><span style=\"font-weight: bold\"> Total params: </span><span style=\"color: #00af00; text-decoration-color: #00af00\">113,386</span> (442.91 KB)\n",
       "</pre>\n"
      ],
      "text/plain": [
       "\u001b[1m Total params: \u001b[0m\u001b[38;5;34m113,386\u001b[0m (442.91 KB)\n"
      ]
     },
     "metadata": {},
     "output_type": "display_data"
    },
    {
     "data": {
      "text/html": [
       "<pre style=\"white-space:pre;overflow-x:auto;line-height:normal;font-family:Menlo,'DejaVu Sans Mono',consolas,'Courier New',monospace\"><span style=\"font-weight: bold\"> Trainable params: </span><span style=\"color: #00af00; text-decoration-color: #00af00\">113,386</span> (442.91 KB)\n",
       "</pre>\n"
      ],
      "text/plain": [
       "\u001b[1m Trainable params: \u001b[0m\u001b[38;5;34m113,386\u001b[0m (442.91 KB)\n"
      ]
     },
     "metadata": {},
     "output_type": "display_data"
    },
    {
     "data": {
      "text/html": [
       "<pre style=\"white-space:pre;overflow-x:auto;line-height:normal;font-family:Menlo,'DejaVu Sans Mono',consolas,'Courier New',monospace\"><span style=\"font-weight: bold\"> Non-trainable params: </span><span style=\"color: #00af00; text-decoration-color: #00af00\">0</span> (0.00 B)\n",
       "</pre>\n"
      ],
      "text/plain": [
       "\u001b[1m Non-trainable params: \u001b[0m\u001b[38;5;34m0\u001b[0m (0.00 B)\n"
      ]
     },
     "metadata": {},
     "output_type": "display_data"
    },
    {
     "name": "stdout",
     "output_type": "stream",
     "text": [
      "\n",
      "MODEL TRAINING:\n",
      "Epoch 1/5\n",
      "\u001b[1m1875/1875\u001b[0m \u001b[32m━━━━━━━━━━━━━━━━━━━━\u001b[0m\u001b[37m\u001b[0m \u001b[1m18s\u001b[0m 9ms/step - accuracy: 0.7691 - loss: 0.6501\n",
      "Epoch 2/5\n",
      "\u001b[1m1875/1875\u001b[0m \u001b[32m━━━━━━━━━━━━━━━━━━━━\u001b[0m\u001b[37m\u001b[0m \u001b[1m17s\u001b[0m 9ms/step - accuracy: 0.8826 - loss: 0.3237\n",
      "Epoch 3/5\n",
      "\u001b[1m1875/1875\u001b[0m \u001b[32m━━━━━━━━━━━━━━━━━━━━\u001b[0m\u001b[37m\u001b[0m \u001b[1m16s\u001b[0m 8ms/step - accuracy: 0.8995 - loss: 0.2729\n",
      "Epoch 4/5\n",
      "\u001b[1m1875/1875\u001b[0m \u001b[32m━━━━━━━━━━━━━━━━━━━━\u001b[0m\u001b[37m\u001b[0m \u001b[1m15s\u001b[0m 8ms/step - accuracy: 0.9108 - loss: 0.2401\n",
      "Epoch 5/5\n",
      "\u001b[1m1875/1875\u001b[0m \u001b[32m━━━━━━━━━━━━━━━━━━━━\u001b[0m\u001b[37m\u001b[0m \u001b[1m15s\u001b[0m 8ms/step - accuracy: 0.9192 - loss: 0.2153\n",
      "\n",
      "MODEL EVALUATION:\n",
      "\u001b[1m313/313\u001b[0m \u001b[32m━━━━━━━━━━━━━━━━━━━━\u001b[0m\u001b[37m\u001b[0m \u001b[1m1s\u001b[0m 4ms/step - accuracy: 0.8921 - loss: 0.3041\n"
     ]
    }
   ],
   "source": [
    "# Define the model\n",
    "model = tf.keras.models.Sequential([\n",
    "                                                         \n",
    "  # Add convolutions and max pooling\n",
    "  tf.keras.Input(shape=(28, 28, 1)),\n",
    "  tf.keras.layers.Conv2D(32, (3,3), activation='relu'),\n",
    "  tf.keras.layers.MaxPooling2D(2, 2),\n",
    "  tf.keras.layers.Conv2D(32, (3,3), activation='relu'),\n",
    "  tf.keras.layers.MaxPooling2D(2,2),\n",
    "\n",
    "  # Add the same layers as before\n",
    "  tf.keras.layers.Flatten(),\n",
    "  tf.keras.layers.Dense(128, activation='relu'),\n",
    "  tf.keras.layers.Dense(10, activation='softmax')\n",
    "])\n",
    "\n",
    "# Print the model summary\n",
    "model.summary()\n",
    "\n",
    "# Use same settings\n",
    "model.compile(optimizer='adam', loss='sparse_categorical_crossentropy', metrics=['accuracy'])\n",
    "\n",
    "# Train the model\n",
    "print(f'\\nMODEL TRAINING:')\n",
    "model.fit(training_images, training_labels, epochs=5)\n",
    "\n",
    "# Evaluate on the test set\n",
    "print(f'\\nMODEL EVALUATION:')\n",
    "test_loss = model.evaluate(test_images, test_labels)\n"
   ]
  },
  {
   "cell_type": "code",
   "execution_count": 5,
   "metadata": {},
   "outputs": [
    {
     "data": {
      "text/plain": [
       "[<Variable path=sequential_2/conv2d/kernel, shape=(3, 3, 1, 32), dtype=float32, value=[[[[ 0.31788135  0.43529287  0.22310978  0.05397725 -0.8892025\n",
       "     -0.11012127 -0.13399452 -0.49399018 -0.12661287 -0.23365226\n",
       "      0.03429323 -0.61979973  0.04163551  0.1989281  -0.22917101\n",
       "     -0.15290067 -0.4510421  -0.15268378  0.13061303  0.25426075\n",
       "     -0.1834171  -0.12196398  0.2775642   0.01440199  0.17652078\n",
       "      0.03505506 -0.612185   -0.08351048  0.01938369  0.312888\n",
       "     -0.25481847 -0.0445233 ]]\n",
       " \n",
       "   [[-0.17723416 -0.1178924   0.1661108  -0.0998284  -1.080738\n",
       "      0.15037018  0.01461421 -1.2062651  -0.01027555  0.24398607\n",
       "     -0.12032564 -0.5920977   0.2023828  -0.2717822  -0.08891589\n",
       "      0.18105046 -0.7293166   0.18103635  0.11840628  0.15243053\n",
       "     -0.01337423  0.07241341  0.09226913 -0.11536346 -0.11886232\n",
       "     -0.01776944 -0.09010608  0.06772234  0.29293424 -0.27825925\n",
       "     -1.0523689  -0.28769013]]\n",
       " \n",
       "   [[-0.1645605  -0.3580416  -0.02558916  0.06051145 -0.6716313\n",
       "      0.06264041  0.03448946 -0.06421608  0.06794268  0.01965718\n",
       "     -0.06323844 -0.6266552  -0.15164016  0.02294216  0.21372972\n",
       "     -0.08001668 -0.26070753 -0.02365472  0.05965149  0.06497385\n",
       "      0.21933806 -0.03278089  0.17417848  0.1604688   0.11808272\n",
       "     -0.2758183  -0.28203696  0.10686148 -0.05317589 -0.00489092\n",
       "     -0.4460042   0.02675592]]]\n",
       " \n",
       " \n",
       "  [[[ 0.24209385 -0.20793411  0.09384325  0.0443981   0.1652249\n",
       "     -0.03534218 -0.05350449 -0.365529   -0.1464497  -0.30194992\n",
       "      0.01730192 -0.95320827  0.22020228  0.20328738 -0.05183529\n",
       "      0.02897727  0.13173349  0.31179342  0.11528397 -0.00279232\n",
       "     -0.25889173 -0.10292054  0.00697842 -0.06096454 -0.26277024\n",
       "      0.26469448 -0.30494702 -0.08470729 -1.0060946   0.15646115\n",
       "     -0.15916976 -0.03447424]]\n",
       " \n",
       "   [[-0.07001374 -1.0790684   0.14275478  0.0953718  -0.20993836\n",
       "      0.1745363   0.06139715 -0.64166373 -0.06636004  0.18308744\n",
       "     -0.02280379 -0.8420002   0.02530397 -0.14300376 -0.1011312\n",
       "     -0.07334132  0.17464001 -0.2519791   0.05997904 -0.0265402\n",
       "      0.22602792  0.14537646 -0.1024366  -0.21702373 -0.6725343\n",
       "      0.05617474 -0.05496036 -0.21862827 -0.14206135 -0.13013206\n",
       "     -0.45194805  0.02071478]]\n",
       " \n",
       "   [[-0.13365321 -1.1551838  -0.02455016  0.05205571 -0.01458554\n",
       "     -0.12462905 -0.1495657  -0.08384353  0.22597109  0.12692836\n",
       "     -0.22426522 -0.41761056 -0.24541084 -0.1331574   0.04079702\n",
       "      0.02749978  0.26676807 -0.15466315  0.00416206  0.11529328\n",
       "      0.03865069  0.12396608  0.11392871  0.28002077 -0.15111135\n",
       "     -0.27501872  0.17427996  0.22564834  0.2560064  -0.02425587\n",
       "     -0.5610385  -0.17141837]]]\n",
       " \n",
       " \n",
       "  [[[ 0.13314457 -0.1881429  -0.18230951 -0.04961136 -0.08346909\n",
       "     -0.05990093 -0.05954051  0.1636428  -0.33013055 -0.00749295\n",
       "      0.04501373 -0.07989172  0.15814263  0.17647702  0.24749117\n",
       "     -0.11405935  0.14221953 -0.15716605 -0.16182041 -0.13105932\n",
       "     -0.22162156 -0.16935955 -0.2904468  -0.03416732  0.04642006\n",
       "     -0.00973945 -0.15051521  0.20491879 -1.4279305   0.10384059\n",
       "      0.34993586  0.0598693 ]]\n",
       " \n",
       "   [[-0.03696987 -0.79325193 -0.22038384  0.12092211  0.04346783\n",
       "     -0.04071807  0.1610497   0.10357752 -0.22031909  0.07174498\n",
       "      0.03950072 -0.20784219  0.16017896 -0.11313881  0.18912266\n",
       "     -0.15560459 -0.01255601  0.07647856 -0.21070619 -0.31245336\n",
       "      0.12593898  0.19166796 -0.01361279 -0.17348126 -0.20160727\n",
       "      0.2084772   0.02805125 -0.27617615 -0.39545545 -0.15496783\n",
       "     -0.11988379  0.2782999 ]]\n",
       " \n",
       "   [[-0.04245394 -0.43023914 -0.10026008  0.06799383  0.26604217\n",
       "     -0.11775579 -0.02410308  0.14663629  0.05531167 -0.0612811\n",
       "     -0.08173732  0.07169514 -0.31618494  0.06050039 -0.22138073\n",
       "      0.2036462  -0.04221261  0.18239188 -0.08893696 -0.24705957\n",
       "      0.11245877 -0.11040869 -0.25128356  0.16711362  0.16423772\n",
       "     -0.03908832  0.10607517  0.05780241  0.04985033  0.05922551\n",
       "     -0.40346524  0.12804824]]]]>,\n",
       " <Variable path=sequential_2/conv2d/bias, shape=(32,), dtype=float32, value=[-0.00397381  0.17430809  0.00769307 -0.05838722  0.10498394 -0.03497522\n",
       "  -0.01064363  0.13839892  0.05233117 -0.00316501 -0.0487641   0.21710464\n",
       "  -0.01396019 -0.01158192 -0.00927577  0.00436217  0.06339751  0.00509131\n",
       "  -0.00378161  0.05254301  0.00257301 -0.01086051  0.00049159 -0.01278916\n",
       "   0.04720617  0.00081952  0.18011506 -0.00809875  0.10705154 -0.01655141\n",
       "   0.11461059 -0.01182837]>,\n",
       " <Variable path=sequential_2/conv2d_1/kernel, shape=(3, 3, 32, 32), dtype=float32, value=[[[[-5.82019351e-02 -1.67010739e-01 -3.56256038e-01 ...  1.52877688e-01\n",
       "     -2.00596318e-01 -1.45806327e-01]\n",
       "    [-1.76482111e-01 -6.36671185e-02 -2.22379230e-02 ...  4.87733521e-02\n",
       "      1.30967557e-01  3.23507339e-01]\n",
       "    [ 6.03738800e-02 -1.49126172e-01 -3.52004260e-01 ... -3.06454394e-02\n",
       "      2.51286551e-02 -2.54739165e-01]\n",
       "    ...\n",
       "    [ 1.00111686e-01  5.52511290e-02 -6.64363652e-02 ...  1.01161763e-01\n",
       "     -1.85249224e-02 -1.50070861e-01]\n",
       "    [-3.50702032e-02 -5.02576232e-02  1.04685307e-01 ... -1.32785305e-01\n",
       "      9.50968415e-02  4.79689121e-01]\n",
       "    [ 7.43573606e-02 -2.30889320e-01  1.30661026e-01 ... -5.59140481e-02\n",
       "      5.01972437e-02  1.21925436e-01]]\n",
       " \n",
       "   [[ 5.77989854e-02  8.01952407e-02 -1.82716381e-02 ... -1.46037340e-01\n",
       "     -1.74212083e-01 -2.04818249e-01]\n",
       "    [ 3.85930762e-02 -1.51261806e-01 -9.46268588e-02 ... -3.47405612e-01\n",
       "     -7.34070409e-03  2.05410898e-01]\n",
       "    [ 1.10252574e-01  1.15674213e-02  8.01128745e-02 ...  5.03925681e-02\n",
       "      8.45332816e-02 -3.54793161e-01]\n",
       "    ...\n",
       "    [ 1.87823534e-01  2.49797516e-02 -4.08624746e-02 ... -3.05048358e-02\n",
       "     -6.92320094e-02 -1.86652079e-01]\n",
       "    [-5.21221682e-02  4.22803909e-02 -1.03133194e-01 ... -3.91908139e-01\n",
       "     -3.07451487e-01  2.89417654e-01]\n",
       "    [-4.39927690e-02 -1.40769199e-01  7.64845610e-02 ... -2.88462669e-01\n",
       "      1.44558132e-01 -1.22355893e-01]]\n",
       " \n",
       "   [[ 6.15359694e-02  4.94486094e-02  2.06327215e-01 ... -1.27311558e-01\n",
       "     -3.80513445e-02 -2.32046440e-01]\n",
       "    [-1.56284109e-01 -8.62420276e-02 -2.04905018e-01 ... -9.36335251e-02\n",
       "      1.45990297e-01  1.32997915e-01]\n",
       "    [ 3.91846783e-02 -1.37669951e-01 -1.14238765e-02 ... -4.12328392e-02\n",
       "      7.61180073e-02 -2.54739728e-02]\n",
       "    ...\n",
       "    [ 2.13819891e-01  5.87343909e-02  2.59783477e-01 ... -3.24763507e-01\n",
       "      4.66093421e-02 -1.17148243e-01]\n",
       "    [-5.92170507e-02 -4.86053675e-02 -2.71664649e-01 ... -1.21384308e-01\n",
       "     -2.40998298e-01  9.22283530e-02]\n",
       "    [-2.09684935e-04  5.08378148e-02  8.36043656e-02 ...  2.02264905e-01\n",
       "      4.61799093e-02 -1.29444793e-01]]]\n",
       " \n",
       " \n",
       "  [[[-1.93697706e-01 -2.21169237e-02 -2.53286958e-01 ...  5.45725562e-02\n",
       "      1.76350418e-02  2.47005355e-02]\n",
       "    [-5.55652343e-02  7.30863214e-02 -4.22364831e-01 ... -4.23094556e-02\n",
       "      2.05982849e-01 -7.50281662e-02]\n",
       "    [ 4.56490219e-02 -1.63845167e-01 -1.78086638e-01 ...  1.38144910e-01\n",
       "     -1.80698156e-01  1.75375506e-01]\n",
       "    ...\n",
       "    [-2.35939890e-01  2.28792280e-01 -2.39616349e-01 ...  1.49736941e-01\n",
       "     -3.42661627e-02 -3.83584052e-02]\n",
       "    [-2.04044893e-01  7.36144111e-02 -1.69345632e-01 ...  1.73906192e-01\n",
       "      2.09506199e-01  8.56778398e-02]\n",
       "    [-7.42656067e-02 -1.55886933e-02  1.06183812e-02 ...  2.26656049e-01\n",
       "      1.40108839e-01 -1.63330100e-02]]\n",
       " \n",
       "   [[-1.12096937e-02  1.57561138e-01  1.12356350e-01 ... -1.47151411e-01\n",
       "     -3.96178439e-02 -7.92524070e-02]\n",
       "    [ 4.86777835e-02 -2.90030062e-01  1.32572263e-01 ... -2.37964436e-01\n",
       "     -2.09653378e-01  1.64943650e-01]\n",
       "    [ 6.16211742e-02  3.76199409e-02  2.61894226e-01 ... -3.24502885e-01\n",
       "      7.84907956e-03 -2.04241723e-01]\n",
       "    ...\n",
       "    [ 2.12267060e-02 -2.80066915e-02 -7.02956691e-02 ...  6.43255711e-02\n",
       "     -1.79721773e-01  1.10885225e-01]\n",
       "    [-8.28161463e-02  2.87664942e-02 -7.09737465e-02 ... -4.04166281e-02\n",
       "     -2.83306479e-01  8.21056664e-02]\n",
       "    [-1.97854653e-01  8.43571201e-02  1.12424091e-01 ... -6.15741573e-02\n",
       "      1.64774582e-01  1.53450504e-01]]\n",
       " \n",
       "   [[-2.44587734e-02  1.15205795e-01  1.04136979e-02 ... -1.66631415e-01\n",
       "      1.38399750e-03 -5.99463582e-02]\n",
       "    [-2.67368287e-01 -5.53919710e-02 -1.73745021e-01 ...  6.99077919e-02\n",
       "      4.61520791e-01 -7.16540664e-02]\n",
       "    [-1.26644626e-01 -2.98062768e-02  1.08912200e-01 ...  1.00431465e-01\n",
       "     -1.10289328e-01 -8.71637613e-02]\n",
       "    ...\n",
       "    [-5.83747495e-03 -7.36438707e-02  1.39015364e-02 ... -2.98327208e-01\n",
       "      1.98472038e-01 -1.26845092e-01]\n",
       "    [-2.13659421e-01 -8.47766101e-02 -2.74189323e-01 ...  8.70841369e-02\n",
       "     -8.12983289e-02 -1.21481158e-01]\n",
       "    [-4.87231463e-03  1.21162102e-01 -1.91020101e-01 ... -1.15326449e-01\n",
       "     -1.45282760e-01 -3.20924073e-02]]]\n",
       " \n",
       " \n",
       "  [[[-1.35449558e-01  4.23556194e-02 -1.96099877e-02 ... -1.04272999e-01\n",
       "     -3.16815883e-01 -4.84823100e-02]\n",
       "    [ 1.72988206e-01  2.34821066e-01 -6.04847781e-02 ... -2.08345294e-01\n",
       "     -1.37606084e-01 -1.05295904e-01]\n",
       "    [ 4.72516976e-02  8.63664895e-02  6.20363988e-02 ...  9.26477611e-02\n",
       "      8.03223550e-02 -1.43400114e-02]\n",
       "    ...\n",
       "    [-2.63633728e-01  1.77946150e-01 -2.51154844e-02 ... -1.57975890e-02\n",
       "     -1.14596218e-01  1.05483108e-03]\n",
       "    [ 1.45306513e-01 -1.16931468e-01  1.61517709e-02 ... -1.77407518e-01\n",
       "      7.18570054e-02 -6.09301962e-02]\n",
       "    [ 2.62961358e-01 -2.47492678e-02  8.67327899e-02 ...  2.36364771e-02\n",
       "      1.84881926e-01  4.16036360e-02]]\n",
       " \n",
       "   [[-3.73051013e-03  4.13421765e-02 -3.07133235e-02 ... -1.22151049e-02\n",
       "     -2.44371183e-02 -3.97526957e-02]\n",
       "    [ 3.42888504e-01 -5.08313954e-01  1.04727723e-01 ... -2.61442035e-01\n",
       "     -1.29453212e-01  6.09861761e-02]\n",
       "    [ 6.02837913e-02 -5.43850707e-03  1.50016084e-01 ... -3.58806700e-01\n",
       "      1.57016650e-01 -1.58977762e-01]\n",
       "    ...\n",
       "    [ 3.74009390e-03 -5.43358698e-02  1.12264544e-01 ...  1.40702911e-02\n",
       "     -1.15820974e-01 -8.43770802e-02]\n",
       "    [ 1.92858413e-01 -2.14472681e-01  2.60325700e-01 ... -1.70660481e-01\n",
       "     -6.50778785e-02 -9.74069387e-02]\n",
       "    [-6.92369938e-02  2.24111795e-01  1.29261971e-01 ...  1.82129163e-02\n",
       "      4.31840345e-02  1.13440827e-01]]\n",
       " \n",
       "   [[-9.14662778e-02 -1.15729660e-01 -3.52101512e-02 ... -4.12620232e-03\n",
       "      1.38172852e-02  6.29378781e-02]\n",
       "    [-1.77461267e-01 -1.36643305e-01 -8.30030739e-02 ... -1.61459923e-01\n",
       "      3.28188181e-01 -2.17495933e-01]\n",
       "    [-1.39629215e-01 -3.40905264e-02  1.42225519e-01 ... -9.94304568e-02\n",
       "     -1.61996949e-02 -7.41635263e-02]\n",
       "    ...\n",
       "    [-9.72723812e-02 -4.97068390e-02 -1.15221508e-01 ... -1.90227032e-01\n",
       "      2.24456653e-01  8.21058452e-02]\n",
       "    [-3.28039944e-01  1.21854423e-02 -1.09373387e-02 ...  1.46361470e-01\n",
       "     -8.61992016e-02 -1.41883537e-01]\n",
       "    [-5.74718155e-02  1.14353992e-01  9.22533497e-02 ... -3.92053183e-03\n",
       "     -2.72161752e-01  9.38507766e-02]]]]>,\n",
       " <Variable path=sequential_2/conv2d_1/bias, shape=(32,), dtype=float32, value=[ 0.14072241 -0.0169588  -0.02996043 -0.09376154 -0.03958243 -0.03981858\n",
       "   0.03017546 -0.05139827 -0.03824441  0.06822537  0.14365147  0.11205325\n",
       "   0.05183294 -0.13707124 -0.19670059 -0.05567011  0.24976908 -0.06256887\n",
       "   0.02253803  0.00597654  0.00836869  0.2571297   0.08938901  0.08594512\n",
       "  -0.08704741  0.0200728  -0.00451391 -0.02238177  0.02139983  0.02865146\n",
       "  -0.05086937 -0.09640968]>,\n",
       " <Variable path=sequential_2/dense_4/kernel, shape=(800, 128), dtype=float32, value=[[ 0.05908028 -0.06026156 -0.00221424 ...  0.00297732  0.05402703\n",
       "    0.03057297]\n",
       "  [-0.01901554 -0.06661365 -0.01659718 ... -0.09062535  0.00762979\n",
       "    0.06766318]\n",
       "  [-0.1279355  -0.03099849  0.0641928  ... -0.04303957  0.10546899\n",
       "    0.07303891]\n",
       "  ...\n",
       "  [-0.10203219 -0.08688215 -0.01508609 ... -0.2226895   0.18328576\n",
       "    0.10797887]\n",
       "  [ 0.01936384 -0.08556028  0.21513486 ... -0.12964095 -0.08639292\n",
       "    0.03621326]\n",
       "  [ 0.19383411 -0.00685189  0.0467611  ...  0.197911   -0.23949428\n",
       "   -0.36934134]]>,\n",
       " <Variable path=sequential_2/dense_4/bias, shape=(128,), dtype=float32, value=[-0.11733813 -0.01335701  0.03412094 -0.03501623  0.0748826   0.06678054\n",
       "  -0.03309853 -0.05476489  0.00623197  0.01919367  0.02948795  0.05170475\n",
       "   0.05169775  0.00277306 -0.0962981  -0.04611775 -0.07804862  0.06968632\n",
       "  -0.05242769 -0.03530142 -0.0071685   0.01332321  0.1056255  -0.03001854\n",
       "   0.01388093  0.02952185 -0.01034984  0.07343058  0.05194971 -0.00647633\n",
       "  -0.01335905  0.01229994 -0.03373361 -0.00515101  0.01719472  0.08317408\n",
       "  -0.09703679 -0.00490094 -0.00621893 -0.01139748  0.0116153   0.06246276\n",
       "  -0.03722136  0.15865815 -0.03955769 -0.07500228  0.09728056 -0.04046524\n",
       "  -0.01969484  0.04159763 -0.01507515 -0.02956258  0.07079643 -0.00652621\n",
       "   0.10471011 -0.0435486   0.00487221  0.08877368 -0.02228956  0.04627071\n",
       "   0.04387086  0.07145878 -0.01455435 -0.03475785  0.00608473  0.06826913\n",
       "  -0.03900156  0.07650235 -0.00883323  0.02064651 -0.00473829 -0.02444618\n",
       "  -0.01574976 -0.0236361   0.09869709  0.02863706 -0.00872427 -0.03966061\n",
       "   0.07299391  0.05892742 -0.06380358  0.07060049  0.13453528  0.03034253\n",
       "  -0.00709566  0.0979543  -0.03183189 -0.03393374  0.03733084 -0.06260968\n",
       "   0.00843876  0.1060251   0.07548223  0.05068199 -0.00797289 -0.03474792\n",
       "   0.04348383 -0.02656819  0.04077479 -0.00644835  0.09227943  0.10172676\n",
       "   0.00402821  0.15739323 -0.02779304  0.07821637  0.09749017  0.02490169\n",
       "   0.05364571  0.06389663  0.02458717  0.06978355  0.09425949 -0.00501458\n",
       "   0.06073964 -0.01489787  0.07817811  0.07066129  0.02918729 -0.01315108\n",
       "   0.11745866  0.17033805 -0.05763381 -0.02169629 -0.00999238  0.02729165\n",
       "   0.14649735  0.12177273]>,\n",
       " <Variable path=sequential_2/dense_5/kernel, shape=(128, 10), dtype=float32, value=[[ 0.10658012  0.24349381 -0.13590415 ... -0.27114227 -0.16029635\n",
       "    0.07515325]\n",
       "  [-0.0014442   0.13697256 -0.15611126 ... -0.19724475  0.16388154\n",
       "   -0.18733281]\n",
       "  [ 0.18739349 -0.04725779 -0.65966976 ...  0.07451507 -0.37793374\n",
       "    0.17923124]\n",
       "  ...\n",
       "  [ 0.0706735   0.12073004 -0.3203619  ...  0.05082323  0.02742821\n",
       "   -0.2982002 ]\n",
       "  [-0.16787301  0.2694546   0.19843389 ... -0.00264638 -0.33883202\n",
       "   -0.04596359]\n",
       "  [-0.11385464  0.0979959   0.16474143 ... -0.04411988  0.20663881\n",
       "   -0.33183327]]>,\n",
       " <Variable path=sequential_2/dense_5/bias, shape=(10,), dtype=float32, value=[-0.01160031 -0.06762443  0.08149353  0.03701208 -0.12572321 -0.1363355\n",
       "   0.09431576  0.0024912   0.00077218 -0.00877123]>]"
      ]
     },
     "execution_count": 5,
     "metadata": {},
     "output_type": "execute_result"
    }
   ],
   "source": [
    "model.weights"
   ]
  },
  {
   "cell_type": "code",
   "execution_count": 6,
   "metadata": {},
   "outputs": [
    {
     "data": {
      "text/plain": [
       "[<Conv2D name=conv2d, built=True>,\n",
       " <MaxPooling2D name=max_pooling2d, built=True>,\n",
       " <Conv2D name=conv2d_1, built=True>,\n",
       " <MaxPooling2D name=max_pooling2d_1, built=True>,\n",
       " <Flatten name=flatten_2, built=True>,\n",
       " <Dense name=dense_4, built=True>,\n",
       " <Dense name=dense_5, built=True>]"
      ]
     },
     "execution_count": 6,
     "metadata": {},
     "output_type": "execute_result"
    }
   ],
   "source": [
    "model.layers"
   ]
  },
  {
   "cell_type": "code",
   "execution_count": 7,
   "metadata": {},
   "outputs": [
    {
     "data": {
      "text/plain": [
       "[<KerasTensor shape=(None, 28, 28, 1), dtype=float32, sparse=False, name=keras_tensor_8>]"
      ]
     },
     "execution_count": 7,
     "metadata": {},
     "output_type": "execute_result"
    }
   ],
   "source": [
    "model.inputs"
   ]
  },
  {
   "cell_type": "code",
   "execution_count": 8,
   "metadata": {},
   "outputs": [
    {
     "data": {
      "text/plain": [
       "[<KerasTensor shape=(None, 10), dtype=float32, sparse=False, name=keras_tensor_15>]"
      ]
     },
     "execution_count": 8,
     "metadata": {},
     "output_type": "execute_result"
    }
   ],
   "source": [
    "model.outputs"
   ]
  },
  {
   "cell_type": "markdown",
   "metadata": {
    "id": "uRLfZ0jt-fQI"
   },
   "source": [
    "It's likely gone up to about 92% on the training data and 90% on the validation data. That's significant, and a step in the right direction!\n",
    "\n",
    "Look at the code again, and see, step by step how the convolutions were built. Instead of the input layer at the top, you added a [Conv2D layer](https://www.tensorflow.org/api_docs/python/tf/keras/layers/Conv2D). The parameters are:\n",
    "\n",
    "1. The number of convolutions you want to generate. The value here is purely arbitrary but it's good to use powers of 2 starting from 32.\n",
    "2. The size of the Convolution. In this case, a 3x3 grid.\n",
    "3. The activation function to use. In this case, you used a ReLU, which you might recall is the equivalent of returning `x` when `x>0`, else return `0`.\n",
    "4. In the first layer, the shape of the input data.\n",
    "\n",
    "You'll follow the convolution with a [MaxPool2D](https://www.tensorflow.org/api_docs/python/tf/keras/layers/MaxPool2D) layer which is designed to compress the image, while maintaining the content of the features that were highlighted by the convlution. By specifying `(2,2)` for the MaxPooling, the effect is to quarter the size of the image. Without going into too much detail here, the idea is that it creates a 2x2 array of pixels, and picks the biggest one. Thus, it turns 4 pixels into 1. It repeats this across the image, and in doing so, it halves both the number of horizontal and vertical pixels, effectively reducing the image to 25% of the original image.\n",
    "\n",
    "You can call `model.summary()` to see the size and shape of the network, and you'll notice that after every max pooling layer, the image size is reduced in this way. \n",
    "\n",
    "\n",
    "```\n",
    "model = tf.keras.models.Sequential([\n",
    "  tf.keras.layers.Conv2D(32, (3,3), activation='relu', input_shape=(28, 28, 1)),\n",
    "  tf.keras.layers.MaxPooling2D(2, 2),\n",
    "```\n"
   ]
  },
  {
   "cell_type": "markdown",
   "metadata": {
    "id": "RMorM6daADjA"
   },
   "source": [
    "Then you added another convolution and flattened the output.\n",
    "\n",
    "\n",
    "\n",
    "```\n",
    "  tf.keras.layers.Conv2D(64, (3,3), activation='relu'),\n",
    "  tf.keras.layers.MaxPooling2D(2,2)\n",
    "  tf.keras.layers.Flatten(),\n",
    "  \n",
    "```\n"
   ]
  },
  {
   "cell_type": "markdown",
   "metadata": {
    "id": "qPtqR23uASjX"
   },
   "source": [
    "After this, you'll just have the same DNN structure as the non convolutional version. The same 128 dense layers, and 10 output layers as in the pre-convolution example:\n",
    "\n",
    "\n",
    "\n",
    "```\n",
    "  tf.keras.layers.Dense(128, activation='relu'),\n",
    "  tf.keras.layers.Dense(10, activation='softmax')\n",
    "])\n",
    "```\n"
   ]
  },
  {
   "cell_type": "markdown",
   "metadata": {
    "id": "Np6AjBlLYveu"
   },
   "source": [
    "## About overfitting\n",
    "\n",
    "Try running the training for more epochs -- say about 20, and explore the results. But while the results might seem really good, the validation results may actually go down, due to something called _overfitting_. In a nutshell, overfitting occurs when the network learns the data from the training set really well, but it's too specialised to only that data, and as a result is less effective at interpreting other unseen data. For example, if all your life you only saw red shoes, then when you see a red shoe you would be very good at identifying it. But blue suede shoes might confuse you... and you know you should never mess with my blue suede shoes."
   ]
  },
  {
   "cell_type": "markdown",
   "metadata": {
    "id": "IXx_LX3SAlFs"
   },
   "source": [
    "# Visualizing the Convolutions and Pooling\n",
    "\n",
    "Let's explore how to show the convolutions graphically. The cell below prints the first 100 labels in the test set, and you can see that the ones at index `0`, index `23` and index `28` are all the same value (i.e. `9`). They're all shoes. Let's take a look at the result of running the convolution on each, and you'll begin to see common features between them emerge. Now, when the dense layer is training on that data, it's working with a lot less, and it's perhaps finding a commonality between shoes based on this convolution/pooling combination."
   ]
  },
  {
   "cell_type": "code",
   "execution_count": 9,
   "metadata": {
    "id": "f-6nX4QsOku6"
   },
   "outputs": [
    {
     "name": "stdout",
     "output_type": "stream",
     "text": [
      "[9 2 1 1 6 1 4 6 5 7 4 5 7 3 4 1 2 4 8 0 2 5 7 9 1 4 6 0 9 3 8 8 3 3 8 0 7\n",
      " 5 7 9 6 1 3 7 6 7 2 1 2 2 4 4 5 8 2 2 8 4 8 0 7 7 8 5 1 1 2 3 9 8 7 0 2 6\n",
      " 2 3 1 2 8 4 1 8 5 9 5 0 3 2 0 6 5 3 6 7 1 8 0 1 4 2]\n"
     ]
    },
    {
     "ename": "",
     "evalue": "",
     "output_type": "error",
     "traceback": [
      "\u001b[1;31mThe Kernel crashed while executing code in the current cell or a previous cell. \n",
      "\u001b[1;31mPlease review the code in the cell(s) to identify a possible cause of the failure. \n",
      "\u001b[1;31mClick <a href='https://aka.ms/vscodeJupyterKernelCrash'>here</a> for more info. \n",
      "\u001b[1;31mView Jupyter <a href='command:jupyter.viewOutput'>log</a> for further details."
     ]
    }
   ],
   "source": [
    "print(test_labels[:100])"
   ]
  },
  {
   "cell_type": "code",
   "execution_count": null,
   "metadata": {},
   "outputs": [],
   "source": [
    "model = tf.keras.models.Sequential([\n",
    "                                                         \n",
    "  # Add convolutions and max pooling\n",
    "  tf.keras.Input(shape=(28, 28, 1)),\n",
    "  tf.keras.layers.Conv2D(32, (3,3), activation='relu'),\n",
    "  tf.keras.layers.MaxPooling2D(2, 2),\n",
    "  tf.keras.layers.Conv2D(32, (3,3), activation='relu'),\n",
    "  tf.keras.layers.MaxPooling2D(2,2),\n",
    "\n",
    "  # Add the same layers as before\n",
    "  tf.keras.layers.Flatten(),\n",
    "  tf.keras.layers.Dense(128, activation='relu'),\n",
    "  tf.keras.layers.Dense(10, activation='softmax')\n",
    "])"
   ]
  },
  {
   "cell_type": "code",
   "execution_count": null,
   "metadata": {
    "id": "9FGsHhv6JvDx"
   },
   "outputs": [
    {
     "name": "stdout",
     "output_type": "stream",
     "text": [
      "\u001b[1m1/1\u001b[0m \u001b[32m━━━━━━━━━━━━━━━━━━━━\u001b[0m\u001b[37m\u001b[0m \u001b[1m0s\u001b[0m 69ms/step\n"
     ]
    },
    {
     "name": "stderr",
     "output_type": "stream",
     "text": [
      "d:\\codes\\programming\\Python\\.venv\\Lib\\site-packages\\keras\\src\\models\\functional.py:238: UserWarning: The structure of `inputs` doesn't match the expected structure.\n",
      "Expected: ['keras_tensor_8']\n",
      "Received: inputs=Tensor(shape=(1, 28, 28, 1))\n",
      "  warnings.warn(msg)\n"
     ]
    },
    {
     "ename": "IndexError",
     "evalue": "too many indices for array: array is 1-dimensional, but 4 were indexed",
     "output_type": "error",
     "traceback": [
      "\u001b[1;31m---------------------------------------------------------------------------\u001b[0m",
      "\u001b[1;31mIndexError\u001b[0m                                Traceback (most recent call last)",
      "Cell \u001b[1;32mIn[15], line 16\u001b[0m\n\u001b[0;32m     14\u001b[0m \u001b[38;5;28;01mfor\u001b[39;00m x \u001b[38;5;129;01min\u001b[39;00m \u001b[38;5;28mrange\u001b[39m(\u001b[38;5;241m0\u001b[39m,\u001b[38;5;241m4\u001b[39m):\n\u001b[0;32m     15\u001b[0m   f1 \u001b[38;5;241m=\u001b[39m activation_model\u001b[38;5;241m.\u001b[39mpredict(test_images[FIRST_IMAGE]\u001b[38;5;241m.\u001b[39mreshape(\u001b[38;5;241m1\u001b[39m, \u001b[38;5;241m28\u001b[39m, \u001b[38;5;241m28\u001b[39m, \u001b[38;5;241m1\u001b[39m))[x]\n\u001b[1;32m---> 16\u001b[0m   axarr[\u001b[38;5;241m0\u001b[39m,x]\u001b[38;5;241m.\u001b[39mimshow(\u001b[43mf1\u001b[49m\u001b[43m[\u001b[49m\u001b[38;5;241;43m0\u001b[39;49m\u001b[43m,\u001b[49m\u001b[43m \u001b[49m\u001b[43m:\u001b[49m\u001b[43m \u001b[49m\u001b[43m,\u001b[49m\u001b[43m \u001b[49m\u001b[43m:\u001b[49m\u001b[43m,\u001b[49m\u001b[43m \u001b[49m\u001b[43mCONVOLUTION_NUMBER\u001b[49m\u001b[43m]\u001b[49m, cmap\u001b[38;5;241m=\u001b[39m\u001b[38;5;124m'\u001b[39m\u001b[38;5;124minferno\u001b[39m\u001b[38;5;124m'\u001b[39m)\n\u001b[0;32m     17\u001b[0m   axarr[\u001b[38;5;241m0\u001b[39m,x]\u001b[38;5;241m.\u001b[39mgrid(\u001b[38;5;28;01mFalse\u001b[39;00m)\n\u001b[0;32m     19\u001b[0m   f2 \u001b[38;5;241m=\u001b[39m activation_model\u001b[38;5;241m.\u001b[39mpredict(test_images[SECOND_IMAGE]\u001b[38;5;241m.\u001b[39mreshape(\u001b[38;5;241m1\u001b[39m, \u001b[38;5;241m28\u001b[39m, \u001b[38;5;241m28\u001b[39m, \u001b[38;5;241m1\u001b[39m))[x]\n",
      "\u001b[1;31mIndexError\u001b[0m: too many indices for array: array is 1-dimensional, but 4 were indexed"
     ]
    },
    {
     "data": {
      "image/png": "[encoded data removed]",
      "text/plain": [
       "<Figure size 640x480 with 12 Axes>"
      ]
     },
     "metadata": {},
     "output_type": "display_data"
    }
   ],
   "source": [
    "import matplotlib.pyplot as plt\n",
    "from tensorflow.keras import models\n",
    "\n",
    "f, axarr = plt.subplots(3,4)\n",
    "\n",
    "FIRST_IMAGE=0\n",
    "SECOND_IMAGE=23\n",
    "THIRD_IMAGE=28\n",
    "CONVOLUTION_NUMBER = 1\n",
    "\n",
    "layer_outputs = [layer.output for layer in model.layers]\n",
    "activation_model = tf.keras.models.Model(inputs = model.input, outputs = model.output)\n",
    "\n",
    "for x in range(0,4):\n",
    "  f1 = activation_model.predict(test_images[FIRST_IMAGE].reshape(1, 28, 28, 1))[x]\n",
    "  axarr[0,x].imshow(f1[0, : , :, CONVOLUTION_NUMBER], cmap='inferno')\n",
    "  axarr[0,x].grid(False)\n",
    "  \n",
    "  f2 = activation_model.predict(test_images[SECOND_IMAGE].reshape(1, 28, 28, 1))[x]\n",
    "  axarr[1,x].imshow(f2[0, : , :, CONVOLUTION_NUMBER], cmap='inferno')\n",
    "  axarr[1,x].grid(False)\n",
    "  \n",
    "  f3 = activation_model.predict(test_images[THIRD_IMAGE].reshape(1, 28, 28, 1))[x]\n",
    "  axarr[2,x].imshow(f3[0, : , :, CONVOLUTION_NUMBER], cmap='inferno')\n",
    "  axarr[2,x].grid(False)"
   ]
  },
  {
   "cell_type": "markdown",
   "metadata": {
    "id": "8KVPZqgHo5Ux"
   },
   "source": [
    "### EXERCISES\n",
    "\n",
    "1. Try editing the convolutions. Change the 32s to either 16 or 64. What impact will this have on accuracy and/or training time.\n",
    "\n",
    "2. Remove the final Convolution. What impact will this have on accuracy or training time?\n",
    "\n",
    "3. How about adding more Convolutions? What impact do you think this will have? Experiment with it.\n",
    "\n",
    "4. Remove all Convolutions but the first. What impact do you think this will have? Experiment with it. \n",
    "\n",
    "5. In the previous lesson you implemented a callback to check on the loss function and to cancel training once it hit a certain amount. See if you can implement that here."
   ]
  }
 ],
 "metadata": {
  "accelerator": "GPU",
  "colab": {
   "collapsed_sections": [],
   "name": "C1_W3_Lab_1_improving_accuracy_using_convolutions.ipynb",
   "private_outputs": true,
   "provenance": [
    {
     "file_id": "https://github.com/https-deeplearning-ai/tensorflow-1-public/blob/25_august_2021_fixes/C1/W3/ungraded_labs/C1_W3_Lab_1_improving_accuracy_using_convolutions.ipynb",
     "timestamp": 1638957936408
    }
   ],
   "toc_visible": true
  },
  "kernelspec": {
   "display_name": ".venv",
   "language": "python",
   "name": "python3"
  },
  "language_info": {
   "codemirror_mode": {
    "name": "ipython",
    "version": 3
   },
   "file_extension": ".py",
   "mimetype": "text/x-python",
   "name": "python",
   "nbconvert_exporter": "python",
   "pygments_lexer": "ipython3",
   "version": "3.12.3"
  }
 },
 "nbformat": 4,
 "nbformat_minor": 1
}
