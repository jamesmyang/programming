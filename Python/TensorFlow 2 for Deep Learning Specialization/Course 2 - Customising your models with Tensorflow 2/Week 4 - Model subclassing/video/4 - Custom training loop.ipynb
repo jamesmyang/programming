{
 "cells": [
  {
   "cell_type": "markdown",
   "metadata": {},
   "source": [
    "# Custom trainging loop\n",
    "https://www.coursera.org/learn/customising-models-tensorflow2/lecture/Pv0Sz/custom-training-loops"
   ]
  },
  {
   "cell_type": "code",
   "execution_count": null,
   "metadata": {},
   "outputs": [],
   "source": []
  }
 ],
 "metadata": {
  "kernelspec": {
   "display_name": ".venv",
   "language": "python",
   "name": "python3"
  },
  "language_info": {
   "name": "python",
   "version": "3.12.3"
  }
 },
 "nbformat": 4,
 "nbformat_minor": 2
}
