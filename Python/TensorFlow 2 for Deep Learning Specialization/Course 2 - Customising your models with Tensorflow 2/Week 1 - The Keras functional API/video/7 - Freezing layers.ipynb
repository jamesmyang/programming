{
 "cells": [
  {
   "cell_type": "markdown",
   "metadata": {},
   "source": [
    "# Freezing layers\n",
    "https://www.coursera.org/learn/customising-models-tensorflow2/lecture/aaZ4q/freezing-layers"
   ]
  },
  {
   "cell_type": "code",
   "execution_count": 3,
   "metadata": {},
   "outputs": [],
   "source": [
    "import keras\n",
    "\n",
    "#from tensorflow import keras\n",
    "\n",
    "#from keras import layers, models\n",
    "#from keras import models\n",
    "\n",
    "#from keras.layers import Input, Dense, Flatten, Conv1D, AveragePooling1D\n",
    "#from keras.models import Model\n",
    "\n",
    "inputs = keras.layers.Input(shape=(8, 8, 1), name='input_layer')\n",
    "h = keras.layers.Conv2D(16, 3, activation='relu', name='conv2d_layer', trainable=False)(inputs)\n",
    "h = keras.layers.MaxPooling2D(3, name='max_pool1d_layer')(h)\n",
    "h = keras.layers.Flatten(name='flatten_layer')(h)\n",
    "outputs = keras.layers.Dense(10, activation='softmax', name='softmax_layer')(h)\n",
    "\n",
    "model = keras.models.Model(inputs=inputs, outputs=outputs)\n",
    "\n"
   ]
  },
  {
   "cell_type": "code",
   "execution_count": 5,
   "metadata": {},
   "outputs": [],
   "source": [
    "import keras\n",
    "\n",
    "#from tensorflow import keras\n",
    "\n",
    "#from keras import layers, models\n",
    "#from keras import models\n",
    "\n",
    "#from keras.layers import Input, Dense, Flatten, Conv1D, AveragePooling1D\n",
    "#from keras.models import Model\n",
    "\n",
    "inputs = keras.layers.Input(shape=(8, 8, 1), name='input_layer')\n",
    "h = keras.layers.Conv2D(16, 3, activation='relu', name='conv2d_layer')(inputs)\n",
    "h = keras.layers.MaxPooling2D(3, name='max_pool1d_layer')(h)\n",
    "h = keras.layers.Flatten(name='flatten_layer')(h)\n",
    "outputs = keras.layers.Dense(10, activation='softmax', name='softmax_layer')(h)\n",
    "\n",
    "model = keras.models.Model(inputs=inputs, outputs=outputs)\n",
    "\n",
    "model.get_layer('conv2d_layer').trainable = False\n",
    "\n",
    "model.compile(loss='sparse_categorical_crossentropy')"
   ]
  },
  {
   "cell_type": "code",
   "execution_count": null,
   "metadata": {},
   "outputs": [],
   "source": [
    "import keras\n",
    "\n",
    "#from tensorflow import keras\n",
    "\n",
    "#from keras import layers, models\n",
    "#from keras import models\n",
    "\n",
    "#from keras.layers import Input, Dense, Flatten, Conv1D, AveragePooling1D\n",
    "#from keras.models import Model\n",
    "\n",
    "model.load_model('my_pretrained_model')\n",
    "\n",
    "model.trainable = False\n",
    "\n",
    "flatten_output = model.get_layer('flatten_layer').output\n",
    "new_output = keras.layers.Dense(5, activation='softmax', name='new_softmax_layer')(flatten_output)\n",
    "\n",
    "new_model = keras.models.Model(inputs=model.input, outputs=new_output)\n",
    "\n",
    "new_model.compile(loss='sparse_categorical_crossentropy')\n",
    "new_model.fit(X_train, y_train, epochs=10)"
   ]
  }
 ],
 "metadata": {
  "kernelspec": {
   "display_name": ".venv",
   "language": "python",
   "name": "python3"
  },
  "language_info": {
   "codemirror_mode": {
    "name": "ipython",
    "version": 3
   },
   "file_extension": ".py",
   "mimetype": "text/x-python",
   "name": "python",
   "nbconvert_exporter": "python",
   "pygments_lexer": "ipython3",
   "version": "3.12.3"
  }
 },
 "nbformat": 4,
 "nbformat_minor": 2
}
