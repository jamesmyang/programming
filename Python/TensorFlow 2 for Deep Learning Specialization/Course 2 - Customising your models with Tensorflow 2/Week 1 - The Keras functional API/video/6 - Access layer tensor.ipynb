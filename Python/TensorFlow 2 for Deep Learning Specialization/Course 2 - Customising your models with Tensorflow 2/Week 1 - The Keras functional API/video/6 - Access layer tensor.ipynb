{
 "cells": [
  {
   "cell_type": "markdown",
   "metadata": {},
   "source": [
    "# Access layer Tensor\n",
    "https://www.coursera.org/learn/customising-models-tensorflow2/lecture/BmJz0/accessing-layer-tensors"
   ]
  },
  {
   "cell_type": "code",
   "execution_count": 4,
   "metadata": {},
   "outputs": [
    {
     "name": "stdout",
     "output_type": "stream",
     "text": [
      "<KerasTensor shape=(None, 32, 1), dtype=float32, sparse=False, name=input_layer>\n",
      "<KerasTensor shape=(None, 28, 16), dtype=float32, sparse=False, name=keras_tensor_12>\n"
     ]
    }
   ],
   "source": [
    "import keras\n",
    "\n",
    "#from tensorflow import keras\n",
    "\n",
    "#from keras import layers, models\n",
    "#from keras import models\n",
    "\n",
    "#from keras.layers import Input, Dense, Flatten, Conv1D, AveragePooling1D\n",
    "#from keras.models import Model\n",
    "\n",
    "inputs = keras.layers.Input(shape=(32, 1), name='input_layer')\n",
    "h = keras.layers.Conv1D(16, 5, activation='relu', name='conv1d_layer')(inputs)\n",
    "h = keras.layers.AveragePooling1D(3, name='avg_pool1d_layer')(h)\n",
    "h = keras.layers.Flatten(name='flatten_layer')(h)\n",
    "outputs = keras.layers.Dense(20, activation='sigmoid', name='dense_layer')(h)\n",
    "\n",
    "model = keras.models.Model(inputs=inputs, outputs=outputs)\n",
    "\n",
    "print(model.get_layer('conv1d_layer').input)\n",
    "print(model.get_layer('conv1d_layer').output)"
   ]
  },
  {
   "cell_type": "code",
   "execution_count": null,
   "metadata": {},
   "outputs": [
    {
     "name": "stdout",
     "output_type": "stream",
     "text": [
      "<KerasTensor shape=(None, 32, 1), dtype=float32, sparse=False, name=input_layer>\n",
      "<KerasTensor shape=(None, 28, 16), dtype=float32, sparse=False, name=keras_tensor_20>\n"
     ]
    }
   ],
   "source": [
    "import keras\n",
    "\n",
    "#from tensorflow import keras\n",
    "\n",
    "#from keras import layers, models\n",
    "#from keras import models\n",
    "\n",
    "#from keras.layers import Input, Dense, Flatten, Conv1D, AveragePooling1D\n",
    "#from keras.models import Model\n",
    "\n",
    "inputs = keras.layers.Input(shape=(32, 1), name='input_layer')\n",
    "h = keras.layers.Conv1D(16, 5, activation='relu', name='conv1d_layer')(inputs)\n",
    "h = keras.layers.AveragePooling1D(3, name='avg_pool1d_layer')(h)\n",
    "h = keras.layers.Flatten(name='flatten_layer')(h)\n",
    "outputs = keras.layers.Dense(20, activation='sigmoid', name='dense_layer')(h)\n",
    "\n",
    "model = keras.models.Model(inputs=inputs, outputs=outputs)\n",
    "\n",
    "flatten_output = model.get_layer('flatten_layer').output\n",
    "\n",
    "model2 = keras.models.Model(inputs=model.input, outputs=flatten_output)\n",
    "\n",
    "model3 = keras.models.Sequential([\n",
    "    model2,\n",
    "    keras.layers.Dense(10, activation='softmax', name='new_dense_layer')\n",
    "])"
   ]
  },
  {
   "cell_type": "code",
   "execution_count": 7,
   "metadata": {},
   "outputs": [],
   "source": [
    "import keras\n",
    "\n",
    "#from tensorflow import keras\n",
    "\n",
    "#from keras import layers, models\n",
    "#from keras import models\n",
    "\n",
    "#from keras.layers import Input, Dense, Flatten, Conv1D, AveragePooling1D\n",
    "#from keras.models import Model\n",
    "\n",
    "inputs = keras.layers.Input(shape=(32, 1), name='input_layer')\n",
    "h = keras.layers.Conv1D(16, 5, activation='relu', name='conv1d_layer')(inputs)\n",
    "h = keras.layers.AveragePooling1D(3, name='avg_pool1d_layer')(h)\n",
    "h = keras.layers.Flatten(name='flatten_layer')(h)\n",
    "outputs = keras.layers.Dense(20, activation='sigmoid', name='dense_layer')(h)\n",
    "\n",
    "model = keras.models.Model(inputs=inputs, outputs=outputs)\n",
    "\n",
    "flatten_output = model.get_layer('flatten_layer').output\n",
    "\n",
    "model2 = keras.models.Model(inputs=model.input, outputs=flatten_output)\n",
    "\n",
    "new_outputs= keras.layers.Dense(10, activation='softmax', name='new_dense_layer')(model2.output)\n",
    "\n",
    "model3 = keras.models.Model(inputs=model2.input, outputs=new_outputs)"
   ]
  },
  {
   "cell_type": "code",
   "execution_count": 8,
   "metadata": {},
   "outputs": [],
   "source": [
    "import keras\n",
    "\n",
    "#from tensorflow import keras\n",
    "\n",
    "#from keras import layers, models\n",
    "#from keras import models\n",
    "\n",
    "#from keras.layers import Input, Dense, Flatten, Conv1D, AveragePooling1D\n",
    "#from keras.models import Model\n",
    "\n",
    "inputs = keras.layers.Input(shape=(32, 1), name='input_layer')\n",
    "h = keras.layers.Conv1D(16, 5, activation='relu', name='conv1d_layer')(inputs)\n",
    "h = keras.layers.AveragePooling1D(3, name='avg_pool1d_layer')(h)\n",
    "h = keras.layers.Flatten(name='flatten_layer')(h)\n",
    "outputs = keras.layers.Dense(20, activation='sigmoid', name='dense_layer')(h)\n",
    "\n",
    "model = keras.models.Model(inputs=inputs, outputs=outputs)\n",
    "\n",
    "flatten_output = model.get_layer('flatten_layer').output\n",
    "\n",
    "new_outputs= keras.layers.Dense(10, activation='softmax', name='new_dense_layer')(flatten_output)\n",
    "\n",
    "model3 = keras.models.Model(inputs=model.input, outputs=new_outputs)"
   ]
  }
 ],
 "metadata": {
  "kernelspec": {
   "display_name": ".venv",
   "language": "python",
   "name": "python3"
  },
  "language_info": {
   "codemirror_mode": {
    "name": "ipython",
    "version": 3
   },
   "file_extension": ".py",
   "mimetype": "text/x-python",
   "name": "python",
   "nbconvert_exporter": "python",
   "pygments_lexer": "ipython3",
   "version": "3.12.3"
  }
 },
 "nbformat": 4,
 "nbformat_minor": 2
}
