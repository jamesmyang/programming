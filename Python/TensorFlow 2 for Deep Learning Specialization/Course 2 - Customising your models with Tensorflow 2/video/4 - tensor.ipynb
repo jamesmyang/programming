{
 "cells": [
  {
   "cell_type": "markdown",
   "metadata": {},
   "source": [
    "# Tensor\n",
    "https://www.coursera.org/learn/customising-models-tensorflow2/lecture/uOCx9/tensors"
   ]
  },
  {
   "cell_type": "code",
   "execution_count": 4,
   "metadata": {},
   "outputs": [],
   "source": [
    "import tensorflow as tf"
   ]
  },
  {
   "cell_type": "code",
   "execution_count": 5,
   "metadata": {},
   "outputs": [
    {
     "name": "stdout",
     "output_type": "stream",
     "text": [
      "tf.Tensor([4. 6.], shape=(2,), dtype=float32)\n"
     ]
    }
   ],
   "source": [
    "my_var = tf.Variable([-1, 2], dtype=tf.float32, name='my_var')\n",
    "h = my_var + [5, 4]\n",
    "\n",
    "print(h)"
   ]
  },
  {
   "cell_type": "code",
   "execution_count": 2,
   "metadata": {},
   "outputs": [],
   "source": [
    "import keras"
   ]
  },
  {
   "cell_type": "code",
   "execution_count": 3,
   "metadata": {},
   "outputs": [
    {
     "name": "stdout",
     "output_type": "stream",
     "text": [
      "<KerasTensor shape=(None, 16), dtype=float32, sparse=False, name=keras_tensor_3>\n"
     ]
    }
   ],
   "source": [
    "inputs = keras.layers.Input(shape=(5,))\n",
    "h = keras.layers.Dense(16, activation='sigmoid')(inputs)\n",
    "\n",
    "print(h)"
   ]
  },
  {
   "cell_type": "code",
   "execution_count": 1,
   "metadata": {},
   "outputs": [
    {
     "name": "stdout",
     "output_type": "stream",
     "text": [
      "<KerasTensor shape=(None, 16), dtype=float32, sparse=False, name=keras_tensor_1>\n"
     ]
    }
   ],
   "source": [
    "from tensorflow.keras.layers import Dense, Input\n",
    "\n",
    "inputs = Input(shape=(5,))\n",
    "h = Dense(16, activation='sigmoid')(inputs)\n",
    "\n",
    "print(h)"
   ]
  },
  {
   "cell_type": "code",
   "execution_count": 9,
   "metadata": {},
   "outputs": [
    {
     "name": "stdout",
     "output_type": "stream",
     "text": [
      "<KerasTensor shape=(None, 16), dtype=float32, sparse=False, name=keras_tensor_12>\n",
      "<KerasTensor shape=(None, 10), dtype=float32, sparse=False, name=keras_tensor_13>\n"
     ]
    }
   ],
   "source": [
    "from tensorflow.keras.layers import Dense, Input\n",
    "\n",
    "inputs = Input(shape=(5,))\n",
    "h = Dense(16, activation='sigmoid')(inputs)\n",
    "outputs = Dense(10, activation='softmax')(h)\n",
    "\n",
    "print(h)\n",
    "print(outputs)"
   ]
  },
  {
   "cell_type": "code",
   "execution_count": 1,
   "metadata": {},
   "outputs": [
    {
     "name": "stdout",
     "output_type": "stream",
     "text": [
      "<KerasTensor shape=(None, 5), dtype=float32, sparse=False, name=keras_tensor>\n",
      "<KerasTensor shape=(None, 10), dtype=float32, sparse=False, name=keras_tensor_2>\n"
     ]
    }
   ],
   "source": [
    "#from tensorflow.keras.layers import Dense, Input\n",
    "#from tensorflow.keras.models import Model\n",
    "\n",
    "import keras\n",
    "\n",
    "inputs = keras.layers.Input(shape=(5,))\n",
    "h = keras.layers.Dense(16, activation='sigmoid')(inputs)\n",
    "outputs = keras.layers.Dense(10, activation='softmax')(h)\n",
    "\n",
    "model = keras.models.Model(inputs=inputs, outputs=outputs)\n",
    "\n",
    "print(model.input)\n",
    "print(model.output)"
   ]
  },
  {
   "cell_type": "code",
   "execution_count": 2,
   "metadata": {},
   "outputs": [
    {
     "name": "stdout",
     "output_type": "stream",
     "text": [
      "tf.Tensor(\n",
      "[[5 2]\n",
      " [1 3]], shape=(2, 2), dtype=int32)\n"
     ]
    }
   ],
   "source": [
    "import tensorflow as tf \n",
    "\n",
    "x = tf.constant([[5, 2], [1, 3]])\n",
    "print(x)"
   ]
  },
  {
   "cell_type": "code",
   "execution_count": 5,
   "metadata": {},
   "outputs": [
    {
     "name": "stdout",
     "output_type": "stream",
     "text": [
      "[[5 2]\n",
      " [1 3]]\n"
     ]
    }
   ],
   "source": [
    "import tensorflow as tf \n",
    "\n",
    "x = tf.constant([[5, 2], [1, 3]])\n",
    "x_arr = x.numpy()\n",
    "print(x_arr)"
   ]
  },
  {
   "cell_type": "code",
   "execution_count": 6,
   "metadata": {},
   "outputs": [
    {
     "name": "stdout",
     "output_type": "stream",
     "text": [
      "tf.Tensor(\n",
      "[[1.]\n",
      " [1.]], shape=(2, 1), dtype=float32)\n",
      "tf.Tensor(\n",
      "[[1.]\n",
      " [1.]], shape=(2, 1), dtype=float32)\n"
     ]
    }
   ],
   "source": [
    "import tensorflow as tf \n",
    "\n",
    "x = tf.ones(shape=(2, 1))\n",
    "print(x)\n",
    "\n",
    "y = tf.ones(shape=(2,1))\n",
    "print(y)"
   ]
  },
  {
   "cell_type": "code",
   "execution_count": 7,
   "metadata": {},
   "outputs": [
    {
     "name": "stdout",
     "output_type": "stream",
     "text": [
      "<KerasTensor shape=(None, 512), dtype=float32, sparse=False, name=keras_tensor_6>\n"
     ]
    }
   ],
   "source": [
    "from tensorflow.keras.models import Model\n",
    "from tensorflow.keras.layers import Input, Conv2D, AveragePooling2D, Flatten\n",
    "\n",
    "inputs = Input(shape=(16, 16, 3))\n",
    "h = Conv2D(32, 3, activation='relu')(inputs)\n",
    "h = AveragePooling2D(3)(h)\n",
    "outputs = Flatten()(h)\n",
    "model = Model(inputs=inputs, outputs=outputs)\n",
    "print(model.output)"
   ]
  }
 ],
 "metadata": {
  "kernelspec": {
   "display_name": ".venv",
   "language": "python",
   "name": "python3"
  },
  "language_info": {
   "codemirror_mode": {
    "name": "ipython",
    "version": 3
   },
   "file_extension": ".py",
   "mimetype": "text/x-python",
   "name": "python",
   "nbconvert_exporter": "python",
   "pygments_lexer": "ipython3",
   "version": "3.12.3"
  }
 },
 "nbformat": 4,
 "nbformat_minor": 2
}
