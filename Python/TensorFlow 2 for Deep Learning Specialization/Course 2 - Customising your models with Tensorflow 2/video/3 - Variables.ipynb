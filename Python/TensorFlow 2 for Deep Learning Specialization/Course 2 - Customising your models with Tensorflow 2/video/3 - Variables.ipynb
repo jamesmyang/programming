{
 "cells": [
  {
   "cell_type": "markdown",
   "metadata": {},
   "source": [
    "# Variables\n",
    "https://www.coursera.org/learn/customising-models-tensorflow2/lecture/0c2hM/variables"
   ]
  },
  {
   "cell_type": "code",
   "execution_count": 12,
   "metadata": {},
   "outputs": [],
   "source": [
    "#from keras.layers import Dense\n",
    "#from keras.models import Sequential\n",
    "\n",
    "import keras"
   ]
  },
  {
   "cell_type": "code",
   "execution_count": 13,
   "metadata": {},
   "outputs": [
    {
     "name": "stdout",
     "output_type": "stream",
     "text": [
      "[<Variable path=sequential_4/dense_4/kernel, shape=(4, 1), dtype=float32, value=[[ 0.5383172]\n",
      " [ 0.5904602]\n",
      " [ 0.0382216]\n",
      " [-1.0610542]]>, <Variable path=sequential_4/dense_4/bias, shape=(1,), dtype=float32, value=[0.]>]\n"
     ]
    }
   ],
   "source": [
    "model = keras.models.Sequential([\n",
    "    keras.layers.Dense(1, input_shape=(4,))\n",
    "])\n",
    "\n",
    "print(model.weights)"
   ]
  },
  {
   "cell_type": "code",
   "execution_count": 14,
   "metadata": {},
   "outputs": [
    {
     "name": "stdout",
     "output_type": "stream",
     "text": [
      "[<Variable path=sequential_5/dense_5/kernel, shape=(4, 1), dtype=float32, value=[[-0.4960307]\n",
      " [-0.9310868]\n",
      " [ 0.7488376]\n",
      " [ 1.0413909]]>, <Variable path=sequential_5/dense_5/bias, shape=(1,), dtype=float32, value=[0.]>]\n"
     ]
    }
   ],
   "source": [
    "from tensorflow.keras.layers import Dense\n",
    "from tensorflow.keras.models import Sequential\n",
    "\n",
    "model = Sequential([\n",
    "    Dense(1, input_shape=(4,))\n",
    "])\n",
    "\n",
    "print(model.weights)"
   ]
  },
  {
   "cell_type": "code",
   "execution_count": 15,
   "metadata": {},
   "outputs": [],
   "source": [
    "import tensorflow as tf "
   ]
  },
  {
   "cell_type": "code",
   "execution_count": 18,
   "metadata": {},
   "outputs": [
    {
     "name": "stdout",
     "output_type": "stream",
     "text": [
      "[<Variable path=sequential_7/dense_7/kernel, shape=(4, 1), dtype=float32, value=[[-0.63037467]\n",
      " [-0.32922792]\n",
      " [ 0.494092  ]\n",
      " [ 1.0224752 ]]>, <Variable path=sequential_7/dense_7/bias, shape=(1,), dtype=float32, value=[0.]>]\n"
     ]
    }
   ],
   "source": [
    "model = tf.keras.models.Sequential([\n",
    "    tf.keras.layers.Dense(1, input_shape=(4,))\n",
    "])\n",
    "\n",
    "print(model.weights)"
   ]
  },
  {
   "cell_type": "code",
   "execution_count": 16,
   "metadata": {},
   "outputs": [
    {
     "name": "stdout",
     "output_type": "stream",
     "text": [
      "<tf.Variable 'Variable:0' shape=(2,) dtype=int32, numpy=array([-1,  2], dtype=int32)>\n"
     ]
    }
   ],
   "source": [
    "my_var = tf.Variable([-1, 2])\n",
    "print(my_var)"
   ]
  },
  {
   "cell_type": "code",
   "execution_count": 19,
   "metadata": {},
   "outputs": [
    {
     "name": "stdout",
     "output_type": "stream",
     "text": [
      "<tf.Variable 'Variable:0' shape=(2,) dtype=float32, numpy=array([-1.,  2.], dtype=float32)>\n"
     ]
    }
   ],
   "source": [
    "my_var = tf.Variable([-1, 2], dtype=tf.float32)\n",
    "print(my_var)"
   ]
  },
  {
   "cell_type": "code",
   "execution_count": 20,
   "metadata": {},
   "outputs": [
    {
     "name": "stdout",
     "output_type": "stream",
     "text": [
      "<tf.Variable 'my_var:0' shape=(2,) dtype=float32, numpy=array([-1.,  2.], dtype=float32)>\n"
     ]
    }
   ],
   "source": [
    "my_var = tf.Variable([-1, 2], dtype=tf.float32, name='my_var')\n",
    "print(my_var)"
   ]
  },
  {
   "cell_type": "code",
   "execution_count": 27,
   "metadata": {},
   "outputs": [
    {
     "name": "stdout",
     "output_type": "stream",
     "text": [
      "<tf.Variable 'my_var:0' shape=(2,) dtype=float32, numpy=array([ 3.5, -1. ], dtype=float32)>\n"
     ]
    }
   ],
   "source": [
    "my_var = tf.Variable([-1, 2], dtype=tf.float32, name='my_var')\n",
    "my_var.assign([3.5, -1])\n",
    "print(my_var)"
   ]
  }
 ],
 "metadata": {
  "kernelspec": {
   "display_name": ".venv",
   "language": "python",
   "name": "python3"
  },
  "language_info": {
   "codemirror_mode": {
    "name": "ipython",
    "version": 3
   },
   "file_extension": ".py",
   "mimetype": "text/x-python",
   "name": "python",
   "nbconvert_exporter": "python",
   "pygments_lexer": "ipython3",
   "version": "3.12.3"
  }
 },
 "nbformat": 4,
 "nbformat_minor": 2
}
