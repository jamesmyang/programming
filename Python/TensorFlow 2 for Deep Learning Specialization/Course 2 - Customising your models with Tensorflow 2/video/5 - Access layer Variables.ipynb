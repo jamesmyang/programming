{
 "cells": [
  {
   "cell_type": "markdown",
   "metadata": {},
   "source": [
    "# Access layer Variables\n",
    "https://www.coursera.org/learn/customising-models-tensorflow2/lecture/FRfRt/accessing-layer-variables"
   ]
  },
  {
   "cell_type": "code",
   "execution_count": 6,
   "metadata": {},
   "outputs": [],
   "source": [
    "import keras\n",
    "\n",
    "#from tensorflow import keras\n",
    "\n",
    "#from keras import layers, models\n",
    "#from keras import models\n",
    "\n",
    "#from keras.layers import Input, Dense, Flatten, Conv1D, AveragePooling1D\n",
    "#from keras.models import Model\n",
    "\n",
    "inputs = keras.layers.Input(shape=(32, 1))\n",
    "h = keras.layers.Conv1D(16, 5, activation='relu')(inputs)\n",
    "h = keras.layers.AveragePooling1D(3)(h)\n",
    "h = keras.layers.Flatten()(h)\n",
    "outputs = keras.layers.Dense(20, activation='sigmoid')(h)\n",
    "\n",
    "model = keras.models.Model(inputs=inputs, outputs=outputs)"
   ]
  },
  {
   "cell_type": "code",
   "execution_count": 4,
   "metadata": {},
   "outputs": [
    {
     "name": "stdout",
     "output_type": "stream",
     "text": [
      "[<InputLayer name=input_layer_2, built=True>, <Conv1D name=conv1d_2, built=True>, <AveragePooling1D name=average_pooling1d_2, built=True>, <Flatten name=flatten_2, built=True>, <Dense name=dense_2, built=True>]\n"
     ]
    }
   ],
   "source": [
    "print(model.layers)"
   ]
  },
  {
   "cell_type": "code",
   "execution_count": 7,
   "metadata": {},
   "outputs": [
    {
     "name": "stdout",
     "output_type": "stream",
     "text": [
      "<Conv1D name=conv1d_4, built=True>\n"
     ]
    }
   ],
   "source": [
    "print(model.layers[1])"
   ]
  },
  {
   "cell_type": "code",
   "execution_count": 9,
   "metadata": {},
   "outputs": [
    {
     "name": "stdout",
     "output_type": "stream",
     "text": [
      "[<Variable path=conv1d_4/kernel, shape=(5, 1, 16), dtype=float32, value=[[[ 0.20512077  0.13245943  0.25593457  0.16715029  0.07671282\n",
      "    0.02821594  0.11857018 -0.13508157  0.1039992  -0.12890476\n",
      "   -0.17110962 -0.00730872  0.15668958  0.09343365  0.23650649\n",
      "   -0.07782331]]\n",
      "\n",
      " [[ 0.00090039 -0.05240782  0.14557856 -0.23292719  0.18088081\n",
      "   -0.0460131   0.22723022  0.07037631 -0.01980232 -0.21286649\n",
      "    0.1876604  -0.13780251  0.24779126  0.18992814  0.1257\n",
      "   -0.07007056]]\n",
      "\n",
      " [[ 0.18967122  0.15724427 -0.11324058  0.17071524 -0.11888658\n",
      "   -0.00765747  0.15911433  0.11819333  0.09359238  0.04715571\n",
      "   -0.07821293 -0.23350489  0.19709602 -0.06637855 -0.19114833\n",
      "    0.23530194]]\n",
      "\n",
      " [[ 0.11628243  0.02334327 -0.21201204  0.1071519   0.08614445\n",
      "    0.17447963  0.21828002 -0.09205317  0.13590074  0.10794565\n",
      "    0.03544554 -0.18041384  0.11075267 -0.0927639   0.08396161\n",
      "   -0.02163182]]\n",
      "\n",
      " [[-0.12324788 -0.1409452  -0.19100556  0.1341098   0.01568463\n",
      "    0.01771134 -0.02238594  0.1473121   0.05768311 -0.01022279\n",
      "   -0.26412505  0.20675525 -0.10506545  0.11526412  0.15492392\n",
      "    0.04910138]]]>, <Variable path=conv1d_4/bias, shape=(16,), dtype=float32, value=[0. 0. 0. 0. 0. 0. 0. 0. 0. 0. 0. 0. 0. 0. 0. 0.]>]\n"
     ]
    }
   ],
   "source": [
    "print(model.layers[1].weights)"
   ]
  },
  {
   "cell_type": "code",
   "execution_count": 11,
   "metadata": {},
   "outputs": [
    {
     "name": "stdout",
     "output_type": "stream",
     "text": [
      "[array([[[ 0.20512077,  0.13245943,  0.25593457,  0.16715029,\n",
      "          0.07671282,  0.02821594,  0.11857018, -0.13508157,\n",
      "          0.1039992 , -0.12890476, -0.17110962, -0.00730872,\n",
      "          0.15668958,  0.09343365,  0.23650649, -0.07782331]],\n",
      "\n",
      "       [[ 0.00090039, -0.05240782,  0.14557856, -0.23292719,\n",
      "          0.18088081, -0.0460131 ,  0.22723022,  0.07037631,\n",
      "         -0.01980232, -0.21286649,  0.1876604 , -0.13780251,\n",
      "          0.24779126,  0.18992814,  0.1257    , -0.07007056]],\n",
      "\n",
      "       [[ 0.18967122,  0.15724427, -0.11324058,  0.17071524,\n",
      "         -0.11888658, -0.00765747,  0.15911433,  0.11819333,\n",
      "          0.09359238,  0.04715571, -0.07821293, -0.23350489,\n",
      "          0.19709602, -0.06637855, -0.19114833,  0.23530194]],\n",
      "\n",
      "       [[ 0.11628243,  0.02334327, -0.21201204,  0.1071519 ,\n",
      "          0.08614445,  0.17447963,  0.21828002, -0.09205317,\n",
      "          0.13590074,  0.10794565,  0.03544554, -0.18041384,\n",
      "          0.11075267, -0.0927639 ,  0.08396161, -0.02163182]],\n",
      "\n",
      "       [[-0.12324788, -0.1409452 , -0.19100556,  0.1341098 ,\n",
      "          0.01568463,  0.01771134, -0.02238594,  0.1473121 ,\n",
      "          0.05768311, -0.01022279, -0.26412505,  0.20675525,\n",
      "         -0.10506545,  0.11526412,  0.15492392,  0.04910138]]],\n",
      "      dtype=float32), array([0., 0., 0., 0., 0., 0., 0., 0., 0., 0., 0., 0., 0., 0., 0., 0.],\n",
      "      dtype=float32)]\n"
     ]
    }
   ],
   "source": [
    "print(model.layers[1].get_weights())"
   ]
  },
  {
   "cell_type": "code",
   "execution_count": 13,
   "metadata": {},
   "outputs": [
    {
     "name": "stdout",
     "output_type": "stream",
     "text": [
      "<Variable path=conv1d_4/kernel, shape=(5, 1, 16), dtype=float32, value=[[[ 0.20512077  0.13245943  0.25593457  0.16715029  0.07671282\n",
      "    0.02821594  0.11857018 -0.13508157  0.1039992  -0.12890476\n",
      "   -0.17110962 -0.00730872  0.15668958  0.09343365  0.23650649\n",
      "   -0.07782331]]\n",
      "\n",
      " [[ 0.00090039 -0.05240782  0.14557856 -0.23292719  0.18088081\n",
      "   -0.0460131   0.22723022  0.07037631 -0.01980232 -0.21286649\n",
      "    0.1876604  -0.13780251  0.24779126  0.18992814  0.1257\n",
      "   -0.07007056]]\n",
      "\n",
      " [[ 0.18967122  0.15724427 -0.11324058  0.17071524 -0.11888658\n",
      "   -0.00765747  0.15911433  0.11819333  0.09359238  0.04715571\n",
      "   -0.07821293 -0.23350489  0.19709602 -0.06637855 -0.19114833\n",
      "    0.23530194]]\n",
      "\n",
      " [[ 0.11628243  0.02334327 -0.21201204  0.1071519   0.08614445\n",
      "    0.17447963  0.21828002 -0.09205317  0.13590074  0.10794565\n",
      "    0.03544554 -0.18041384  0.11075267 -0.0927639   0.08396161\n",
      "   -0.02163182]]\n",
      "\n",
      " [[-0.12324788 -0.1409452  -0.19100556  0.1341098   0.01568463\n",
      "    0.01771134 -0.02238594  0.1473121   0.05768311 -0.01022279\n",
      "   -0.26412505  0.20675525 -0.10506545  0.11526412  0.15492392\n",
      "    0.04910138]]]>\n"
     ]
    }
   ],
   "source": [
    "print(model.layers[1].kernel)"
   ]
  },
  {
   "cell_type": "code",
   "execution_count": 14,
   "metadata": {},
   "outputs": [
    {
     "name": "stdout",
     "output_type": "stream",
     "text": [
      "<Variable path=conv1d_4/bias, shape=(16,), dtype=float32, value=[0. 0. 0. 0. 0. 0. 0. 0. 0. 0. 0. 0. 0. 0. 0. 0.]>\n"
     ]
    }
   ],
   "source": [
    "print(model.layers[1].bias)"
   ]
  },
  {
   "cell_type": "code",
   "execution_count": 10,
   "metadata": {},
   "outputs": [
    {
     "name": "stdout",
     "output_type": "stream",
     "text": [
      "[<Variable path=conv1d_4/kernel, shape=(5, 1, 16), dtype=float32, value=[[[ 0.20512077  0.13245943  0.25593457  0.16715029  0.07671282\n",
      "    0.02821594  0.11857018 -0.13508157  0.1039992  -0.12890476\n",
      "   -0.17110962 -0.00730872  0.15668958  0.09343365  0.23650649\n",
      "   -0.07782331]]\n",
      "\n",
      " [[ 0.00090039 -0.05240782  0.14557856 -0.23292719  0.18088081\n",
      "   -0.0460131   0.22723022  0.07037631 -0.01980232 -0.21286649\n",
      "    0.1876604  -0.13780251  0.24779126  0.18992814  0.1257\n",
      "   -0.07007056]]\n",
      "\n",
      " [[ 0.18967122  0.15724427 -0.11324058  0.17071524 -0.11888658\n",
      "   -0.00765747  0.15911433  0.11819333  0.09359238  0.04715571\n",
      "   -0.07821293 -0.23350489  0.19709602 -0.06637855 -0.19114833\n",
      "    0.23530194]]\n",
      "\n",
      " [[ 0.11628243  0.02334327 -0.21201204  0.1071519   0.08614445\n",
      "    0.17447963  0.21828002 -0.09205317  0.13590074  0.10794565\n",
      "    0.03544554 -0.18041384  0.11075267 -0.0927639   0.08396161\n",
      "   -0.02163182]]\n",
      "\n",
      " [[-0.12324788 -0.1409452  -0.19100556  0.1341098   0.01568463\n",
      "    0.01771134 -0.02238594  0.1473121   0.05768311 -0.01022279\n",
      "   -0.26412505  0.20675525 -0.10506545  0.11526412  0.15492392\n",
      "    0.04910138]]]>, <Variable path=conv1d_4/bias, shape=(16,), dtype=float32, value=[0. 0. 0. 0. 0. 0. 0. 0. 0. 0. 0. 0. 0. 0. 0. 0.]>, <Variable path=dense_4/kernel, shape=(144, 20), dtype=float32, value=[[-0.11058135 -0.17288318 -0.16940553 ...  0.06570874  0.15277444\n",
      "  -0.06020522]\n",
      " [-0.12179186 -0.03079778 -0.1663215  ...  0.13289984 -0.14301132\n",
      "   0.15711598]\n",
      " [ 0.00172497 -0.10019463 -0.08294619 ...  0.15029947  0.06018613\n",
      "   0.05989181]\n",
      " ...\n",
      " [ 0.12031721  0.09419309  0.08889981 ...  0.11530609  0.10573103\n",
      "   0.1605253 ]\n",
      " [-0.00861487  0.11653237  0.05547778 ...  0.15288739 -0.0430717\n",
      "   0.04942116]\n",
      " [ 0.14143272 -0.13745108  0.14715464 ... -0.01306427 -0.0572356\n",
      "  -0.0473163 ]]>, <Variable path=dense_4/bias, shape=(20,), dtype=float32, value=[0. 0. 0. 0. 0. 0. 0. 0. 0. 0. 0. 0. 0. 0. 0. 0. 0. 0. 0. 0.]>]\n"
     ]
    }
   ],
   "source": [
    "print(model.weights)"
   ]
  },
  {
   "cell_type": "code",
   "execution_count": 26,
   "metadata": {},
   "outputs": [
    {
     "name": "stdout",
     "output_type": "stream",
     "text": [
      "<Variable path=conv1d_layer/bias, shape=(16,), dtype=float32, value=[0. 0. 0. 0. 0. 0. 0. 0. 0. 0. 0. 0. 0. 0. 0. 0.]>\n",
      "<tf.Variable 'conv1d_layer/bias:0' shape=(16,) dtype=float32, numpy=\n",
      "array([0., 0., 0., 0., 0., 0., 0., 0., 0., 0., 0., 0., 0., 0., 0., 0.],\n",
      "      dtype=float32)>\n"
     ]
    }
   ],
   "source": [
    "import keras\n",
    "\n",
    "#from tensorflow import keras\n",
    "\n",
    "#from keras import layers, models\n",
    "#from keras import models\n",
    "\n",
    "#from keras.layers import Input, Dense, Flatten, Conv1D, AveragePooling1D\n",
    "#from keras.models import Model\n",
    "\n",
    "inputs = keras.layers.Input(shape=(32, 1), name='input_layer')\n",
    "h = keras.layers.Conv1D(16, 5, activation='relu', name='conv1d_layer')(inputs)\n",
    "h = keras.layers.AveragePooling1D(3, name='avg_pool1d_layer')(h)\n",
    "h = keras.layers.Flatten(name='flatten_layer')(h)\n",
    "outputs = keras.layers.Dense(20, activation='sigmoid', name='dense_layer')(h)\n",
    "\n",
    "model = keras.models.Model(inputs=inputs, outputs=outputs)\n",
    "\n",
    "print(model.get_layer('conv1d_layer').bias)\n",
    "print(model.get_layer('conv1d_layer').bias.value)"
   ]
  }
 ],
 "metadata": {
  "kernelspec": {
   "display_name": ".venv",
   "language": "python",
   "name": "python3"
  },
  "language_info": {
   "codemirror_mode": {
    "name": "ipython",
    "version": 3
   },
   "file_extension": ".py",
   "mimetype": "text/x-python",
   "name": "python",
   "nbconvert_exporter": "python",
   "pygments_lexer": "ipython3",
   "version": "3.12.3"
  }
 },
 "nbformat": 4,
 "nbformat_minor": 2
}
