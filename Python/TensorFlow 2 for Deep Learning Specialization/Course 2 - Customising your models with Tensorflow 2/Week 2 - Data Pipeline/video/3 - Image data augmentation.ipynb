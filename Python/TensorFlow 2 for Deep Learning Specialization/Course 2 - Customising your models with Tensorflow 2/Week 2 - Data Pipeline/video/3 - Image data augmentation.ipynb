{
 "cells": [
  {
   "cell_type": "markdown",
   "id": "36966c354cf1461f",
   "metadata": {},
   "source": [
    "# Image data augmentation\n",
    "https://www.coursera.org/learn/customising-models-tensorflow2/lecture/F5nCP/keras-image-data-augmentation"
   ]
  },
  {
   "cell_type": "markdown",
   "id": "9f4e4512",
   "metadata": {},
   "source": [
    "from tensorflow.keras.datasets import cifar10\n",
    "from tensorflow.keras.preprocessing.image import ImageDataGenerator\n",
    "\n",
    "(x_train, y_train), (x_test, y_test) = cifar10.load_data()\n",
    "\n",
    "image_data_gen = ImageDataGenerator(rescale=1/255.)"
   ]
  },
  {
   "cell_type": "markdown",
   "id": "291c020f",
   "metadata": {},
   "source": [
    "import tensorflow as tf \n",
    "print(tf.__version__)"
   ]
  },
  {
   "cell_type": "markdown",
   "id": "ba170fa0",
   "metadata": {},
   "source": [
    "import tensorflow as tf \n",
    "print(tf.keras.__version__)"
   ]
  },
  {
   "cell_type": "markdown",
   "id": "20f9eb2d",
   "metadata": {},
   "source": [
    "import keras\n",
    "print(keras.__version__)"
   ]
  },
  {
   "cell_type": "markdown",
   "id": "6ebc9673",
   "metadata": {},
   "source": [
    "import keras\n",
    "\n",
    "(x_train, y_train), (x_test, y_test) = keras.datasets.cifar10.load_data()\n",
    "\n",
    "image_data_gen = keras.preprocessing.image.ImageDataGenerator(rescale=1/255.)"
   ]
  },
  {
   "cell_type": "code",
   "execution_count": 11,
   "id": "927a7345",
   "metadata": {},
   "outputs": [],
   "source": [
    "from tensorflow.keras.datasets import cifar10\n",
    "from tensorflow.keras.preprocessing.image import ImageDataGenerator\n",
    "\n",
    "(x_train, y_train), (x_test, y_test) = cifar10.load_data()\n",
    "\n",
    "image_data_gen = ImageDataGenerator(rescale=1/255., \n",
    "                                    horizontal_flip=True,\n",
    "                                    height_shift_range=0.2, \n",
    "                                    fill_mode='nearest',         \n",
    "                                    featurewise_center=True)\n",
    "\n",
    "image_data_gen.fit(x_train)\n",
    "\n",
    "train_datagen = image_data_gen.flow(x_train, y_train, batch_size=16)\n",
    "\n",
    "model.fit_generator(train_datagen, epochs=20)"
   ]
  }
 ],
 "metadata": {
  "kernelspec": {
   "display_name": ".venv",
   "language": "python",
   "name": "python3"
  },
  "language_info": {
   "codemirror_mode": {
    "name": "ipython",
    "version": 3
   },
   "file_extension": ".py",
   "mimetype": "text/x-python",
   "name": "python",
   "nbconvert_exporter": "python",
   "pygments_lexer": "ipython3",
   "version": "3.12.3"
  }
 },
 "nbformat": 4,
 "nbformat_minor": 5
}
