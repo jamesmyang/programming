{
 "cells": [
  {
   "cell_type": "markdown",
   "metadata": {},
   "source": [
    "# numpy.ravel\n",
    "https://numpy.org/doc/stable/reference/generated/numpy.ravel.html#numpy-ravel"
   ]
  },
  {
   "cell_type": "markdown",
   "metadata": {},
   "source": [
    "numpy.ravel(a, order='C')\n",
    "[source]\n",
    "\n",
    "Return a contiguous flattened array.\n",
    "\n",
    "A 1-D array, containing the elements of the input, is returned. A copy is made only if needed.\n",
    "\n",
    "As of NumPy 1.10, the returned array will have the same type as the input array. (for example, a masked array will be returned for a masked array input)\n",
    "\n",
    "Parameters:\n",
    "\n",
    "    a\n",
    "    array_like\n",
    "\n",
    "        Input array. The elements in a are read in the order specified by order, and packed as a 1-D array.\n",
    "    order\n",
    "    {‘C’,’F’, ‘A’, ‘K’}, optional\n",
    "\n",
    "        The elements of a are read using this index order. ‘C’ means to index the elements in row-major, C-style order, with the last axis index changing fastest, back to the first axis index changing slowest. ‘F’ means to index the elements in column-major, Fortran-style order, with the first index changing fastest, and the last index changing slowest. Note that the ‘C’ and ‘F’ options take no account of the memory layout of the underlying array, and only refer to the order of axis indexing. ‘A’ means to read the elements in Fortran-like index order if a is Fortran contiguous in memory, C-like order otherwise. ‘K’ means to read the elements in the order they occur in memory, except for reversing the data when strides are negative. By default, ‘C’ index order is used.\n",
    "\n",
    "Returns:\n",
    "\n",
    "    y\n",
    "    array_like\n",
    "\n",
    "        y is a contiguous 1-D array of the same subtype as a, with shape (a.size,). Note that matrices are special cased for backward compatibility, if a is a matrix, then y is a 1-D ndarray.\n",
    "\n",
    "See also\n",
    "\n",
    "ndarray.flat\n",
    "\n",
    "    1-D iterator over an array.\n",
    "ndarray.flatten\n",
    "\n",
    "    1-D array copy of the elements of an array in row-major order.\n",
    "ndarray.reshape\n",
    "\n",
    "    Change the shape of an array without changing its data.\n",
    "\n",
    "Notes\n",
    "\n",
    "In row-major, C-style order, in two dimensions, the row index varies the slowest, and the column index the quickest. This can be generalized to multiple dimensions, where row-major order implies that the index along the first axis varies slowest, and the index along the last quickest. The opposite holds for column-major, Fortran-style index ordering.\n",
    "\n",
    "When a view is desired in as many cases as possible, arr.reshape(-1) may be preferable. However, ravel supports K in the optional order argument while reshape does not."
   ]
  },
  {
   "cell_type": "code",
   "execution_count": 1,
   "metadata": {},
   "outputs": [
    {
     "data": {
      "text/plain": [
       "array([1, 2, 3, 4, 5, 6])"
      ]
     },
     "execution_count": 1,
     "metadata": {},
     "output_type": "execute_result"
    },
    {
     "ename": "",
     "evalue": "",
     "output_type": "error",
     "traceback": [
      "\u001b[1;31mThe Kernel crashed while executing code in the current cell or a previous cell. \n",
      "\u001b[1;31mPlease review the code in the cell(s) to identify a possible cause of the failure. \n",
      "\u001b[1;31mClick <a href='https://aka.ms/vscodeJupyterKernelCrash'>here</a> for more info. \n",
      "\u001b[1;31mView Jupyter <a href='command:jupyter.viewOutput'>log</a> for further details."
     ]
    }
   ],
   "source": [
    "import numpy as np\n",
    "\n",
    "x = np.array([[1, 2, 3], [4, 5, 6]])\n",
    "\n",
    "np.ravel(x)"
   ]
  },
  {
   "cell_type": "code",
   "execution_count": null,
   "metadata": {},
   "outputs": [],
   "source": []
  }
 ],
 "metadata": {
  "kernelspec": {
   "display_name": ".venv",
   "language": "python",
   "name": "python3"
  },
  "language_info": {
   "codemirror_mode": {
    "name": "ipython",
    "version": 3
   },
   "file_extension": ".py",
   "mimetype": "text/x-python",
   "name": "python",
   "nbconvert_exporter": "python",
   "pygments_lexer": "ipython3",
   "version": "3.12.3"
  }
 },
 "nbformat": 4,
 "nbformat_minor": 2
}
