{
 "cells": [
  {
   "cell_type": "markdown",
   "metadata": {},
   "source": [
    "# numpy.pad\n",
    "https://numpy.org/doc/stable/reference/generated/numpy.pad.html#numpy-pad"
   ]
  },
  {
   "cell_type": "markdown",
   "metadata": {},
   "source": [
    "numpy.pad(array, pad_width, mode='constant', **kwargs)\n",
    "[source]\n",
    "\n",
    "Pad an array.\n",
    "\n",
    "Parameters:\n",
    "\n",
    "    arrayarray_like of rank N\n",
    "\n",
    "        The array to pad.\n",
    "    pad_width{sequence, array_like, int}\n",
    "\n",
    "        Number of values padded to the edges of each axis. ((before_1, after_1), ... (before_N, after_N)) unique pad widths for each axis. (before, after) or ((before, after),) yields same before and after pad for each axis. (pad,) or int is a shortcut for before = after = pad width for all axes.\n",
    "    modestr or function, optional\n",
    "\n",
    "        One of the following string values or a user supplied function.\n",
    "\n",
    "        ‘constant’ (default)\n",
    "\n",
    "            Pads with a constant value.\n",
    "        ‘edge’\n",
    "\n",
    "            Pads with the edge values of array.\n",
    "        ‘linear_ramp’\n",
    "\n",
    "            Pads with the linear ramp between end_value and the array edge value.\n",
    "        ‘maximum’\n",
    "\n",
    "            Pads with the maximum value of all or part of the vector along each axis.\n",
    "        ‘mean’\n",
    "\n",
    "            Pads with the mean value of all or part of the vector along each axis.\n",
    "        ‘median’\n",
    "\n",
    "            Pads with the median value of all or part of the vector along each axis.\n",
    "        ‘minimum’\n",
    "\n",
    "            Pads with the minimum value of all or part of the vector along each axis.\n",
    "        ‘reflect’\n",
    "\n",
    "            Pads with the reflection of the vector mirrored on the first and last values of the vector along each axis.\n",
    "        ‘symmetric’\n",
    "\n",
    "            Pads with the reflection of the vector mirrored along the edge of the array.\n",
    "        ‘wrap’\n",
    "\n",
    "            Pads with the wrap of the vector along the axis. The first values are used to pad the end and the end values are used to pad the beginning.\n",
    "        ‘empty’\n",
    "\n",
    "            Pads with undefined values.\n",
    "\n",
    "            New in version 1.17.\n",
    "        <function>\n",
    "\n",
    "            Padding function, see Notes.\n",
    "\n",
    "    stat_lengthsequence or int, optional\n",
    "\n",
    "        Used in ‘maximum’, ‘mean’, ‘median’, and ‘minimum’. Number of values at edge of each axis used to calculate the statistic value.\n",
    "\n",
    "        ((before_1, after_1), ... (before_N, after_N)) unique statistic lengths for each axis.\n",
    "\n",
    "        (before, after) or ((before, after),) yields same before and after statistic lengths for each axis.\n",
    "\n",
    "        (stat_length,) or int is a shortcut for before = after = statistic length for all axes.\n",
    "\n",
    "        Default is None, to use the entire axis.\n",
    "    constant_valuessequence or scalar, optional\n",
    "\n",
    "        Used in ‘constant’. The values to set the padded values for each axis.\n",
    "\n",
    "        ((before_1, after_1), ... (before_N, after_N)) unique pad constants for each axis.\n",
    "\n",
    "        (before, after) or ((before, after),) yields same before and after constants for each axis.\n",
    "\n",
    "        (constant,) or constant is a shortcut for before = after = constant for all axes.\n",
    "\n",
    "        Default is 0.\n",
    "    end_valuessequence or scalar, optional\n",
    "\n",
    "        Used in ‘linear_ramp’. The values used for the ending value of the linear_ramp and that will form the edge of the padded array.\n",
    "\n",
    "        ((before_1, after_1), ... (before_N, after_N)) unique end values for each axis.\n",
    "\n",
    "        (before, after) or ((before, after),) yields same before and after end values for each axis.\n",
    "\n",
    "        (constant,) or constant is a shortcut for before = after = constant for all axes.\n",
    "\n",
    "        Default is 0.\n",
    "    reflect_type{‘even’, ‘odd’}, optional\n",
    "\n",
    "        Used in ‘reflect’, and ‘symmetric’. The ‘even’ style is the default with an unaltered reflection around the edge value. For the ‘odd’ style, the extended part of the array is created by subtracting the reflected values from two times the edge value.\n",
    "\n",
    "Returns:\n",
    "\n",
    "    pad\n",
    "    ndarray\n",
    "\n",
    "        Padded array of rank equal to array with shape increased according to pad_width.\n",
    "\n",
    "Notes\n",
    "\n",
    "New in version 1.7.0.\n",
    "\n",
    "For an array with rank greater than 1, some of the padding of later axes is calculated from padding of previous axes. This is easiest to think about with a rank 2 array where the corners of the padded array are calculated by using padded values from the first axis.\n",
    "\n",
    "The padding function, if used, should modify a rank 1 array in-place. It has the following signature:\n",
    "\n",
    "padding_func(vector, iaxis_pad_width, iaxis, kwargs)\n",
    "\n",
    "where\n",
    "\n",
    "vectorndarray\n",
    "\n",
    "    A rank 1 array already padded with zeros. Padded values are vector[:iaxis_pad_width[0]] and vector[-iaxis_pad_width[1]:].\n",
    "iaxis_pad_widthtuple\n",
    "\n",
    "    A 2-tuple of ints, iaxis_pad_width[0] represents the number of values padded at the beginning of vector where iaxis_pad_width[1] represents the number of values padded at the end of vector.\n",
    "iaxisint\n",
    "\n",
    "    The axis currently being calculated.\n",
    "kwargsdict\n",
    "\n",
    "    Any keyword arguments the function requires.\n"
   ]
  },
  {
   "cell_type": "code",
   "execution_count": 1,
   "metadata": {},
   "outputs": [],
   "source": [
    "import numpy as np"
   ]
  },
  {
   "cell_type": "code",
   "execution_count": 3,
   "metadata": {},
   "outputs": [],
   "source": [
    "a = [1, 2, 3, 4, 5]"
   ]
  },
  {
   "cell_type": "code",
   "execution_count": 4,
   "metadata": {},
   "outputs": [
    {
     "data": {
      "text/plain": [
       "array([4, 4, 1, 2, 3, 4, 5, 6, 6, 6])"
      ]
     },
     "execution_count": 4,
     "metadata": {},
     "output_type": "execute_result"
    }
   ],
   "source": [
    "\n",
    "np.pad(a, (2, 3), 'constant', constant_values=(4, 6))"
   ]
  },
  {
   "cell_type": "code",
   "execution_count": 5,
   "metadata": {},
   "outputs": [
    {
     "data": {
      "text/plain": [
       "array([1, 1, 1, 2, 3, 4, 5, 5, 5, 5])"
      ]
     },
     "execution_count": 5,
     "metadata": {},
     "output_type": "execute_result"
    }
   ],
   "source": [
    "np.pad(a, (2, 3), 'edge')"
   ]
  },
  {
   "cell_type": "code",
   "execution_count": 6,
   "metadata": {},
   "outputs": [
    {
     "data": {
      "text/plain": [
       "array([ 5,  3,  1,  2,  3,  4,  5,  2, -1, -4])"
      ]
     },
     "execution_count": 6,
     "metadata": {},
     "output_type": "execute_result"
    }
   ],
   "source": [
    "np.pad(a, (2, 3), 'linear_ramp', end_values=(5, -4))"
   ]
  },
  {
   "cell_type": "code",
   "execution_count": 7,
   "metadata": {},
   "outputs": [
    {
     "data": {
      "text/plain": [
       "array([5, 5, 1, 2, 3, 4, 5, 5, 5])"
      ]
     },
     "execution_count": 7,
     "metadata": {},
     "output_type": "execute_result"
    }
   ],
   "source": [
    "np.pad(a, (2,), 'maximum')"
   ]
  },
  {
   "cell_type": "code",
   "execution_count": 8,
   "metadata": {},
   "outputs": [
    {
     "data": {
      "text/plain": [
       "array([3, 3, 1, 2, 3, 4, 5, 3, 3])"
      ]
     },
     "execution_count": 8,
     "metadata": {},
     "output_type": "execute_result"
    }
   ],
   "source": [
    "np.pad(a, (2,), 'mean')"
   ]
  },
  {
   "cell_type": "code",
   "execution_count": 9,
   "metadata": {},
   "outputs": [
    {
     "data": {
      "text/plain": [
       "array([3, 3, 1, 2, 3, 4, 5, 3, 3])"
      ]
     },
     "execution_count": 9,
     "metadata": {},
     "output_type": "execute_result"
    }
   ],
   "source": [
    "np.pad(a, (2,), 'median')"
   ]
  },
  {
   "cell_type": "code",
   "execution_count": 10,
   "metadata": {},
   "outputs": [
    {
     "data": {
      "text/plain": [
       "array([[1, 1, 1, 2, 1, 1, 1],\n",
       "       [1, 1, 1, 2, 1, 1, 1],\n",
       "       [1, 1, 1, 2, 1, 1, 1],\n",
       "       [1, 1, 1, 2, 1, 1, 1],\n",
       "       [3, 3, 3, 4, 3, 3, 3],\n",
       "       [1, 1, 1, 2, 1, 1, 1],\n",
       "       [1, 1, 1, 2, 1, 1, 1]])"
      ]
     },
     "execution_count": 10,
     "metadata": {},
     "output_type": "execute_result"
    }
   ],
   "source": [
    "a = [[1, 2], [3, 4]]\n",
    "\n",
    "np.pad(a, ((3, 2), (2, 3)), 'minimum')"
   ]
  },
  {
   "cell_type": "code",
   "execution_count": 11,
   "metadata": {},
   "outputs": [
    {
     "data": {
      "text/plain": [
       "array([[0, 0, 0, 0, 0, 0, 0],\n",
       "       [0, 0, 0, 0, 0, 0, 0],\n",
       "       [0, 0, 0, 0, 0, 0, 0],\n",
       "       [0, 0, 1, 2, 0, 0, 0],\n",
       "       [0, 0, 3, 4, 0, 0, 0],\n",
       "       [0, 0, 0, 0, 0, 0, 0],\n",
       "       [0, 0, 0, 0, 0, 0, 0]])"
      ]
     },
     "execution_count": 11,
     "metadata": {},
     "output_type": "execute_result"
    }
   ],
   "source": [
    "a = [[1, 2], [3, 4]]\n",
    "\n",
    "np.pad(a, ((3, 2), (2, 3)))"
   ]
  },
  {
   "cell_type": "code",
   "execution_count": 12,
   "metadata": {},
   "outputs": [
    {
     "data": {
      "text/plain": [
       "array([[0, 0, 0, 0, 0],\n",
       "       [0, 1, 2, 3, 0],\n",
       "       [0, 3, 4, 5, 0],\n",
       "       [0, 0, 0, 0, 0]])"
      ]
     },
     "execution_count": 12,
     "metadata": {},
     "output_type": "execute_result"
    }
   ],
   "source": [
    "a = [[1, 2, 3], [3, 4, 5]]\n",
    "\n",
    "np.pad(a, ((1, 1), (1, 1)))"
   ]
  },
  {
   "cell_type": "code",
   "execution_count": 13,
   "metadata": {},
   "outputs": [
    {
     "data": {
      "text/plain": [
       "array([[0, 0, 0, 0, 0],\n",
       "       [0, 1, 2, 3, 0],\n",
       "       [0, 3, 4, 5, 0],\n",
       "       [0, 0, 0, 0, 0]])"
      ]
     },
     "execution_count": 13,
     "metadata": {},
     "output_type": "execute_result"
    }
   ],
   "source": [
    "a = [[1, 2, 3], [3, 4, 5]]\n",
    "\n",
    "np.pad(a, 1)"
   ]
  },
  {
   "cell_type": "code",
   "execution_count": 14,
   "metadata": {},
   "outputs": [
    {
     "data": {
      "text/plain": [
       "array([[0, 0, 0, 0, 0, 0, 0],\n",
       "       [0, 0, 0, 0, 0, 0, 0],\n",
       "       [0, 0, 1, 2, 3, 0, 0],\n",
       "       [0, 0, 3, 4, 5, 0, 0],\n",
       "       [0, 0, 0, 0, 0, 0, 0],\n",
       "       [0, 0, 0, 0, 0, 0, 0]])"
      ]
     },
     "execution_count": 14,
     "metadata": {},
     "output_type": "execute_result"
    }
   ],
   "source": [
    "a = [[1, 2, 3], [3, 4, 5]]\n",
    "\n",
    "np.pad(a, 2)"
   ]
  }
 ],
 "metadata": {
  "kernelspec": {
   "display_name": ".venv",
   "language": "python",
   "name": "python3"
  },
  "language_info": {
   "codemirror_mode": {
    "name": "ipython",
    "version": 3
   },
   "file_extension": ".py",
   "mimetype": "text/x-python",
   "name": "python",
   "nbconvert_exporter": "python",
   "pygments_lexer": "ipython3",
   "version": "3.12.3"
  }
 },
 "nbformat": 4,
 "nbformat_minor": 2
}
