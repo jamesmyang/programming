{
 "cells": [
  {
   "cell_type": "markdown",
   "metadata": {},
   "source": [
    "# numpy.concatenate\n",
    "https://numpy.org/doc/stable/reference/generated/numpy.concatenate.html#numpy-concatenate"
   ]
  },
  {
   "cell_type": "markdown",
   "metadata": {},
   "source": [
    "numpy.concatenate((a1, a2, ...), axis=0, out=None, dtype=None, casting=\"same_kind\")\n",
    "\n",
    "Join a sequence of arrays along an existing axis.\n",
    "\n",
    "Parameters:\n",
    "\n",
    "    a1, a2, …sequence of array_like\n",
    "\n",
    "        The arrays must have the same shape, except in the dimension corresponding to axis (the first, by default).\n",
    "    axisint, optional\n",
    "\n",
    "        The axis along which the arrays will be joined. If axis is None, arrays are flattened before use. Default is 0.\n",
    "    outndarray, optional\n",
    "\n",
    "        If provided, the destination to place the result. The shape must be correct, matching that of what concatenate would have returned if no out argument were specified.\n",
    "    dtypestr or dtype\n",
    "\n",
    "        If provided, the destination array will have this dtype. Cannot be provided together with out.\n",
    "\n",
    "        New in version 1.20.0.\n",
    "    casting{‘no’, ‘equiv’, ‘safe’, ‘same_kind’, ‘unsafe’}, optional\n",
    "\n",
    "        Controls what kind of data casting may occur. Defaults to ‘same_kind’. For a description of the options, please see casting.\n",
    "\n",
    "        New in version 1.20.0.\n",
    "\n",
    "Returns:\n",
    "\n",
    "    res\n",
    "    ndarray\n",
    "\n",
    "        The concatenated array.\n",
    "\n",
    "See also\n",
    "\n",
    "ma.concatenate\n",
    "\n",
    "    Concatenate function that preserves input masks.\n",
    "array_split\n",
    "\n",
    "    Split an array into multiple sub-arrays of equal or near-equal size.\n",
    "split\n",
    "\n",
    "    Split array into a list of multiple sub-arrays of equal size.\n",
    "hsplit\n",
    "\n",
    "    Split array into multiple sub-arrays horizontally (column wise).\n",
    "vsplit\n",
    "\n",
    "    Split array into multiple sub-arrays vertically (row wise).\n",
    "dsplit\n",
    "\n",
    "    Split array into multiple sub-arrays along the 3rd axis (depth).\n",
    "stack\n",
    "\n",
    "    Stack a sequence of arrays along a new axis.\n",
    "block\n",
    "\n",
    "    Assemble arrays from blocks.\n",
    "hstack\n",
    "\n",
    "    Stack arrays in sequence horizontally (column wise).\n",
    "vstack\n",
    "\n",
    "    Stack arrays in sequence vertically (row wise).\n",
    "dstack\n",
    "\n",
    "    Stack arrays in sequence depth wise (along third dimension).\n",
    "column_stack\n",
    "\n",
    "    Stack 1-D arrays as columns into a 2-D array.\n",
    "\n",
    "Notes\n",
    "\n",
    "When one or more of the arrays to be concatenated is a MaskedArray, this function will return a MaskedArray object instead of an ndarray, but the input masks are not preserved. In cases where a MaskedArray is expected as input, use the ma.concatenate function from the masked array module instead."
   ]
  },
  {
   "cell_type": "code",
   "execution_count": 1,
   "metadata": {},
   "outputs": [
    {
     "data": {
      "text/plain": [
       "array([[1, 2],\n",
       "       [3, 4],\n",
       "       [5, 6]])"
      ]
     },
     "execution_count": 1,
     "metadata": {},
     "output_type": "execute_result"
    }
   ],
   "source": [
    "import numpy as np\n",
    "\n",
    "a = np.array([[1, 2], [3, 4]])\n",
    "\n",
    "b = np.array([[5, 6]])\n",
    "\n",
    "np.concatenate((a, b), axis=0)"
   ]
  },
  {
   "cell_type": "code",
   "execution_count": 2,
   "metadata": {},
   "outputs": [
    {
     "data": {
      "text/plain": [
       "array([[1, 2, 5],\n",
       "       [3, 4, 6]])"
      ]
     },
     "execution_count": 2,
     "metadata": {},
     "output_type": "execute_result"
    }
   ],
   "source": [
    "np.concatenate((a, b.T), axis=1)"
   ]
  },
  {
   "cell_type": "code",
   "execution_count": 3,
   "metadata": {},
   "outputs": [
    {
     "data": {
      "text/plain": [
       "array([1, 2, 3, 4, 5, 6])"
      ]
     },
     "execution_count": 3,
     "metadata": {},
     "output_type": "execute_result"
    }
   ],
   "source": [
    "np.concatenate((a, b), axis=None)"
   ]
  },
  {
   "cell_type": "code",
   "execution_count": null,
   "metadata": {},
   "outputs": [],
   "source": []
  }
 ],
 "metadata": {
  "kernelspec": {
   "display_name": ".venv",
   "language": "python",
   "name": "python3"
  },
  "language_info": {
   "codemirror_mode": {
    "name": "ipython",
    "version": 3
   },
   "file_extension": ".py",
   "mimetype": "text/x-python",
   "name": "python",
   "nbconvert_exporter": "python",
   "pygments_lexer": "ipython3",
   "version": "3.12.3"
  }
 },
 "nbformat": 4,
 "nbformat_minor": 2
}
