{
 "cells": [
  {
   "cell_type": "markdown",
   "metadata": {},
   "source": [
    "## numpy.expand_dims\n",
    "https://numpy.org/doc/stable/reference/generated/numpy.expand_dims.html#numpy-expand-dims"
   ]
  },
  {
   "cell_type": "markdown",
   "metadata": {},
   "source": [
    "numpy.expand_dims(a, axis)\n",
    "[source]\n",
    "\n",
    "Expand the shape of an array.\n",
    "\n",
    "Insert a new axis that will appear at the axis position in the expanded array shape.\n",
    "\n",
    "Parameters:\n",
    "\n",
    "    aarray_like\n",
    "\n",
    "        Input array.\n",
    "    axisint or tuple of ints\n",
    "\n",
    "        Position in the expanded axes where the new axis (or axes) is placed.\n",
    "\n",
    "        Deprecated since version 1.13.0: Passing an axis where axis > a.ndim will be treated as axis == a.ndim, and passing axis < -a.ndim - 1 will be treated as axis == 0. This behavior is deprecated.\n",
    "\n",
    "Returns:\n",
    "\n",
    "    result\n",
    "    ndarray\n",
    "\n",
    "        View of a with the number of dimensions increased.\n",
    "\n",
    "See also\n",
    "\n",
    "squeeze\n",
    "\n",
    "    The inverse operation, removing singleton dimensions\n",
    "reshape\n",
    "\n",
    "    Insert, remove, and combine dimensions, and resize existing ones\n",
    "atleast_1d, atleast_2d, atleast_3d\n"
   ]
  },
  {
   "cell_type": "code",
   "execution_count": 2,
   "metadata": {},
   "outputs": [],
   "source": [
    "import numpy as np"
   ]
  },
  {
   "cell_type": "code",
   "execution_count": 3,
   "metadata": {},
   "outputs": [
    {
     "data": {
      "text/plain": [
       "(2,)"
      ]
     },
     "execution_count": 3,
     "metadata": {},
     "output_type": "execute_result"
    }
   ],
   "source": [
    "x = np.array([1, 2])\n",
    "x.shape"
   ]
  },
  {
   "cell_type": "code",
   "execution_count": 8,
   "metadata": {},
   "outputs": [
    {
     "name": "stdout",
     "output_type": "stream",
     "text": [
      "(1, 2)\n"
     ]
    },
    {
     "data": {
      "text/plain": [
       "array([[1, 2]])"
      ]
     },
     "execution_count": 8,
     "metadata": {},
     "output_type": "execute_result"
    }
   ],
   "source": [
    "# The following is equivalent to x[np.newaxis, :] or x[np.newaxis]:\n",
    "y = np.expand_dims(x, axis=0)\n",
    "\n",
    "print(y.shape)\n",
    "y"
   ]
  },
  {
   "cell_type": "code",
   "execution_count": 10,
   "metadata": {},
   "outputs": [
    {
     "name": "stdout",
     "output_type": "stream",
     "text": [
      "(2, 1)\n"
     ]
    },
    {
     "data": {
      "text/plain": [
       "array([[1],\n",
       "       [2]])"
      ]
     },
     "execution_count": 10,
     "metadata": {},
     "output_type": "execute_result"
    }
   ],
   "source": [
    "# The following is equivalent to x[:, np.newaxis]:\n",
    "y = np.expand_dims(x, axis=1)\n",
    "\n",
    "print(y.shape)\n",
    "y\n"
   ]
  },
  {
   "cell_type": "code",
   "execution_count": 11,
   "metadata": {},
   "outputs": [
    {
     "data": {
      "text/plain": [
       "array([[[1, 2]]])"
      ]
     },
     "execution_count": 11,
     "metadata": {},
     "output_type": "execute_result"
    }
   ],
   "source": [
    "# axis may also be a tuple:\n",
    "y = np.expand_dims(x, axis=(0, 1))\n",
    "\n",
    "y"
   ]
  },
  {
   "cell_type": "code",
   "execution_count": 12,
   "metadata": {},
   "outputs": [
    {
     "data": {
      "text/plain": [
       "array([[[1],\n",
       "        [2]]])"
      ]
     },
     "execution_count": 12,
     "metadata": {},
     "output_type": "execute_result"
    }
   ],
   "source": [
    "y = np.expand_dims(x, axis=(2, 0))\n",
    "\n",
    "y"
   ]
  },
  {
   "cell_type": "code",
   "execution_count": 13,
   "metadata": {},
   "outputs": [
    {
     "data": {
      "text/plain": [
       "True"
      ]
     },
     "execution_count": 13,
     "metadata": {},
     "output_type": "execute_result"
    }
   ],
   "source": [
    "# Note that some examples may use None instead of np.newaxis. These are the same objects:\n",
    "np.newaxis is None"
   ]
  }
 ],
 "metadata": {
  "kernelspec": {
   "display_name": ".venv",
   "language": "python",
   "name": "python3"
  },
  "language_info": {
   "codemirror_mode": {
    "name": "ipython",
    "version": 3
   },
   "file_extension": ".py",
   "mimetype": "text/x-python",
   "name": "python",
   "nbconvert_exporter": "python",
   "pygments_lexer": "ipython3",
   "version": "3.12.3"
  }
 },
 "nbformat": 4,
 "nbformat_minor": 2
}
