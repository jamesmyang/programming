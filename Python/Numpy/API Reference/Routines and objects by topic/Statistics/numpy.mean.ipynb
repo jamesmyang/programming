{
 "cells": [
  {
   "cell_type": "markdown",
   "metadata": {},
   "source": [
    "# numpy.mean\n",
    "https://numpy.org/devdocs/reference/generated/numpy.mean.html#numpy-mean"
   ]
  },
  {
   "cell_type": "markdown",
   "metadata": {},
   "source": [
    "numpy.mean(a, axis=None, dtype=None, out=None, keepdims=<no value>, *, where=<no value>)\n",
    "[source]\n",
    "\n",
    "Compute the arithmetic mean along the specified axis.\n",
    "\n",
    "Returns the average of the array elements. The average is taken over the flattened array by default, otherwise over the specified axis. float64 intermediate and return values are used for integer inputs.\n",
    "\n",
    "Parameters:\n",
    "\n",
    "    aarray_like\n",
    "\n",
    "        Array containing numbers whose mean is desired. If a is not an array, a conversion is attempted.\n",
    "    axisNone or int or tuple of ints, optional\n",
    "\n",
    "        Axis or axes along which the means are computed. The default is to compute the mean of the flattened array.\n",
    "\n",
    "        New in version 1.7.0.\n",
    "\n",
    "        If this is a tuple of ints, a mean is performed over multiple axes, instead of a single axis or all the axes as before.\n",
    "    dtypedata-type, optional\n",
    "\n",
    "        Type to use in computing the mean. For integer inputs, the default is float64; for floating point inputs, it is the same as the input dtype.\n",
    "    outndarray, optional\n",
    "\n",
    "        Alternate output array in which to place the result. The default is None; if provided, it must have the same shape as the expected output, but the type will be cast if necessary. See Output type determination for more details. See Output type determination for more details.\n",
    "    keepdimsbool, optional\n",
    "\n",
    "        If this is set to True, the axes which are reduced are left in the result as dimensions with size one. With this option, the result will broadcast correctly against the input array.\n",
    "\n",
    "        If the default value is passed, then keepdims will not be passed through to the mean method of sub-classes of ndarray, however any non-default value will be. If the sub-class’ method does not implement keepdims any exceptions will be raised.\n",
    "    wherearray_like of bool, optional\n",
    "\n",
    "        Elements to include in the mean. See reduce for details.\n",
    "\n",
    "        New in version 1.20.0.\n",
    "\n",
    "Returns:\n",
    "\n",
    "    m\n",
    "    ndarray, see dtype parameter above\n",
    "\n",
    "        If out=None, returns a new array containing the mean values, otherwise a reference to the output array is returned.\n",
    "\n",
    "See also\n",
    "\n",
    "average\n",
    "\n",
    "    Weighted average\n",
    "std, var, nanmean, nanstd, nanvar\n",
    "\n",
    "Notes\n",
    "\n",
    "The arithmetic mean is the sum of the elements along the axis divided by the number of elements.\n",
    "\n",
    "Note that for floating-point input, the mean is computed using the same precision the input has. Depending on the input data, this can cause the results to be inaccurate, especially for float32 (see example below). Specifying a higher-precision accumulator using the dtype keyword can alleviate this issue.\n",
    "\n",
    "By default, float16 results are computed using float32 intermediates for extra precision."
   ]
  },
  {
   "cell_type": "code",
   "execution_count": 1,
   "metadata": {},
   "outputs": [],
   "source": [
    "import numpy as np"
   ]
  },
  {
   "cell_type": "code",
   "execution_count": 2,
   "metadata": {},
   "outputs": [
    {
     "data": {
      "text/plain": [
       "2.5"
      ]
     },
     "execution_count": 2,
     "metadata": {},
     "output_type": "execute_result"
    }
   ],
   "source": [
    "a = np.array([[1, 2], [3, 4]])\n",
    "\n",
    "np.mean(a)"
   ]
  },
  {
   "cell_type": "code",
   "execution_count": 3,
   "metadata": {},
   "outputs": [
    {
     "data": {
      "text/plain": [
       "array([2., 3.])"
      ]
     },
     "execution_count": 3,
     "metadata": {},
     "output_type": "execute_result"
    }
   ],
   "source": [
    "np.mean(a, axis=0)"
   ]
  },
  {
   "cell_type": "code",
   "execution_count": 4,
   "metadata": {},
   "outputs": [
    {
     "data": {
      "text/plain": [
       "array([1.5, 3.5])"
      ]
     },
     "execution_count": 4,
     "metadata": {},
     "output_type": "execute_result"
    }
   ],
   "source": [
    "np.mean(a, axis=1)"
   ]
  },
  {
   "cell_type": "code",
   "execution_count": 3,
   "metadata": {},
   "outputs": [
    {
     "data": {
      "text/plain": [
       "1.5"
      ]
     },
     "execution_count": 3,
     "metadata": {},
     "output_type": "execute_result"
    }
   ],
   "source": [
    "np.mean(a, where=[[True], [False]])"
   ]
  },
  {
   "cell_type": "code",
   "execution_count": 4,
   "metadata": {},
   "outputs": [
    {
     "data": {
      "text/plain": [
       "2.5"
      ]
     },
     "execution_count": 4,
     "metadata": {},
     "output_type": "execute_result"
    }
   ],
   "source": [
    "np.mean(a, where=[[True], [True]])"
   ]
  },
  {
   "cell_type": "code",
   "execution_count": 5,
   "metadata": {},
   "outputs": [
    {
     "data": {
      "text/plain": [
       "3.5"
      ]
     },
     "execution_count": 5,
     "metadata": {},
     "output_type": "execute_result"
    }
   ],
   "source": [
    "np.mean(a, where=[[False], [True]])"
   ]
  },
  {
   "cell_type": "code",
   "execution_count": 6,
   "metadata": {},
   "outputs": [
    {
     "name": "stderr",
     "output_type": "stream",
     "text": [
      "d:\\tutorials\\python\\python-tutorials\\tutorial\\.venv\\Lib\\site-packages\\numpy\\core\\fromnumeric.py:3504: RuntimeWarning: Mean of empty slice.\n",
      "  return _methods._mean(a, axis=axis, dtype=dtype,\n",
      "d:\\tutorials\\python\\python-tutorials\\tutorial\\.venv\\Lib\\site-packages\\numpy\\core\\_methods.py:129: RuntimeWarning: invalid value encountered in scalar divide\n",
      "  ret = ret.dtype.type(ret / rcount)\n"
     ]
    },
    {
     "data": {
      "text/plain": [
       "nan"
      ]
     },
     "execution_count": 6,
     "metadata": {},
     "output_type": "execute_result"
    }
   ],
   "source": [
    "np.mean(a, where=[[False], [False]])"
   ]
  },
  {
   "cell_type": "code",
   "execution_count": 7,
   "metadata": {},
   "outputs": [],
   "source": [
    "b = np.array([[[1, 2, 3], \n",
    "               [4, 5, 6]], \n",
    "              \n",
    "              [[7, 8, 9], \n",
    "               [10, 11, 12]]\n",
    "             ])"
   ]
  },
  {
   "cell_type": "code",
   "execution_count": 10,
   "metadata": {},
   "outputs": [
    {
     "data": {
      "text/plain": [
       "6.5"
      ]
     },
     "execution_count": 10,
     "metadata": {},
     "output_type": "execute_result"
    }
   ],
   "source": [
    "np.mean(b, axis=None)"
   ]
  },
  {
   "cell_type": "code",
   "execution_count": 8,
   "metadata": {},
   "outputs": [
    {
     "data": {
      "text/plain": [
       "array([[4., 5., 6.],\n",
       "       [7., 8., 9.]])"
      ]
     },
     "execution_count": 8,
     "metadata": {},
     "output_type": "execute_result"
    }
   ],
   "source": [
    "np.mean(b, axis=0)"
   ]
  },
  {
   "cell_type": "code",
   "execution_count": 9,
   "metadata": {},
   "outputs": [
    {
     "data": {
      "text/plain": [
       "array([[ 2.5,  3.5,  4.5],\n",
       "       [ 8.5,  9.5, 10.5]])"
      ]
     },
     "execution_count": 9,
     "metadata": {},
     "output_type": "execute_result"
    }
   ],
   "source": [
    "np.mean(b, axis=1)"
   ]
  },
  {
   "cell_type": "code",
   "execution_count": 11,
   "metadata": {},
   "outputs": [
    {
     "data": {
      "text/plain": [
       "array([[ 2.,  5.],\n",
       "       [ 8., 11.]])"
      ]
     },
     "execution_count": 11,
     "metadata": {},
     "output_type": "execute_result"
    }
   ],
   "source": [
    "np.mean(b, axis=2)"
   ]
  },
  {
   "cell_type": "code",
   "execution_count": null,
   "metadata": {},
   "outputs": [],
   "source": [
    "c = np.array([[[[1 2, 3], \n",
    "               [4, 5, 6],              \n",
    "               [7, 8, 9]], \n",
    "              [[10, 11, 12],\n",
    "               [13, 14, 15],\n",
    "               [16, 17, 18]],\n",
    "              [[19, 20, 21],\n",
    "               [22, 23, 24],\n",
    "               [25, 26, 27]]\n",
    "             ]])"
   ]
  },
  {
   "cell_type": "code",
   "execution_count": 22,
   "metadata": {},
   "outputs": [],
   "source": [
    "d = np.arange(18).reshape((2, 3, 3, 1))"
   ]
  },
  {
   "cell_type": "code",
   "execution_count": 20,
   "metadata": {},
   "outputs": [
    {
     "data": {
      "text/plain": [
       "array([[[[ 0],\n",
       "         [ 1],\n",
       "         [ 2]],\n",
       "\n",
       "        [[ 3],\n",
       "         [ 4],\n",
       "         [ 5]],\n",
       "\n",
       "        [[ 6],\n",
       "         [ 7],\n",
       "         [ 8]]],\n",
       "\n",
       "\n",
       "       [[[ 9],\n",
       "         [10],\n",
       "         [11]],\n",
       "\n",
       "        [[12],\n",
       "         [13],\n",
       "         [14]],\n",
       "\n",
       "        [[15],\n",
       "         [16],\n",
       "         [17]]],\n",
       "\n",
       "\n",
       "       [[[18],\n",
       "         [19],\n",
       "         [20]],\n",
       "\n",
       "        [[21],\n",
       "         [22],\n",
       "         [23]],\n",
       "\n",
       "        [[24],\n",
       "         [25],\n",
       "         [26]]]])"
      ]
     },
     "execution_count": 20,
     "metadata": {},
     "output_type": "execute_result"
    }
   ],
   "source": [
    "d"
   ]
  },
  {
   "cell_type": "code",
   "execution_count": 23,
   "metadata": {},
   "outputs": [
    {
     "data": {
      "text/plain": [
       "(2, 3, 3, 1)"
      ]
     },
     "execution_count": 23,
     "metadata": {},
     "output_type": "execute_result"
    }
   ],
   "source": [
    "d.shape"
   ]
  },
  {
   "cell_type": "code",
   "execution_count": 24,
   "metadata": {},
   "outputs": [
    {
     "data": {
      "text/plain": [
       "array([[[ 4.5],\n",
       "        [ 5.5],\n",
       "        [ 6.5]],\n",
       "\n",
       "       [[ 7.5],\n",
       "        [ 8.5],\n",
       "        [ 9.5]],\n",
       "\n",
       "       [[10.5],\n",
       "        [11.5],\n",
       "        [12.5]]])"
      ]
     },
     "execution_count": 24,
     "metadata": {},
     "output_type": "execute_result"
    }
   ],
   "source": [
    "np.mean(d, axis=0)"
   ]
  },
  {
   "cell_type": "code",
   "execution_count": 25,
   "metadata": {},
   "outputs": [
    {
     "data": {
      "text/plain": [
       "array([[[ 4.5],\n",
       "        [ 5.5],\n",
       "        [ 6.5]],\n",
       "\n",
       "       [[ 7.5],\n",
       "        [ 8.5],\n",
       "        [ 9.5]],\n",
       "\n",
       "       [[10.5],\n",
       "        [11.5],\n",
       "        [12.5]]])"
      ]
     },
     "execution_count": 25,
     "metadata": {},
     "output_type": "execute_result"
    }
   ],
   "source": [
    "d.mean(axis=0)"
   ]
  },
  {
   "cell_type": "code",
   "execution_count": 28,
   "metadata": {},
   "outputs": [
    {
     "data": {
      "text/plain": [
       "array([[[[ 0,  1,  2],\n",
       "         [ 3,  4,  5],\n",
       "         [ 6,  7,  8],\n",
       "         [ 9, 10, 11]],\n",
       "\n",
       "        [[12, 13, 14],\n",
       "         [15, 16, 17],\n",
       "         [18, 19, 20],\n",
       "         [21, 22, 23]],\n",
       "\n",
       "        [[24, 25, 26],\n",
       "         [27, 28, 29],\n",
       "         [30, 31, 32],\n",
       "         [33, 34, 35]],\n",
       "\n",
       "        [[36, 37, 38],\n",
       "         [39, 40, 41],\n",
       "         [42, 43, 44],\n",
       "         [45, 46, 47]]],\n",
       "\n",
       "\n",
       "       [[[48, 49, 50],\n",
       "         [51, 52, 53],\n",
       "         [54, 55, 56],\n",
       "         [57, 58, 59]],\n",
       "\n",
       "        [[60, 61, 62],\n",
       "         [63, 64, 65],\n",
       "         [66, 67, 68],\n",
       "         [69, 70, 71]],\n",
       "\n",
       "        [[72, 73, 74],\n",
       "         [75, 76, 77],\n",
       "         [78, 79, 80],\n",
       "         [81, 82, 83]],\n",
       "\n",
       "        [[84, 85, 86],\n",
       "         [87, 88, 89],\n",
       "         [90, 91, 92],\n",
       "         [93, 94, 95]]]])"
      ]
     },
     "execution_count": 28,
     "metadata": {},
     "output_type": "execute_result"
    }
   ],
   "source": [
    "e = np.arange(96).reshape((2, 4, 4, 3))\n",
    "e"
   ]
  },
  {
   "cell_type": "code",
   "execution_count": 31,
   "metadata": {},
   "outputs": [
    {
     "data": {
      "text/plain": [
       "array([[[[ 1.],\n",
       "         [ 4.],\n",
       "         [ 7.],\n",
       "         [10.]],\n",
       "\n",
       "        [[13.],\n",
       "         [16.],\n",
       "         [19.],\n",
       "         [22.]],\n",
       "\n",
       "        [[25.],\n",
       "         [28.],\n",
       "         [31.],\n",
       "         [34.]],\n",
       "\n",
       "        [[37.],\n",
       "         [40.],\n",
       "         [43.],\n",
       "         [46.]]],\n",
       "\n",
       "\n",
       "       [[[49.],\n",
       "         [52.],\n",
       "         [55.],\n",
       "         [58.]],\n",
       "\n",
       "        [[61.],\n",
       "         [64.],\n",
       "         [67.],\n",
       "         [70.]],\n",
       "\n",
       "        [[73.],\n",
       "         [76.],\n",
       "         [79.],\n",
       "         [82.]],\n",
       "\n",
       "        [[85.],\n",
       "         [88.],\n",
       "         [91.],\n",
       "         [94.]]]])"
      ]
     },
     "execution_count": 31,
     "metadata": {},
     "output_type": "execute_result"
    }
   ],
   "source": [
    "e_mean = e.mean(axis=3, keepdims=True)\n",
    "e_mean"
   ]
  },
  {
   "cell_type": "code",
   "execution_count": 32,
   "metadata": {},
   "outputs": [
    {
     "data": {
      "text/plain": [
       "(2, 4, 4, 1)"
      ]
     },
     "execution_count": 32,
     "metadata": {},
     "output_type": "execute_result"
    }
   ],
   "source": [
    "e_mean.shape"
   ]
  },
  {
   "cell_type": "code",
   "execution_count": 35,
   "metadata": {},
   "outputs": [
    {
     "data": {
      "text/plain": [
       "array([[[[ 1.],\n",
       "         [ 4.],\n",
       "         [ 7.],\n",
       "         [10.]],\n",
       "\n",
       "        [[13.],\n",
       "         [16.],\n",
       "         [19.],\n",
       "         [22.]],\n",
       "\n",
       "        [[25.],\n",
       "         [28.],\n",
       "         [31.],\n",
       "         [34.]],\n",
       "\n",
       "        [[37.],\n",
       "         [40.],\n",
       "         [43.],\n",
       "         [46.]]],\n",
       "\n",
       "\n",
       "       [[[49.],\n",
       "         [52.],\n",
       "         [55.],\n",
       "         [58.]],\n",
       "\n",
       "        [[61.],\n",
       "         [64.],\n",
       "         [67.],\n",
       "         [70.]],\n",
       "\n",
       "        [[73.],\n",
       "         [76.],\n",
       "         [79.],\n",
       "         [82.]],\n",
       "\n",
       "        [[85.],\n",
       "         [88.],\n",
       "         [91.],\n",
       "         [94.]]]])"
      ]
     },
     "execution_count": 35,
     "metadata": {},
     "output_type": "execute_result"
    }
   ],
   "source": [
    "e_mean = np.mean(e, axis=3, keepdims=True)\n",
    "e_mean"
   ]
  },
  {
   "cell_type": "code",
   "execution_count": 36,
   "metadata": {},
   "outputs": [
    {
     "data": {
      "text/plain": [
       "(2, 4, 4, 1)"
      ]
     },
     "execution_count": 36,
     "metadata": {},
     "output_type": "execute_result"
    }
   ],
   "source": [
    "e_mean.shape"
   ]
  },
  {
   "cell_type": "code",
   "execution_count": 37,
   "metadata": {},
   "outputs": [
    {
     "data": {
      "text/plain": [
       "array([[[25.],\n",
       "        [28.],\n",
       "        [31.],\n",
       "        [34.]],\n",
       "\n",
       "       [[37.],\n",
       "        [40.],\n",
       "        [43.],\n",
       "        [46.]],\n",
       "\n",
       "       [[49.],\n",
       "        [52.],\n",
       "        [55.],\n",
       "        [58.]],\n",
       "\n",
       "       [[61.],\n",
       "        [64.],\n",
       "        [67.],\n",
       "        [70.]]])"
      ]
     },
     "execution_count": 37,
     "metadata": {},
     "output_type": "execute_result"
    }
   ],
   "source": [
    "e_mean.mean(axis=0)"
   ]
  }
 ],
 "metadata": {
  "kernelspec": {
   "display_name": ".venv",
   "language": "python",
   "name": "python3"
  },
  "language_info": {
   "codemirror_mode": {
    "name": "ipython",
    "version": 3
   },
   "file_extension": ".py",
   "mimetype": "text/x-python",
   "name": "python",
   "nbconvert_exporter": "python",
   "pygments_lexer": "ipython3",
   "version": "3.12.3"
  }
 },
 "nbformat": 4,
 "nbformat_minor": 2
}
