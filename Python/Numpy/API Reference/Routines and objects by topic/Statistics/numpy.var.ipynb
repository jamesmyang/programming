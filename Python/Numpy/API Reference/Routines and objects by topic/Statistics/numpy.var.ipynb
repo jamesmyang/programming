{
 "cells": [
  {
   "cell_type": "markdown",
   "metadata": {},
   "source": [
    "# numpy.var\n",
    "https://numpy.org/devdocs/reference/generated/numpy.var.html"
   ]
  },
  {
   "cell_type": "markdown",
   "metadata": {},
   "source": [
    "numpy.var(a, axis=None, dtype=None, out=None, ddof=0, keepdims=<no value>, *, where=<no value>, mean=<no value>, correction=<no value>)\n",
    "[source]\n",
    "\n",
    "Compute the variance along the specified axis.\n",
    "\n",
    "Returns the variance of the array elements, a measure of the spread of a distribution. The variance is computed for the flattened array by default, otherwise over the specified axis.\n",
    "\n",
    "Parameters:\n",
    "\n",
    "    aarray_like\n",
    "\n",
    "        Array containing numbers whose variance is desired. If a is not an array, a conversion is attempted.\n",
    "    axisNone or int or tuple of ints, optional\n",
    "\n",
    "        Axis or axes along which the variance is computed. The default is to compute the variance of the flattened array.\n",
    "\n",
    "        New in version 1.7.0.\n",
    "\n",
    "        If this is a tuple of ints, a variance is performed over multiple axes, instead of a single axis or all the axes as before.\n",
    "    dtypedata-type, optional\n",
    "\n",
    "        Type to use in computing the variance. For arrays of integer type the default is float64; for arrays of float types it is the same as the array type.\n",
    "    outndarray, optional\n",
    "\n",
    "        Alternate output array in which to place the result. It must have the same shape as the expected output, but the type is cast if necessary.\n",
    "    ddof{int, float}, optional\n",
    "\n",
    "        “Delta Degrees of Freedom”: the divisor used in the calculation is N - ddof, where N represents the number of elements. By default ddof is zero. See notes for details about use of ddof.\n",
    "    keepdimsbool, optional\n",
    "\n",
    "        If this is set to True, the axes which are reduced are left in the result as dimensions with size one. With this option, the result will broadcast correctly against the input array.\n",
    "\n",
    "        If the default value is passed, then keepdims will not be passed through to the var method of sub-classes of ndarray, however any non-default value will be. If the sub-class’ method does not implement keepdims any exceptions will be raised.\n",
    "    wherearray_like of bool, optional\n",
    "\n",
    "        Elements to include in the variance. See reduce for details.\n",
    "\n",
    "        New in version 1.20.0.\n",
    "    meanarray like, optional\n",
    "\n",
    "        Provide the mean to prevent its recalculation. The mean should have a shape as if it was calculated with keepdims=True. The axis for the calculation of the mean should be the same as used in the call to this var function.\n",
    "\n",
    "        New in version 1.26.0.\n",
    "    correction{int, float}, optional\n",
    "\n",
    "        Array API compatible name for the ddof parameter. Only one of them can be provided at the same time.\n",
    "\n",
    "        New in version 2.0.0.\n",
    "\n",
    "Returns:\n",
    "\n",
    "    variance\n",
    "    ndarray, see dtype parameter above\n",
    "\n",
    "        If out=None, returns a new array containing the variance; otherwise, a reference to the output array is returned.\n",
    "\n",
    "See also\n",
    "\n",
    "std, mean, nanmean, nanstd, nanvar\n",
    "Output type determination\n",
    "\n",
    "Notes\n",
    "\n",
    "There are several common variants of the array variance calculation. Assuming the input a is a one-dimensional NumPy array and mean is either provided as an argument or computed as a.mean(), NumPy computes the variance of an array as:\n",
    "\n",
    "N = len(a)\n",
    "d2 = abs(a - mean)**2  # abs is for complex `a`\n",
    "var = d2.sum() / (N - ddof)  # note use of `ddof`\n",
    "\n",
    "Different values of the argument ddof are useful in different contexts. NumPy’s default ddof=0 corresponds with the expression:\n",
    "\n",
    "which is sometimes called the “population variance” in the field of statistics because it applies the definition of variance to a as if a were a complete population of possible observations.\n",
    "\n",
    "Many other libraries define the variance of an array differently, e.g.:\n",
    "\n",
    "In statistics, the resulting quantity is sometimed called the “sample variance” because if a is a random sample from a larger population, this calculation provides an unbiased estimate of the variance of the population. The use of\n",
    "\n",
    "in the denominator is often called “Bessel’s correction” because it corrects for bias (toward lower values) in the variance estimate introduced when the sample mean of a is used in place of the true mean of the population. For this quantity, use ddof=1.\n",
    "\n",
    "Note that for complex numbers, the absolute value is taken before squaring, so that the result is always real and nonnegative.\n",
    "\n",
    "For floating-point input, the variance is computed using the same precision the input has. Depending on the input data, this can cause the results to be inaccurate, especially for float32 (see example below). Specifying a higher-accuracy accumulator using the dtype keyword can alleviate this issue."
   ]
  },
  {
   "cell_type": "code",
   "execution_count": 1,
   "metadata": {},
   "outputs": [],
   "source": [
    "import numpy as np"
   ]
  },
  {
   "cell_type": "code",
   "execution_count": 2,
   "metadata": {},
   "outputs": [
    {
     "data": {
      "text/plain": [
       "1.25"
      ]
     },
     "execution_count": 2,
     "metadata": {},
     "output_type": "execute_result"
    }
   ],
   "source": [
    "a = np.array([[1, 2], [3, 4]])\n",
    "\n",
    "np.var(a)"
   ]
  },
  {
   "cell_type": "code",
   "execution_count": 3,
   "metadata": {},
   "outputs": [
    {
     "data": {
      "text/plain": [
       "array([1., 1.])"
      ]
     },
     "execution_count": 3,
     "metadata": {},
     "output_type": "execute_result"
    }
   ],
   "source": [
    "np.var(a, axis=0)"
   ]
  },
  {
   "cell_type": "code",
   "execution_count": 4,
   "metadata": {},
   "outputs": [
    {
     "data": {
      "text/plain": [
       "array([0.25, 0.25])"
      ]
     },
     "execution_count": 4,
     "metadata": {},
     "output_type": "execute_result"
    }
   ],
   "source": [
    "np.var(a, axis=1)"
   ]
  },
  {
   "cell_type": "code",
   "execution_count": null,
   "metadata": {},
   "outputs": [],
   "source": []
  }
 ],
 "metadata": {
  "kernelspec": {
   "display_name": ".venv",
   "language": "python",
   "name": "python3"
  },
  "language_info": {
   "codemirror_mode": {
    "name": "ipython",
    "version": 3
   },
   "file_extension": ".py",
   "mimetype": "text/x-python",
   "name": "python",
   "nbconvert_exporter": "python",
   "pygments_lexer": "ipython3",
   "version": "3.12.3"
  }
 },
 "nbformat": 4,
 "nbformat_minor": 2
}
