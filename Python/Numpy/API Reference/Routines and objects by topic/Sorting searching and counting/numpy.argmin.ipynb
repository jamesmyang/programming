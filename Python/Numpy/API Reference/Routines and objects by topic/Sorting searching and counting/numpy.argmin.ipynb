{
 "cells": [
  {
   "cell_type": "markdown",
   "metadata": {},
   "source": [
    "# numpy.argmin\n",
    "https://numpy.org/doc/stable/reference/generated/numpy.argmin.html#"
   ]
  },
  {
   "cell_type": "markdown",
   "metadata": {},
   "source": [
    "numpy.argmin(a, axis=None, out=None, *, keepdims=<no value>)\n",
    "[source]\n",
    "\n",
    "Returns the indices of the minimum values along an axis.\n",
    "\n",
    "Parameters:\n",
    "\n",
    "    aarray_like\n",
    "\n",
    "        Input array.\n",
    "    axisint, optional\n",
    "\n",
    "        By default, the index is into the flattened array, otherwise along the specified axis.\n",
    "    outarray, optional\n",
    "\n",
    "        If provided, the result will be inserted into this array. It should be of the appropriate shape and dtype.\n",
    "    keepdimsbool, optional\n",
    "\n",
    "        If this is set to True, the axes which are reduced are left in the result as dimensions with size one. With this option, the result will broadcast correctly against the array.\n",
    "\n",
    "        New in version 1.22.0.\n",
    "\n",
    "Returns:\n",
    "\n",
    "    index_array\n",
    "    ndarray of ints\n",
    "\n",
    "        Array of indices into the array. It has the same shape as a.shape with the dimension along axis removed. If keepdims is set to True, then the size of axis will be 1 with the resulting array having same shape as a.shape.\n",
    "\n",
    "See also\n",
    "\n",
    "ndarray.argmin, argmax\n",
    "amin\n",
    "\n",
    "    The minimum value along a given axis.\n",
    "unravel_index\n",
    "\n",
    "    Convert a flat index into an index tuple.\n",
    "take_along_axis\n",
    "\n",
    "    Apply np.expand_dims(index_array, axis) from argmin to an array as if by calling min.\n",
    "\n"
   ]
  },
  {
   "cell_type": "markdown",
   "metadata": {},
   "source": [
    "Notes\n",
    "\n",
    "In case of multiple occurrences of the minimum values, the indices corresponding to the first occurrence are returned."
   ]
  },
  {
   "cell_type": "code",
   "execution_count": 1,
   "metadata": {},
   "outputs": [],
   "source": [
    "import numpy as np"
   ]
  },
  {
   "cell_type": "code",
   "execution_count": 2,
   "metadata": {},
   "outputs": [
    {
     "data": {
      "text/plain": [
       "array([0, 1, 2, 3, 4, 5])"
      ]
     },
     "execution_count": 2,
     "metadata": {},
     "output_type": "execute_result"
    }
   ],
   "source": [
    "a = np.arange(6)\n",
    "a"
   ]
  },
  {
   "cell_type": "code",
   "execution_count": 3,
   "metadata": {},
   "outputs": [
    {
     "data": {
      "text/plain": [
       "array([[0, 1, 2],\n",
       "       [3, 4, 5]])"
      ]
     },
     "execution_count": 3,
     "metadata": {},
     "output_type": "execute_result"
    }
   ],
   "source": [
    "a = a.reshape(2, 3)\n",
    "a"
   ]
  },
  {
   "cell_type": "code",
   "execution_count": null,
   "metadata": {},
   "outputs": [],
   "source": []
  },
  {
   "cell_type": "code",
   "execution_count": 4,
   "metadata": {},
   "outputs": [
    {
     "data": {
      "text/plain": [
       "array([[10, 11, 12],\n",
       "       [13, 14, 15]])"
      ]
     },
     "execution_count": 4,
     "metadata": {},
     "output_type": "execute_result"
    }
   ],
   "source": [
    "a = a + 10\n",
    "a"
   ]
  },
  {
   "cell_type": "code",
   "execution_count": 5,
   "metadata": {},
   "outputs": [
    {
     "data": {
      "text/plain": [
       "0"
      ]
     },
     "execution_count": 5,
     "metadata": {},
     "output_type": "execute_result"
    }
   ],
   "source": [
    "np.argmin(a)"
   ]
  }
 ],
 "metadata": {
  "kernelspec": {
   "display_name": ".venv",
   "language": "python",
   "name": "python3"
  },
  "language_info": {
   "codemirror_mode": {
    "name": "ipython",
    "version": 3
   },
   "file_extension": ".py",
   "mimetype": "text/x-python",
   "name": "python",
   "nbconvert_exporter": "python",
   "pygments_lexer": "ipython3",
   "version": "3.12.3"
  }
 },
 "nbformat": 4,
 "nbformat_minor": 2
}
