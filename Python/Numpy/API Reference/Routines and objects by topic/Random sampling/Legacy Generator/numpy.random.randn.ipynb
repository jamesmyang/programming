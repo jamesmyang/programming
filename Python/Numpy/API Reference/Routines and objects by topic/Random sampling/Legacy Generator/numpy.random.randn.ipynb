{
 "cells": [
  {
   "cell_type": "markdown",
   "metadata": {},
   "source": [
    "# numpy.random.randn\n",
    "https://numpy.org/doc/stable/reference/random/generated/numpy.random.randn.html#"
   ]
  },
  {
   "cell_type": "markdown",
   "metadata": {},
   "source": [
    "random.randn(d0, d1, ..., dn)\n",
    "\n",
    "Return a sample (or samples) from the “standard normal” distribution.\n",
    "\n",
    "Note\n",
    "\n",
    "This is a convenience function for users porting code from Matlab, and wraps standard_normal. That function takes a tuple to specify the size of the output, which is consistent with other NumPy functions like numpy.zeros and numpy.ones.\n",
    "\n",
    "Note\n",
    "\n",
    "New code should use the standard_normal method of a Generator instance instead; please see the Quick start.\n",
    "\n",
    "If positive int_like arguments are provided, randn generates an array of shape (d0, d1, ..., dn), filled with random floats sampled from a univariate “normal” (Gaussian) distribution of mean 0 and variance 1. A single float randomly sampled from the distribution is returned if no argument is provided.\n",
    "\n",
    "Parameters:\n",
    "\n",
    "    d0, d1, …, dn\n",
    "    int, optional\n",
    "\n",
    "        The dimensions of the returned array, must be non-negative. If no argument is given a single Python float is returned.\n",
    "\n",
    "Returns:\n",
    "\n",
    "    Z\n",
    "    ndarray or float\n",
    "\n",
    "        A (d0, d1, ..., dn)-shaped array of floating-point samples from the standard normal distribution, or a single such float if no parameters were supplied.\n",
    "\n",
    "See also\n",
    "\n",
    "standard_normal\n",
    "\n",
    "    Similar, but takes a tuple as its argument.\n",
    "normal\n",
    "\n",
    "    Also accepts mu and sigma arguments.\n",
    "random.Generator.standard_normal\n",
    "\n",
    "    which should be used for new code.\n",
    "\n",
    "Notes\n",
    "\n",
    "For random samples from the normal distribution with mean mu and standard deviation sigma, use:\n",
    "\n",
    "sigma * np.random.randn(...) + mu\n",
    "\n"
   ]
  },
  {
   "cell_type": "code",
   "execution_count": 1,
   "metadata": {},
   "outputs": [],
   "source": [
    "import numpy as np"
   ]
  },
  {
   "cell_type": "code",
   "execution_count": 2,
   "metadata": {},
   "outputs": [
    {
     "data": {
      "text/plain": [
       "-0.40945423183646557"
      ]
     },
     "execution_count": 2,
     "metadata": {},
     "output_type": "execute_result"
    }
   ],
   "source": [
    "np.random.randn()"
   ]
  },
  {
   "cell_type": "code",
   "execution_count": 3,
   "metadata": {},
   "outputs": [
    {
     "data": {
      "text/plain": [
       "array([[ 0.13522179,  1.43677886, -0.52824718, -0.60184331],\n",
       "       [-0.51676925,  1.60174391, -1.11049114, -0.05017829]])"
      ]
     },
     "execution_count": 3,
     "metadata": {},
     "output_type": "execute_result"
    }
   ],
   "source": [
    "np.random.randn(2, 4)"
   ]
  },
  {
   "cell_type": "code",
   "execution_count": null,
   "metadata": {},
   "outputs": [],
   "source": []
  }
 ],
 "metadata": {
  "kernelspec": {
   "display_name": ".venv",
   "language": "python",
   "name": "python3"
  },
  "language_info": {
   "codemirror_mode": {
    "name": "ipython",
    "version": 3
   },
   "file_extension": ".py",
   "mimetype": "text/x-python",
   "name": "python",
   "nbconvert_exporter": "python",
   "pygments_lexer": "ipython3",
   "version": "3.12.3"
  }
 },
 "nbformat": 4,
 "nbformat_minor": 2
}
