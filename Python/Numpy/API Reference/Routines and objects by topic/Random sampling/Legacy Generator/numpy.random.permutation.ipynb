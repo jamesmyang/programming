{
 "cells": [
  {
   "cell_type": "markdown",
   "metadata": {},
   "source": [
    "# numpy.random.permutation\n",
    "https://numpy.org/devdocs/reference/random/generated/numpy.random.permutation.html#numpy-random-permutation"
   ]
  },
  {
   "cell_type": "markdown",
   "metadata": {},
   "source": [
    "random.permutation(x)\n",
    "\n",
    "Randomly permute a sequence, or return a permuted range.\n",
    "\n",
    "If x is a multi-dimensional array, it is only shuffled along its first index.\n",
    "\n",
    "Note\n",
    "\n",
    "New code should use the permutation method of a Generator instance instead; please see the Quick start.\n",
    "\n",
    "Parameters:\n",
    "\n",
    "    x\n",
    "    int or array_like\n",
    "\n",
    "        If x is an integer, randomly permute np.arange(x). If x is an array, make a copy and shuffle the elements randomly.\n",
    "\n",
    "Returns:\n",
    "\n",
    "    out\n",
    "    ndarray\n",
    "\n",
    "        Permuted sequence or array range.\n",
    "\n",
    "See also\n",
    "\n",
    "random.Generator.permutation\n",
    "\n",
    "    which should be used for new code.\n",
    "\n"
   ]
  },
  {
   "cell_type": "code",
   "execution_count": 5,
   "metadata": {},
   "outputs": [],
   "source": [
    "import numpy as np\n",
    "\n",
    "np.random.seed(25)"
   ]
  },
  {
   "cell_type": "code",
   "execution_count": 12,
   "metadata": {},
   "outputs": [
    {
     "data": {
      "text/plain": [
       "array([0, 8, 6, 5, 7, 1, 9, 3, 4, 2])"
      ]
     },
     "execution_count": 12,
     "metadata": {},
     "output_type": "execute_result"
    }
   ],
   "source": [
    "# not seeded even called b4\n",
    "np.random.permutation(10)"
   ]
  },
  {
   "cell_type": "code",
   "execution_count": 7,
   "metadata": {},
   "outputs": [
    {
     "data": {
      "text/plain": [
       "[9, 2, 7, 8, 6, 0, 3, 1, 5, 4]"
      ]
     },
     "execution_count": 7,
     "metadata": {},
     "output_type": "execute_result"
    }
   ],
   "source": [
    "list(np.random.permutation(10))"
   ]
  },
  {
   "cell_type": "code",
   "execution_count": 18,
   "metadata": {},
   "outputs": [
    {
     "data": {
      "text/plain": [
       "array([5, 1, 3, 8, 0, 2, 9, 7, 6, 4])"
      ]
     },
     "execution_count": 18,
     "metadata": {},
     "output_type": "execute_result"
    }
   ],
   "source": [
    "# seeded just b4 call permutation\n",
    "np.random.seed(25)\n",
    "np.random.permutation(10)"
   ]
  },
  {
   "cell_type": "code",
   "execution_count": 2,
   "metadata": {},
   "outputs": [
    {
     "data": {
      "text/plain": [
       "array([ 1,  4, 12,  9, 15])"
      ]
     },
     "execution_count": 2,
     "metadata": {},
     "output_type": "execute_result"
    }
   ],
   "source": [
    "np.random.permutation([1, 4, 9, 12, 15])"
   ]
  },
  {
   "cell_type": "code",
   "execution_count": 29,
   "metadata": {},
   "outputs": [
    {
     "data": {
      "text/plain": [
       "array([[6, 7, 8],\n",
       "       [3, 4, 5],\n",
       "       [0, 1, 2]])"
      ]
     },
     "execution_count": 29,
     "metadata": {},
     "output_type": "execute_result"
    }
   ],
   "source": [
    "arr = np.arange(9).reshape((3, 3))\n",
    "\n",
    "np.random.permutation(arr)"
   ]
  },
  {
   "cell_type": "code",
   "execution_count": 61,
   "metadata": {},
   "outputs": [
    {
     "data": {
      "text/plain": [
       "array([5.5, 1.1])"
      ]
     },
     "execution_count": 61,
     "metadata": {},
     "output_type": "execute_result"
    }
   ],
   "source": [
    "X = np.array([0.1, 1.1, 2.2, 3.3, 4.4, 5.5, 6.6, 7.7, 8.8, 9.0])\n",
    "\n",
    "np.random.seed(25)\n",
    "p = np.random.permutation(10)\n",
    "X = X[list(p)[0:2]]\n",
    "X"
   ]
  },
  {
   "cell_type": "code",
   "execution_count": 54,
   "metadata": {},
   "outputs": [
    {
     "name": "stdout",
     "output_type": "stream",
     "text": [
      "[0, 1]\n",
      "[1, 4, 0, 2, 3]\n"
     ]
    },
    {
     "data": {
      "text/plain": [
       "array([[0. , 1.1, 2.2, 3.3, 4.4],\n",
       "       [5.5, 6.6, 7.7, 8.8, 9. ]])"
      ]
     },
     "execution_count": 54,
     "metadata": {},
     "output_type": "execute_result"
    }
   ],
   "source": [
    "X = np.array([[0.0, 1.1, 2.2, 3.3, 4.4], \n",
    "              [5.5, 6.6, 7.7, 8.8, 9.0]])\n",
    "\n",
    "#np.random.seed(25)\n",
    "p = list(np.random.permutation(2))\n",
    "q = list(np.random.permutation(5))\n",
    "print(p)\n",
    "print(q)\n",
    "X = X[p, :]\n",
    "X"
   ]
  }
 ],
 "metadata": {
  "kernelspec": {
   "display_name": ".venv",
   "language": "python",
   "name": "python3"
  },
  "language_info": {
   "codemirror_mode": {
    "name": "ipython",
    "version": 3
   },
   "file_extension": ".py",
   "mimetype": "text/x-python",
   "name": "python",
   "nbconvert_exporter": "python",
   "pygments_lexer": "ipython3",
   "version": "3.12.3"
  }
 },
 "nbformat": 4,
 "nbformat_minor": 2
}
