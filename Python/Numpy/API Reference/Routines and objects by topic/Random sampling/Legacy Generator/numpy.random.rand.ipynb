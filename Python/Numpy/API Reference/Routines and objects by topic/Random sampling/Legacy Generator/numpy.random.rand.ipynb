{
 "cells": [
  {
   "cell_type": "markdown",
   "metadata": {},
   "source": [
    "# numpy.random.rand\n",
    "https://numpy.org/doc/stable/reference/random/generated/numpy.random.rand.html"
   ]
  },
  {
   "cell_type": "markdown",
   "metadata": {},
   "source": [
    "random.rand(d0, d1, ..., dn)\n",
    "\n",
    "Random values in a given shape.\n",
    "\n",
    "Note\n",
    "\n",
    "This is a convenience function for users porting code from Matlab, and wraps random_sample. That function takes a tuple to specify the size of the output, which is consistent with other NumPy functions like numpy.zeros and numpy.ones.\n",
    "\n",
    "Create an array of the given shape and populate it with random samples from a uniform distribution over [0, 1).\n",
    "\n",
    "Parameters:\n",
    "\n",
    "    d0, d1, …, dn\n",
    "    int, optional\n",
    "\n",
    "        The dimensions of the returned array, must be non-negative. If no argument is given a single Python float is returned.\n",
    "\n",
    "Returns:\n",
    "\n",
    "    outndarray, shape (d0, d1, ..., dn)\n",
    "\n",
    "        Random values.\n",
    "\n",
    "See also\n",
    "\n",
    "random"
   ]
  },
  {
   "cell_type": "code",
   "execution_count": 2,
   "metadata": {},
   "outputs": [],
   "source": [
    "import numpy as np"
   ]
  },
  {
   "cell_type": "code",
   "execution_count": 3,
   "metadata": {},
   "outputs": [
    {
     "data": {
      "text/plain": [
       "array([[0.43446472, 0.55398097],\n",
       "       [0.65149092, 0.08181379],\n",
       "       [0.36948801, 0.88171175]])"
      ]
     },
     "execution_count": 3,
     "metadata": {},
     "output_type": "execute_result"
    }
   ],
   "source": [
    "np.random.rand(3,2)"
   ]
  },
  {
   "cell_type": "code",
   "execution_count": null,
   "metadata": {},
   "outputs": [],
   "source": []
  }
 ],
 "metadata": {
  "kernelspec": {
   "display_name": ".venv",
   "language": "python",
   "name": "python3"
  },
  "language_info": {
   "codemirror_mode": {
    "name": "ipython",
    "version": 3
   },
   "file_extension": ".py",
   "mimetype": "text/x-python",
   "name": "python",
   "nbconvert_exporter": "python",
   "pygments_lexer": "ipython3",
   "version": "3.12.3"
  }
 },
 "nbformat": 4,
 "nbformat_minor": 2
}
