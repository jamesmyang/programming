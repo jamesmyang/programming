{
 "cells": [
  {
   "cell_type": "markdown",
   "metadata": {},
   "source": [
    "# numpy.random.Generator.permutation\n",
    "https://numpy.org/devdocs/reference/random/generated/numpy.random.Generator.permutation.html"
   ]
  },
  {
   "cell_type": "markdown",
   "metadata": {},
   "source": [
    "random.Generator.permutation(x, axis=0)\n",
    "\n",
    "Randomly permute a sequence, or return a permuted range.\n",
    "\n",
    "Parameters:\n",
    "\n",
    "    x\n",
    "    int or array_like\n",
    "\n",
    "        If x is an integer, randomly permute np.arange(x). If x is an array, make a copy and shuffle the elements randomly.\n",
    "    axis\n",
    "    int, optional\n",
    "\n",
    "        The axis which x is shuffled along. Default is 0.\n",
    "\n",
    "Returns:\n",
    "\n",
    "    out\n",
    "    ndarray\n",
    "\n",
    "        Permuted sequence or array range.\n",
    "\n"
   ]
  },
  {
   "cell_type": "code",
   "execution_count": null,
   "metadata": {},
   "outputs": [],
   "source": []
  }
 ],
 "metadata": {
  "kernelspec": {
   "display_name": ".venv",
   "language": "python",
   "name": "python3"
  },
  "language_info": {
   "name": "python",
   "version": "3.12.3"
  }
 },
 "nbformat": 4,
 "nbformat_minor": 2
}
