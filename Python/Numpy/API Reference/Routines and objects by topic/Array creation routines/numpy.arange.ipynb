{
 "cells": [
  {
   "cell_type": "markdown",
   "metadata": {},
   "source": [
    "# numpy.arange\n",
    "https://numpy.org/doc/stable/reference/generated/numpy.arange.html"
   ]
  },
  {
   "cell_type": "code",
   "execution_count": 1,
   "metadata": {},
   "outputs": [],
   "source": [
    "import numpy as np"
   ]
  },
  {
   "cell_type": "markdown",
   "metadata": {},
   "source": [
    "numpy.arange([start, ]stop, [step, ]dtype=None, *, device=None, like=None)\n",
    "\n",
    "Return evenly spaced values within a given interval.\n",
    "\n",
    "arange can be called with a varying number of positional arguments:\n",
    "\n",
    "    arange(stop): Values are generated within the half-open interval [0, stop) (in other words, the interval including start but excluding stop).\n",
    "\n",
    "    arange(start, stop): Values are generated within the half-open interval [start, stop).\n",
    "\n",
    "    arange(start, stop, step) Values are generated within the half-open interval [start, stop), with spacing between values given by step.\n",
    "\n",
    "For integer arguments the function is roughly equivalent to the Python built-in range, but returns an ndarray rather than a range instance.\n",
    "\n",
    "When using a non-integer step, such as 0.1, it is often better to use numpy.linspace.\n",
    "\n",
    "See the Warning sections below for more information.\n",
    "\n",
    "Parameters:\n",
    "\n",
    "    startinteger or real, optional\n",
    "\n",
    "        Start of interval. The interval includes this value. The default start value is 0.\n",
    "    stopinteger or real\n",
    "\n",
    "        End of interval. The interval does not include this value, except in some cases where step is not an integer and floating point round-off affects the length of out.\n",
    "    stepinteger or real, optional\n",
    "\n",
    "        Spacing between values. For any output out, this is the distance between two adjacent values, out[i+1] - out[i]. The default step size is 1. If step is specified as a position argument, start must also be given.\n",
    "    dtypedtype, optional\n",
    "\n",
    "        The type of the output array. If dtype is not given, infer the data type from the other input arguments.\n",
    "    devicestr, optional\n",
    "\n",
    "        The device on which to place the created array. Default: None. For Array-API interoperability only, so must be \"cpu\" if passed.\n",
    "\n",
    "        New in version 2.0.0.\n",
    "    likearray_like, optional\n",
    "\n",
    "        Reference object to allow the creation of arrays which are not NumPy arrays. If an array-like passed in as like supports the __array_function__ protocol, the result will be defined by it. In this case, it ensures the creation of an array object compatible with that passed in via this argument.\n",
    "\n",
    "        New in version 1.20.0.\n",
    "\n",
    "Returns:\n",
    "\n",
    "    arangendarray\n",
    "\n",
    "        Array of evenly spaced values.\n",
    "\n",
    "        For floating point arguments, the length of the result is ceil((stop - start)/step). Because of floating point overflow, this rule may result in the last element of out being greater than stop.\n",
    "\n"
   ]
  },
  {
   "cell_type": "code",
   "execution_count": 2,
   "metadata": {},
   "outputs": [
    {
     "data": {
      "text/plain": [
       "array([0, 1, 2])"
      ]
     },
     "execution_count": 2,
     "metadata": {},
     "output_type": "execute_result"
    }
   ],
   "source": [
    "np.arange(3)"
   ]
  },
  {
   "cell_type": "code",
   "execution_count": 3,
   "metadata": {},
   "outputs": [
    {
     "data": {
      "text/plain": [
       "array([0., 1., 2.])"
      ]
     },
     "execution_count": 3,
     "metadata": {},
     "output_type": "execute_result"
    }
   ],
   "source": [
    "np.arange(3, dtype=float)"
   ]
  },
  {
   "cell_type": "code",
   "execution_count": 4,
   "metadata": {},
   "outputs": [
    {
     "data": {
      "text/plain": [
       "array([3, 4, 5, 6])"
      ]
     },
     "execution_count": 4,
     "metadata": {},
     "output_type": "execute_result"
    }
   ],
   "source": [
    "np.arange(3,7)"
   ]
  },
  {
   "cell_type": "code",
   "execution_count": 5,
   "metadata": {},
   "outputs": [
    {
     "data": {
      "text/plain": [
       "array([1., 2., 3., 4., 5., 6.])"
      ]
     },
     "execution_count": 5,
     "metadata": {},
     "output_type": "execute_result"
    }
   ],
   "source": [
    "np.arange(1, 7, dtype=float)"
   ]
  },
  {
   "cell_type": "markdown",
   "metadata": {},
   "source": [
    "### issues below, use npmy.linspaces"
   ]
  },
  {
   "cell_type": "code",
   "execution_count": 6,
   "metadata": {},
   "outputs": [
    {
     "data": {
      "text/plain": [
       "array([0, 0, 0, 0, 0, 0, 0, 0, 0, 0])"
      ]
     },
     "execution_count": 6,
     "metadata": {},
     "output_type": "execute_result"
    }
   ],
   "source": [
    "np.arange(0, 5, 0.5, dtype=int)"
   ]
  },
  {
   "cell_type": "code",
   "execution_count": 7,
   "metadata": {},
   "outputs": [
    {
     "data": {
      "text/plain": [
       "array([-3, -2, -1,  0,  1,  2,  3,  4,  5,  6,  7,  8])"
      ]
     },
     "execution_count": 7,
     "metadata": {},
     "output_type": "execute_result"
    }
   ],
   "source": [
    "np.arange(-3, 3, 0.5, dtype=int)"
   ]
  }
 ],
 "metadata": {
  "kernelspec": {
   "display_name": ".venv",
   "language": "python",
   "name": "python3"
  },
  "language_info": {
   "codemirror_mode": {
    "name": "ipython",
    "version": 3
   },
   "file_extension": ".py",
   "mimetype": "text/x-python",
   "name": "python",
   "nbconvert_exporter": "python",
   "pygments_lexer": "ipython3",
   "version": "3.12.3"
  }
 },
 "nbformat": 4,
 "nbformat_minor": 2
}
