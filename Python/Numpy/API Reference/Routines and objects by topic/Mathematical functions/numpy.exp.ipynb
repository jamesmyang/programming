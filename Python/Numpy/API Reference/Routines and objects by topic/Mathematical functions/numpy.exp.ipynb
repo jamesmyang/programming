{
 "cells": [
  {
   "cell_type": "markdown",
   "metadata": {},
   "source": [
    "# numpy.exp\n",
    "https://numpy.org/doc/stable/reference/generated/numpy.exp.html"
   ]
  },
  {
   "cell_type": "markdown",
   "metadata": {},
   "source": [
    "##\n",
    "numpy.exp(x, /, out=None, *, where=True, casting='same_kind', order='K', dtype=None, subok=True[, signature]) = <ufunc 'exp'>\n",
    "\n",
    "Calculate the exponential of all elements in the input array.\n",
    "\n",
    "Parameters:\n",
    "\n",
    "    x\n",
    "    array_like\n",
    "\n",
    "        Input values.\n",
    "    out\n",
    "    ndarray, None, or tuple of ndarray and None, optional\n",
    "\n",
    "        A location into which the result is stored. If provided, it must have a shape that the inputs broadcast to. If not provided or None, a freshly-allocated array is returned. A tuple (possible only as a keyword argument) must have length equal to the number of outputs.\n",
    "    where\n",
    "    array_like, optional\n",
    "\n",
    "        This condition is broadcast over the input. At locations where the condition is True, the out array will be set to the ufunc result. Elsewhere, the out array will retain its original value. Note that if an uninitialized out array is created via the default out=None, locations within it where the condition is False will remain uninitialized.\n",
    "    **kwargs\n",
    "\n",
    "        For other keyword-only arguments, see the ufunc docs.\n",
    "\n",
    "Returns:\n",
    "\n",
    "    out\n",
    "    ndarray or scalar\n",
    "\n",
    "        Output array, element-wise exponential of x. This is a scalar if x is a scalar.\n",
    "\n",
    "See also\n",
    "\n",
    "expm1\n",
    "\n",
    "    Calculate exp(x) - 1 for all elements in the array.\n",
    "exp2\n",
    "\n",
    "    Calculate 2**x for all elements in the array.\n",
    "\n"
   ]
  },
  {
   "cell_type": "markdown",
   "metadata": {},
   "source": [
    "Notes\n",
    "\n",
    "The irrational number e is also known as Euler’s number. It is approximately 2.718281, and is the base of the natural logarithm, ln (this means that, if x = ln(y) = loge(y)\n",
    ", then e**x = y\n",
    "\n",
    ". For real input, exp(x) is always positive.\n",
    "\n",
    "For complex arguments, x = a + ib, we can write\n",
    ". The first term, , is already known (it is the real argument, described above). The second term, , is\n",
    "\n",
    ", a function with magnitude 1 and a periodic phase.\n",
    "\n",
    "References\n",
    "[1]\n",
    "\n",
    "Wikipedia, “Exponential function”, https://en.wikipedia.org/wiki/Exponential_function\n",
    "[2]\n",
    "\n",
    "M. Abramovitz and I. A. Stegun, “Handbook of Mathematical Functions with Formulas, Graphs, and Mathematical Tables,” Dover, 1964, p. 69, https://personal.math.ubc.ca/~cbm/aands/page_69.htm\n"
   ]
  },
  {
   "cell_type": "code",
   "execution_count": null,
   "metadata": {},
   "outputs": [],
   "source": []
  }
 ],
 "metadata": {
  "kernelspec": {
   "display_name": ".venv",
   "language": "python",
   "name": "python3"
  },
  "language_info": {
   "name": "python",
   "version": "3.12.3"
  }
 },
 "nbformat": 4,
 "nbformat_minor": 2
}
