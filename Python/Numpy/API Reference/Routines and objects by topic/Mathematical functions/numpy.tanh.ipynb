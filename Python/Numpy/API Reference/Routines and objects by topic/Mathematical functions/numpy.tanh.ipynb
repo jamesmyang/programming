{
 "cells": [
  {
   "cell_type": "markdown",
   "metadata": {},
   "source": [
    "# numpy.tanh\n",
    "https://numpy.org/doc/stable/reference/generated/numpy.tanh.html"
   ]
  },
  {
   "cell_type": "markdown",
   "metadata": {},
   "source": [
    "numpy.tanh(x, /, out=None, *, where=True, casting='same_kind', order='K', dtype=None, subok=True[, signature]) = <ufunc 'tanh'>\n",
    "\n",
    "Compute hyperbolic tangent element-wise.\n",
    "\n",
    "Equivalent to np.sinh(x)/np.cosh(x) or -1j * np.tan(1j*x).\n",
    "\n",
    "Parameters:\n",
    "\n",
    "    x\n",
    "    array_like\n",
    "\n",
    "        Input array.\n",
    "    out\n",
    "    ndarray, None, or tuple of ndarray and None, optional\n",
    "\n",
    "        A location into which the result is stored. If provided, it must have a shape that the inputs broadcast to. If not provided or None, a freshly-allocated array is returned. A tuple (possible only as a keyword argument) must have length equal to the number of outputs.\n",
    "    where\n",
    "    array_like, optional\n",
    "\n",
    "        This condition is broadcast over the input. At locations where the condition is True, the out array will be set to the ufunc result. Elsewhere, the out array will retain its original value. Note that if an uninitialized out array is created via the default out=None, locations within it where the condition is False will remain uninitialized.\n",
    "    **kwargs\n",
    "\n",
    "        For other keyword-only arguments, see the ufunc docs.\n",
    "\n",
    "Returns:\n",
    "\n",
    "    y\n",
    "    ndarray\n",
    "\n",
    "        The corresponding hyperbolic tangent values. This is a scalar if x is a scalar.\n",
    "\n",
    "Notes\n",
    "\n",
    "If out is provided, the function writes the result into it, and returns a reference to out. (See Examples)\n",
    "\n",
    "References\n",
    "[1]\n",
    "\n",
    "M. Abramowitz and I. A. Stegun, Handbook of Mathematical Functions. New York, NY: Dover, 1972, pg. 83. https://personal.math.ubc.ca/~cbm/aands/page_83.htm\n",
    "[2]\n",
    "\n",
    "Wikipedia, “Hyperbolic function”, https://en.wikipedia.org/wiki/Hyperbolic_function\n"
   ]
  },
  {
   "cell_type": "code",
   "execution_count": 1,
   "metadata": {},
   "outputs": [
    {
     "data": {
      "text/plain": [
       "array([0.+0.00000000e+00j, 0.-1.22464680e-16j, 0.+1.63312394e+16j])"
      ]
     },
     "execution_count": 1,
     "metadata": {},
     "output_type": "execute_result"
    }
   ],
   "source": [
    "import numpy as np\n",
    "\n",
    "np.tanh((0, np.pi*1j, np.pi*1j/2))"
   ]
  },
  {
   "cell_type": "code",
   "execution_count": null,
   "metadata": {},
   "outputs": [],
   "source": []
  }
 ],
 "metadata": {
  "kernelspec": {
   "display_name": ".venv",
   "language": "python",
   "name": "python3"
  },
  "language_info": {
   "codemirror_mode": {
    "name": "ipython",
    "version": 3
   },
   "file_extension": ".py",
   "mimetype": "text/x-python",
   "name": "python",
   "nbconvert_exporter": "python",
   "pygments_lexer": "ipython3",
   "version": "3.12.3"
  }
 },
 "nbformat": 4,
 "nbformat_minor": 2
}
