{
 "cells": [
  {
   "cell_type": "markdown",
   "metadata": {},
   "source": [
    "# numpy.linalg.norm\n",
    "https://numpy.org/doc/stable/reference/generated/numpy.linalg.norm.html"
   ]
  },
  {
   "cell_type": "markdown",
   "metadata": {},
   "source": [
    "linalg.norm(x, ord=None, axis=None, keepdims=False)\n",
    "[source]\n",
    "\n",
    "Matrix or vector norm.\n",
    "\n",
    "This function is able to return one of eight different matrix norms, or one of an infinite number of vector norms (described below), depending on the value of the ord parameter.\n",
    "\n",
    "Parameters:\n",
    "\n",
    "    xarray_like\n",
    "\n",
    "        Input array. If axis is None, x must be 1-D or 2-D, unless ord is None. If both axis and ord are None, the 2-norm of x.ravel will be returned.\n",
    "    ord{non-zero int, inf, -inf, ‘fro’, ‘nuc’}, optional\n",
    "\n",
    "        Order of the norm (see table under Notes). inf means numpy’s inf object. The default is None.\n",
    "    axis{None, int, 2-tuple of ints}, optional.\n",
    "\n",
    "        If axis is an integer, it specifies the axis of x along which to compute the vector norms. If axis is a 2-tuple, it specifies the axes that hold 2-D matrices, and the matrix norms of these matrices are computed. If axis is None then either a vector norm (when x is 1-D) or a matrix norm (when x is 2-D) is returned. The default is None.\n",
    "\n",
    "        New in version 1.8.0.\n",
    "    keepdimsbool, optional\n",
    "\n",
    "        If this is set to True, the axes which are normed over are left in the result as dimensions with size one. With this option the result will broadcast correctly against the original x.\n",
    "\n",
    "        New in version 1.10.0.\n",
    "\n",
    "Returns:\n",
    "\n",
    "    n\n",
    "    float or ndarray\n",
    "\n",
    "        Norm of the matrix or vector(s).\n",
    "\n",
    "See also\n",
    "\n",
    "scipy.linalg.norm\n",
    "\n",
    "    Similar function in SciPy.\n",
    "\n",
    "Notes\n",
    "\n",
    "For values of ord < 1, the result is, strictly speaking, not a mathematical ‘norm’, but it may still be useful for various numerical purposes.\n",
    "\n",
    "The following norms can be calculated:\n",
    "\n",
    "ord\n",
    "\t\n",
    "\n",
    "norm for matrices\n",
    "\t\n",
    "\n",
    "norm for vectors\n",
    "\n",
    "None\n",
    "\t\n",
    "\n",
    "Frobenius norm\n",
    "\t\n",
    "\n",
    "2-norm\n",
    "\n",
    "‘fro’\n",
    "\t\n",
    "\n",
    "Frobenius norm\n",
    "\t\n",
    "\n",
    "–\n",
    "\n",
    "‘nuc’\n",
    "\t\n",
    "\n",
    "nuclear norm\n",
    "\t\n",
    "\n",
    "–\n",
    "\n",
    "inf\n",
    "\t\n",
    "\n",
    "max(sum(abs(x), axis=1))\n",
    "\t\n",
    "\n",
    "max(abs(x))\n",
    "\n",
    "-inf\n",
    "\t\n",
    "\n",
    "min(sum(abs(x), axis=1))\n",
    "\t\n",
    "\n",
    "min(abs(x))\n",
    "\n",
    "0\n",
    "\t\n",
    "\n",
    "–\n",
    "\t\n",
    "\n",
    "sum(x != 0)\n",
    "\n",
    "1\n",
    "\t\n",
    "\n",
    "max(sum(abs(x), axis=0))\n",
    "\t\n",
    "\n",
    "as below\n",
    "\n",
    "-1\n",
    "\t\n",
    "\n",
    "min(sum(abs(x), axis=0))\n",
    "\t\n",
    "\n",
    "as below\n",
    "\n",
    "2\n",
    "\t\n",
    "\n",
    "2-norm (largest sing. value)\n",
    "\t\n",
    "\n",
    "as below\n",
    "\n",
    "-2\n",
    "\t\n",
    "\n",
    "smallest singular value\n",
    "\t\n",
    "\n",
    "as below\n",
    "\n",
    "other\n",
    "\t\n",
    "\n",
    "–\n",
    "\t\n",
    "\n",
    "sum(abs(x)**ord)**(1./ord)\n",
    "\n",
    "The Frobenius norm is given by [1]:\n",
    "\n",
    "The nuclear norm is the sum of the singular values.\n",
    "\n",
    "Both the Frobenius and nuclear norm orders are only defined for matrices and raise a ValueError when x.ndim != 2.\n",
    "\n",
    "References\n",
    "[1]\n",
    "\n",
    "G. H. Golub and C. F. Van Loan, Matrix Computations, Baltimore, MD, Johns Hopkins University Press, 1985, pg. 15\n"
   ]
  },
  {
   "cell_type": "markdown",
   "metadata": {},
   "source": [
    "The norm of a vector is simply the square root of the sum of each component squared. \n",
    "\n",
    "∥A∥=32+42+52−−−−−−−−−−√=9+16+25−−−−−−−−−√=50−−√=52–√"
   ]
  },
  {
   "cell_type": "code",
   "execution_count": 1,
   "metadata": {},
   "outputs": [
    {
     "name": "stdout",
     "output_type": "stream",
     "text": [
      "Vector norm:\n",
      "16.881943016134134\n"
     ]
    }
   ],
   "source": [
    "import numpy as np\n",
    " \n",
    "# initialize vector\n",
    "vec = np.arange(10)\n",
    " \n",
    "# compute norm of vector\n",
    "vec_norm = np.linalg.norm(vec)\n",
    " \n",
    "print(\"Vector norm:\")\n",
    "print(vec_norm)"
   ]
  },
  {
   "cell_type": "code",
   "execution_count": 2,
   "metadata": {},
   "outputs": [
    {
     "name": "stdout",
     "output_type": "stream",
     "text": [
      "Matrix norm:\n",
      "9.539392014169456\n"
     ]
    }
   ],
   "source": [
    "import numpy as np\n",
    " \n",
    "# initialize matrix\n",
    "mat = np.array([[ 1, 2, 3],\n",
    "               [4, 5, 6]])\n",
    " \n",
    "# compute norm of matrix\n",
    "mat_norm = np.linalg.norm(mat)\n",
    " \n",
    "print(\"Matrix norm:\")\n",
    "print(mat_norm)"
   ]
  },
  {
   "cell_type": "code",
   "execution_count": 3,
   "metadata": {},
   "outputs": [
    {
     "name": "stdout",
     "output_type": "stream",
     "text": [
      "Matrix norm:\n",
      "9.539392014169456\n"
     ]
    }
   ],
   "source": [
    "import numpy as np\n",
    " \n",
    "# initialize matrix\n",
    "mat = np.array([1, 2, 3, 4, 5, 6])\n",
    " \n",
    "# compute norm of matrix\n",
    "mat_norm = np.linalg.norm(mat)\n",
    " \n",
    "print(\"Matrix norm:\")\n",
    "print(mat_norm)"
   ]
  },
  {
   "cell_type": "code",
   "execution_count": 4,
   "metadata": {},
   "outputs": [
    {
     "name": "stdout",
     "output_type": "stream",
     "text": [
      "Matrix norm along particular axis :\n",
      "[3.74165739 8.77496439]\n"
     ]
    }
   ],
   "source": [
    "\n",
    "# import library\n",
    "import numpy as np\n",
    " \n",
    " \n",
    "mat = np.array([[ 1, 2, 3],\n",
    "               [4, 5, 6]])\n",
    " \n",
    "# compute matrix num along axis \n",
    "mat_norm = np.linalg.norm(mat, axis = 1)\n",
    " \n",
    "print(\"Matrix norm along particular axis :\")\n",
    "print(mat_norm)\n"
   ]
  },
  {
   "cell_type": "code",
   "execution_count": 5,
   "metadata": {},
   "outputs": [
    {
     "name": "stdout",
     "output_type": "stream",
     "text": [
      "Matrix norm along particular axis :\n",
      "[4.12310563 5.38516481 6.70820393]\n"
     ]
    }
   ],
   "source": [
    "\n",
    "# import library\n",
    "import numpy as np\n",
    " \n",
    " \n",
    "mat = np.array([[ 1, 2, 3],\n",
    "               [4, 5, 6]])\n",
    " \n",
    "# compute matrix num along axis \n",
    "mat_norm = np.linalg.norm(mat, axis = 0)\n",
    " \n",
    "print(\"Matrix norm along particular axis :\")\n",
    "print(mat_norm)\n"
   ]
  },
  {
   "cell_type": "code",
   "execution_count": 6,
   "metadata": {},
   "outputs": [
    {
     "name": "stdout",
     "output_type": "stream",
     "text": [
      "Vector norm:\n",
      "14.2828568570857\n",
      "Matrix norm:\n",
      "14.2828568570857\n"
     ]
    }
   ],
   "source": [
    "\n",
    "# import library\n",
    "import numpy as np\n",
    " \n",
    "# initialize vector\n",
    "vec = np.arange(9)\n",
    " \n",
    "# convert vector into matrix\n",
    "mat = vec.reshape((3, 3))\n",
    " \n",
    "# compute norm of vector\n",
    "vec_norm = np.linalg.norm(vec)\n",
    " \n",
    "print(\"Vector norm:\")\n",
    "print(vec_norm)\n",
    " \n",
    "# computer norm of matrix\n",
    "mat_norm = np.linalg.norm(mat)\n",
    " \n",
    "print(\"Matrix norm:\")\n",
    "print(mat_norm)\n"
   ]
  },
  {
   "cell_type": "code",
   "execution_count": 9,
   "metadata": {},
   "outputs": [
    {
     "data": {
      "text/plain": [
       "array([[5.        ],\n",
       "       [7.28010989]])"
      ]
     },
     "execution_count": 9,
     "metadata": {},
     "output_type": "execute_result"
    }
   ],
   "source": [
    "# import library\n",
    "import numpy as np\n",
    "\n",
    "x = np.array([[0., 3., 4.],\n",
    "              [1., 6., 4.]])\n",
    "np.linalg.norm(x, ord=2, axis=1, keepdims=True)"
   ]
  },
  {
   "cell_type": "code",
   "execution_count": null,
   "metadata": {},
   "outputs": [],
   "source": []
  }
 ],
 "metadata": {
  "kernelspec": {
   "display_name": ".venv",
   "language": "python",
   "name": "python3"
  },
  "language_info": {
   "codemirror_mode": {
    "name": "ipython",
    "version": 3
   },
   "file_extension": ".py",
   "mimetype": "text/x-python",
   "name": "python",
   "nbconvert_exporter": "python",
   "pygments_lexer": "ipython3",
   "version": "3.12.3"
  }
 },
 "nbformat": 4,
 "nbformat_minor": 2
}
