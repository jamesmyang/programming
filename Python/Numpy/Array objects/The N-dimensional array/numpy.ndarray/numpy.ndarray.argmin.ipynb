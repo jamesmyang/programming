{
 "cells": [
  {
   "cell_type": "markdown",
   "metadata": {},
   "source": [
    "# numpy.ndarray.argmin\n",
    "https://numpy.org/doc/stable/reference/generated/numpy.ndarray.argmin.html"
   ]
  },
  {
   "cell_type": "markdown",
   "metadata": {},
   "source": [
    "ndarray.argmin(axis=None, out=None, *, keepdims=False)\n",
    "\n",
    "    Return indices of the minimum values along the given axis.\n",
    "\n",
    "    Refer to numpy.argmin for detailed documentation.\n",
    "\n",
    "    See also\n",
    "\n",
    "    numpy.argmin\n",
    "\n",
    "        equivalent function\n",
    "\n"
   ]
  },
  {
   "cell_type": "code",
   "execution_count": null,
   "metadata": {},
   "outputs": [],
   "source": []
  }
 ],
 "metadata": {
  "kernelspec": {
   "display_name": ".venv",
   "language": "python",
   "name": "python3"
  },
  "language_info": {
   "name": "python",
   "version": "3.12.3"
  }
 },
 "nbformat": 4,
 "nbformat_minor": 2
}
