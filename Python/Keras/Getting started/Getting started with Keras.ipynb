{
 "cells": [
  {
   "metadata": {},
   "cell_type": "markdown",
   "source": [
    "# Getting started with Keras\n",
    "https://keras.io/getting_started/"
   ],
   "id": "3944340aa01283"
  },
  {
   "metadata": {
    "ExecuteTime": {
     "end_time": "2024-11-20T15:25:02.362004Z",
     "start_time": "2024-11-20T15:25:02.357632Z"
    }
   },
   "cell_type": "code",
   "source": [
    "# from tensorflow import keras\n",
    "import keras"
   ],
   "id": "2ba3b40cab8224d9",
   "outputs": [],
   "execution_count": 5
  },
  {
   "metadata": {
    "ExecuteTime": {
     "end_time": "2024-11-20T15:25:16.689975Z",
     "start_time": "2024-11-20T15:25:16.683544Z"
    }
   },
   "cell_type": "code",
   "source": "keras.__version__",
   "id": "f85eb27573a0b752",
   "outputs": [
    {
     "data": {
      "text/plain": [
       "'3.6.0'"
      ]
     },
     "execution_count": 6,
     "metadata": {},
     "output_type": "execute_result"
    }
   ],
   "execution_count": 6
  },
  {
   "metadata": {},
   "cell_type": "code",
   "outputs": [],
   "execution_count": null,
   "source": "",
   "id": "cd12ab194f310d19"
  }
 ],
 "metadata": {
  "kernelspec": {
   "display_name": "Python 3",
   "language": "python",
   "name": "python3"
  },
  "language_info": {
   "codemirror_mode": {
    "name": "ipython",
    "version": 2
   },
   "file_extension": ".py",
   "mimetype": "text/x-python",
   "name": "python",
   "nbconvert_exporter": "python",
   "pygments_lexer": "ipython2",
   "version": "2.7.6"
  }
 },
 "nbformat": 4,
 "nbformat_minor": 5
}
