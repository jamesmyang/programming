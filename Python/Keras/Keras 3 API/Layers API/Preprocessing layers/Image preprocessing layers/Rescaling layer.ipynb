{
 "cells": [
  {
   "cell_type": "markdown",
   "metadata": {},
   "source": [
    "# Rescaling layer\n",
    "https://keras.io/api/layers/preprocessing_layers/image_preprocessing/rescaling/"
   ]
  },
  {
   "cell_type": "markdown",
   "metadata": {},
   "source": [
    "Rescaling class\n",
    "\n",
    "keras.layers.Rescaling(scale, offset=0.0, **kwargs)\n",
    "\n",
    "A preprocessing layer which rescales input values to a new range.\n",
    "\n",
    "This layer rescales every value of an input (often an image) by multiplying by scale and adding offset.\n",
    "\n",
    "For instance:\n",
    "\n",
    "    To rescale an input in the [0, 255] range to be in the [0, 1] range, you would pass scale=1./255.\n",
    "\n",
    "    To rescale an input in the [0, 255] range to be in the [-1, 1] range, you would pass scale=1./127.5, offset=-1.\n",
    "\n",
    "The rescaling is applied both during training and inference. Inputs can be of integer or floating point dtype, and by default the layer will output floats.\n",
    "\n",
    "Note: This layer is safe to use inside a tf.data pipeline (independently of which backend you're using).\n",
    "\n",
    "Arguments\n",
    "\n",
    "    scale: Float, the scale to apply to the inputs.\n",
    "    offset: Float, the offset to apply to the inputs.\n",
    "    **kwargs: Base layer keyword arguments, such as name and dtype.\n"
   ]
  }
 ],
 "metadata": {
  "kernelspec": {
   "display_name": ".venv",
   "language": "python",
   "name": "python3"
  },
  "language_info": {
   "name": "python",
   "version": "3.12.3"
  }
 },
 "nbformat": 4,
 "nbformat_minor": 2
}
