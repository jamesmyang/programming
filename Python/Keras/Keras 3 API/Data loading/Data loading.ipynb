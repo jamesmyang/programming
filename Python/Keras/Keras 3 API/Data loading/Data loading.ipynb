{
 "cells": [
  {
   "cell_type": "markdown",
   "metadata": {},
   "source": [
    "# Data loading\n",
    "https://keras.io/api/data_loading/"
   ]
  },
  {
   "cell_type": "markdown",
   "metadata": {},
   "source": [
    "Keras data loading utilities, located in keras.utils, help you go from raw data on disk to a tf.data.Dataset object that can be used to efficiently train a model.\n",
    "\n",
    "These loading utilites can be combined with preprocessing layers to futher transform your input dataset before training.\n",
    "\n",
    "Here's a quick example: let's say you have 10 folders, each containing 10,000 images from a different category, and you want to train a classifier that maps an image to its category.\n",
    "\n",
    "Your training data folder would look like this:\n",
    "\n",
    "\n",
    "You may also have a validation data folder validation_data/ structured in the same way.\n",
    "\n",
    "You could simply do:\n"
   ]
  },
  {
   "cell_type": "code",
   "execution_count": null,
   "metadata": {},
   "outputs": [],
   "source": [
    "import keras\n",
    "\n",
    "train_ds = keras.utils.image_dataset_from_directory(\n",
    "    directory='training_data/',\n",
    "    labels='inferred',\n",
    "    label_mode='categorical',\n",
    "    batch_size=32,\n",
    "    image_size=(256, 256))\n",
    "validation_ds = keras.utils.image_dataset_from_directory(\n",
    "    directory='validation_data/',\n",
    "    labels='inferred',\n",
    "    label_mode='categorical',\n",
    "    batch_size=32,\n",
    "    image_size=(256, 256))\n",
    "\n",
    "model = keras.applications.Xception(\n",
    "    weights=None, input_shape=(256, 256, 3), classes=10)\n",
    "model.compile(optimizer='rmsprop', loss='categorical_crossentropy')\n",
    "model.fit(train_ds, epochs=10, validation_data=validation_ds)\n"
   ]
  },
  {
   "cell_type": "markdown",
   "metadata": {},
   "source": [
    "## Available dataset loading utilities\n",
    "\n",
    "### Image data loading\n",
    "\n",
    "    image_dataset_from_directory function\n",
    "    load_img function\n",
    "    img_to_array function\n",
    "    save_img function\n",
    "    array_to_img function\n",
    "\n",
    "### Timeseries data loading\n",
    "\n",
    "    timeseries_dataset_from_array function\n",
    "    pad_sequences function\n",
    "\n",
    "### Text data loading\n",
    "\n",
    "    text_dataset_from_directory function\n",
    "\n",
    "### Audio data loading\n",
    "\n",
    "    audio_dataset_from_directory function\n"
   ]
  },
  {
   "cell_type": "markdown",
   "metadata": {},
   "source": []
  }
 ],
 "metadata": {
  "kernelspec": {
   "display_name": ".venv",
   "language": "python",
   "name": "python3"
  },
  "language_info": {
   "name": "python",
   "version": "3.12.3"
  }
 },
 "nbformat": 4,
 "nbformat_minor": 2
}
