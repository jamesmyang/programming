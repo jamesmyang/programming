{
 "cells": [
  {
   "cell_type": "markdown",
   "metadata": {},
   "source": [
    "# Overview\n",
    "https://www.tensorflow.org/api_docs/python/tf/data"
   ]
  },
  {
   "cell_type": "markdown",
   "metadata": {},
   "source": [
    "##  Module: tf.data\n",
    "\n",
    "Public API for tf._api.v2.data namespace"
   ]
  },
  {
   "cell_type": "markdown",
   "metadata": {},
   "source": [
    "### Modules\n",
    "experimental module: Public API for tf._api.v2.data.experimental namespace"
   ]
  },
  {
   "cell_type": "markdown",
   "metadata": {},
   "source": [
    "### Classes\n",
    "\n",
    "class Dataset: Represents a potentially large set of elements.\n",
    "\n",
    "class DatasetSpec: Type specification for tf.data.Dataset.\n",
    "\n",
    "class FixedLengthRecordDataset: A Dataset of fixed-length records from one or more binary files.\n",
    "\n",
    "class Iterator: Represents an iterator of a tf.data.Dataset.\n",
    "\n",
    "class IteratorSpec: Type specification for tf.data.Iterator.\n",
    "\n",
    "class NumpyIterator: Iterator over a dataset with elements converted to numpy.\n",
    "\n",
    "class Options: Represents options for tf.data.Dataset.\n",
    "\n",
    "class TFRecordDataset: A Dataset comprising records from one or more TFRecord files.\n",
    "\n",
    "class TextLineDataset: Creates a Dataset comprising lines from one or more text files.\n",
    "\n",
    "class ThreadingOptions: Represents options for dataset threading."
   ]
  },
  {
   "cell_type": "markdown",
   "metadata": {},
   "source": []
  }
 ],
 "metadata": {
  "kernelspec": {
   "display_name": ".venv",
   "language": "python",
   "name": "python3"
  },
  "language_info": {
   "name": "python",
   "version": "3.12.3"
  }
 },
 "nbformat": 4,
 "nbformat_minor": 2
}
