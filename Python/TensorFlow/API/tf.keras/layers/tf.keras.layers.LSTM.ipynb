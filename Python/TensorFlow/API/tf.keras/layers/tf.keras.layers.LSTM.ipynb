{
 "cells": [
  {
   "cell_type": "markdown",
   "metadata": {},
   "source": [
    "# tf.keras.layers.LSTM\n",
    "https://www.tensorflow.org/api_docs/python/tf/keras/layers/LSTM"
   ]
  },
  {
   "cell_type": "markdown",
   "metadata": {},
   "source": [
    "Long Short-Term Memory layer - Hochreiter 1997.\n",
    "\n",
    "Inherits From: RNN, Layer, Operation\n",
    "\n",
    "tf.keras.layers.LSTM(\n",
    "    units,\n",
    "    activation=&#x27;tanh',\n",
    "    recurrent_activation=&#x27;sigmoid',\n",
    "    use_bias=True,\n",
    "    kernel_initializer=&#x27;glorot_uniform',\n",
    "    recurrent_initializer=&#x27;orthogonal',\n",
    "    bias_initializer=&#x27;zeros',\n",
    "    unit_forget_bias=True,\n",
    "    kernel_regularizer=None,\n",
    "    recurrent_regularizer=None,\n",
    "    bias_regularizer=None,\n",
    "    activity_regularizer=None,\n",
    "    kernel_constraint=None,\n",
    "    recurrent_constraint=None,\n",
    "    bias_constraint=None,\n",
    "    dropout=0.0,\n",
    "    recurrent_dropout=0.0,\n",
    "    seed=None,\n",
    "    return_sequences=False,\n",
    "    return_state=False,\n",
    "    go_backwards=False,\n",
    "    stateful=False,\n",
    "    unroll=False,\n",
    "    use_cudnn=&#x27;auto',\n",
    "    **kwargs\n",
    ")\n",
    "\n",
    "Used in the notebooks\n",
    "Used in the guide \tUsed in the tutorials\n",
    "\n",
    "    Ragged tensors\n",
    "\n",
    "\t\n",
    "\n",
    "    Time series forecasting\n",
    "    Generate music with an RNN\n",
    "    Text classification with an RNN\n",
    "    Load metrics from Prometheus server\n",
    "    Graph regularization for sentiment classification using synthesized graphs\n",
    "\n",
    "Based on available runtime hardware and constraints, this layer will choose different implementations (cuDNN-based or backend-native) to maximize the performance. If a GPU is available and all the arguments to the layer meet the requirement of the cuDNN kernel (see below for details), the layer will use a fast cuDNN implementation when using the TensorFlow backend. The requirements to use the cuDNN implementation are:\n",
    "\n",
    "    activation == tanh\n",
    "    recurrent_activation == sigmoid\n",
    "    dropout == 0 and recurrent_dropout == 0\n",
    "    unroll is False\n",
    "    use_bias is True\n",
    "    Inputs, if use masking, are strictly right-padded.\n",
    "    Eager execution is enabled in the outermost context.\n",
    "\n",
    "\n",
    "Args\n",
    "units \tPositive integer, dimensionality of the output space.\n",
    "activation \tActivation function to use. Default: hyperbolic tangent (tanh). If you pass None, no activation is applied (ie. \"linear\" activation: a(x) = x).\n",
    "recurrent_activation \tActivation function to use for the recurrent step. Default: sigmoid (sigmoid). If you pass None, no activation is applied (ie. \"linear\" activation: a(x) = x).\n",
    "use_bias \tBoolean, (default True), whether the layer should use a bias vector.\n",
    "kernel_initializer \tInitializer for the kernel weights matrix, used for the linear transformation of the inputs. Default: \"glorot_uniform\".\n",
    "recurrent_initializer \tInitializer for the recurrent_kernel weights matrix, used for the linear transformation of the recurrent state. Default: \"orthogonal\".\n",
    "bias_initializer \tInitializer for the bias vector. Default: \"zeros\".\n",
    "unit_forget_bias \tBoolean (default True). If True, add 1 to the bias of the forget gate at initialization. Setting it to True will also force bias_initializer=\"zeros\". This is recommended in Jozefowicz et al.\n",
    "kernel_regularizer \tRegularizer function applied to the kernel weights matrix. Default: None.\n",
    "recurrent_regularizer \tRegularizer function applied to the recurrent_kernel weights matrix. Default: None.\n",
    "bias_regularizer \tRegularizer function applied to the bias vector. Default: None.\n",
    "activity_regularizer \tRegularizer function applied to the output of the layer (its \"activation\"). Default: None.\n",
    "kernel_constraint \tConstraint function applied to the kernel weights matrix. Default: None.\n",
    "recurrent_constraint \tConstraint function applied to the recurrent_kernel weights matrix. Default: None.\n",
    "bias_constraint \tConstraint function applied to the bias vector. Default: None.\n",
    "dropout \tFloat between 0 and 1. Fraction of the units to drop for the linear transformation of the inputs. Default: 0.\n",
    "recurrent_dropout \tFloat between 0 and 1. Fraction of the units to drop for the linear transformation of the recurrent state. Default: 0.\n",
    "seed \tRandom seed for dropout.\n",
    "return_sequences \tBoolean. Whether to return the last output in the output sequence, or the full sequence. Default: False.\n",
    "return_state \tBoolean. Whether to return the last state in addition to the output. Default: False.\n",
    "go_backwards \tBoolean (default: False). If True, process the input sequence backwards and return the reversed sequence.\n",
    "stateful \tBoolean (default: False). If True, the last state for each sample at index i in a batch will be used as initial state for the sample of index i in the following batch.\n",
    "unroll \tBoolean (default False). If True, the network will be unrolled, else a symbolic loop will be used. Unrolling can speed-up a RNN, although it tends to be more memory-intensive. Unrolling is only suitable for short sequences.\n",
    "use_cudnn \tWhether to use a cuDNN-backed implementation. \"auto\" will attempt to use cuDNN when feasible, and will fallback to the default implementation if not.\n",
    "\n",
    "Call arguments\n",
    "inputs \tA 3D tensor, with shape (batch, timesteps, feature).\n",
    "mask \tBinary tensor of shape (samples, timesteps) indicating whether a given timestep should be masked (optional). An individual True entry indicates that the corresponding timestep should be utilized, while a False entry indicates that the corresponding timestep should be ignored. Defaults to None.\n",
    "training \tPython boolean indicating whether the layer should behave in training mode or in inference mode. This argument is passed to the cell when calling it. This is only relevant if dropout or recurrent_dropout is used (optional). Defaults to None.\n",
    "initial_state \tList of initial state tensors to be passed to the first call of the cell (optional, None causes creation of zero-filled initial state tensors). Defaults to None.\n",
    "\n",
    "Attributes\n",
    "activation \t\n",
    "\n",
    "bias_constraint \t\n",
    "\n",
    "bias_initializer \t\n",
    "\n",
    "bias_regularizer \t\n",
    "\n",
    "dropout \t\n",
    "\n",
    "input \tRetrieves the input tensor(s) of a symbolic operation.\n",
    "\n",
    "Only returns the tensor(s) corresponding to the first time the operation was called.\n",
    "kernel_constraint \t\n",
    "\n",
    "kernel_initializer \t\n",
    "\n",
    "kernel_regularizer \t\n",
    "\n",
    "output \tRetrieves the output tensor(s) of a layer.\n",
    "\n",
    "Only returns the tensor(s) corresponding to the first time the operation was called.\n",
    "recurrent_activation \t\n",
    "\n",
    "recurrent_constraint \t\n",
    "\n",
    "recurrent_dropout \t\n",
    "\n",
    "recurrent_initializer \t\n",
    "\n",
    "recurrent_regularizer \t\n",
    "\n",
    "unit_forget_bias \t\n",
    "\n",
    "units \t\n",
    "\n",
    "use_bias \t\n",
    "\n"
   ]
  },
  {
   "cell_type": "code",
   "execution_count": 1,
   "metadata": {},
   "outputs": [],
   "source": [
    "import numpy as np\n",
    "import keras"
   ]
  },
  {
   "cell_type": "code",
   "execution_count": 3,
   "metadata": {},
   "outputs": [
    {
     "data": {
      "text/plain": [
       "TensorShape([32, 4])"
      ]
     },
     "execution_count": 3,
     "metadata": {},
     "output_type": "execute_result"
    }
   ],
   "source": [
    "inputs = np.random.random((32, 10, 8))\n",
    "lstm = keras.layers.LSTM(4)\n",
    "output = lstm(inputs)\n",
    "output.shape"
   ]
  },
  {
   "cell_type": "code",
   "execution_count": 12,
   "metadata": {},
   "outputs": [
    {
     "data": {
      "text/plain": [
       "(TensorShape([32, 10, 4]), TensorShape([32, 4]), TensorShape([32, 4]))"
      ]
     },
     "execution_count": 12,
     "metadata": {},
     "output_type": "execute_result"
    }
   ],
   "source": [
    "lstm = keras.layers.LSTM(4, return_sequences=True, return_state=True)\n",
    "output = lstm(inputs)\n",
    "whole_seq_output, final_memory_state, final_carry_state = output\n",
    "whole_seq_output.shape, final_memory_state.shape, final_carry_state.shape\n"
   ]
  }
 ],
 "metadata": {
  "kernelspec": {
   "display_name": ".venv",
   "language": "python",
   "name": "python3"
  },
  "language_info": {
   "codemirror_mode": {
    "name": "ipython",
    "version": 3
   },
   "file_extension": ".py",
   "mimetype": "text/x-python",
   "name": "python",
   "nbconvert_exporter": "python",
   "pygments_lexer": "ipython3",
   "version": "3.12.3"
  }
 },
 "nbformat": 4,
 "nbformat_minor": 2
}
