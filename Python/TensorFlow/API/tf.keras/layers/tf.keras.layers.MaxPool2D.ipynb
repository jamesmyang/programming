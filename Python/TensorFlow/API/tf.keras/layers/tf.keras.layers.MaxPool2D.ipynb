{
 "cells": [
  {
   "cell_type": "markdown",
   "metadata": {},
   "source": [
    "# tf.keras.layers.MaxPool2D \n",
    "https://www.tensorflow.org/api_docs/python/tf/keras/layers/MaxPool2D"
   ]
  },
  {
   "cell_type": "markdown",
   "metadata": {},
   "source": [
    "Max pooling operation for 2D spatial data.\n",
    "\n",
    "Inherits From: Layer, Operation\n",
    "\n",
    "tf.keras.layers.MaxPool2D(\n",
    "    pool_size=(2, 2),\n",
    "    strides=None,\n",
    "    padding=&#x27;valid',\n",
    "    data_format=None,\n",
    "    name=None,\n",
    "    **kwargs\n",
    ")\n",
    "\n",
    "Args\n",
    "pool_size \tint or tuple of 2 integers, factors by which to downscale (dim1, dim2). If only one integer is specified, the same window length will be used for all dimensions.\n",
    "strides \tint or tuple of 2 integers, or None. Strides values. If None, it will default to pool_size. If only one int is specified, the same stride size will be used for all dimensions.\n",
    "padding \tstring, either \"valid\" or \"same\" (case-insensitive). \"valid\" means no padding. \"same\" results in padding evenly to the left/right or up/down of the input such that output has the same height/width dimension as the input.\n",
    "data_format \tstring, either \"channels_last\" or \"channels_first\". The ordering of the dimensions in the inputs. \"channels_last\" corresponds to inputs with shape (batch, height, width, channels) while \"channels_first\" corresponds to inputs with shape (batch, channels, height, width). It defaults to the image_data_format value found in your Keras config file at ~/.keras/keras.json. If you never set it, then it will be \"channels_last\".\n",
    "\n",
    "Input shape:\n",
    "\n",
    "    If data_format=\"channels_last\": 4D tensor with shape (batch_size, height, width, channels).\n",
    "    If data_format=\"channels_first\": 4D tensor with shape (batch_size, channels, height, width).\n",
    "\n",
    "Output shape:\n",
    "\n",
    "    If data_format=\"channels_last\": 4D tensor with shape (batch_size, pooled_height, pooled_width, channels).\n",
    "    If data_format=\"channels_first\": 4D tensor with shape (batch_size, channels, pooled_height, pooled_width).\n"
   ]
  },
  {
   "cell_type": "code",
   "execution_count": null,
   "metadata": {},
   "outputs": [],
   "source": []
  }
 ],
 "metadata": {
  "kernelspec": {
   "display_name": ".venv",
   "language": "python",
   "name": "python3"
  },
  "language_info": {
   "name": "python",
   "version": "3.12.3"
  }
 },
 "nbformat": 4,
 "nbformat_minor": 2
}
