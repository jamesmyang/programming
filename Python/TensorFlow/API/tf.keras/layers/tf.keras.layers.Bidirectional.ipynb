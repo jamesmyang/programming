{
 "cells": [
  {
   "cell_type": "markdown",
   "metadata": {},
   "source": [
    "# tf.keras.layers.Bidirectional\n",
    "https://www.tensorflow.org/api_docs/python/tf/keras/layers/Bidirectional"
   ]
  },
  {
   "cell_type": "markdown",
   "metadata": {},
   "source": [
    "Bidirectional wrapper for RNNs.\n",
    "\n",
    "Inherits From: Layer, Operation\n",
    "\n",
    "tf.keras.layers.Bidirectional(\n",
    "    layer,\n",
    "    merge_mode=&#x27;concat',\n",
    "    weights=None,\n",
    "    backward_layer=None,\n",
    "    **kwargs\n",
    ")\n",
    "\n",
    "Args\n",
    "layer \tkeras.layers.RNN instance, such as keras.layers.LSTM or keras.layers.GRU. It could also be a keras.layers.Layer instance that meets the following criteria:\n",
    "\n",
    "    Be a sequence-processing layer (accepts 3D+ inputs).\n",
    "    Have a go_backwards, return_sequences and return_state attribute (with the same semantics as for the RNN class).\n",
    "    Have an input_spec attribute.\n",
    "    Implement serialization via get_config() and from_config(). Note that the recommended way to create new RNN layers is to write a custom RNN cell and use it with keras.layers.RNN, instead of subclassing keras.layers.Layer directly. When return_sequences is True, the output of the masked timestep will be zero regardless of the layer's original zero_output_for_mask value. \n",
    "\n",
    "merge_mode \tMode by which outputs of the forward and backward RNNs will be combined. One of {\"sum\", \"mul\", \"concat\", \"ave\", None}. If None, the outputs will not be combined, they will be returned as a list. Defaults to \"concat\".\n",
    "backward_layer \tOptional keras.layers.RNN, or keras.layers.Layer instance to be used to handle backwards input processing. If backward_layer is not provided, the layer instance passed as the layer argument will be used to generate the backward layer automatically. Note that the provided backward_layer layer should have properties matching those of the layer argument, in particular it should have the same values for stateful, return_states, return_sequences, etc. In addition, backward_layer and layer should have different go_backwards argument values. A ValueError will be raised if these requirements are not met.\n",
    "\n",
    "Call arguments\n",
    "The call arguments for this layer are the same as those of the wrapped RNN layer. Beware that when passing the initial_state argument during the call of this layer, the first half in the list of elements in the initial_state list will be passed to the forward RNN call and the last half in the list of elements will be passed to the backward RNN call. \n",
    "\n",
    "\n",
    "Attributes\n",
    "input \tRetrieves the input tensor(s) of a symbolic operation.\n",
    "\n",
    "Only returns the tensor(s) corresponding to the first time the operation was called.\n",
    "output \tRetrieves the output tensor(s) of a layer.\n",
    "\n",
    "Only returns the tensor(s) corresponding to the first time the operation was called.\n",
    "states\n",
    "\n"
   ]
  },
  {
   "cell_type": "code",
   "execution_count": 1,
   "metadata": {},
   "outputs": [],
   "source": [
    "import numpy as np \n",
    "import keras \n"
   ]
  },
  {
   "cell_type": "code",
   "execution_count": 2,
   "metadata": {},
   "outputs": [
    {
     "data": {
      "text/plain": [
       "<Bidirectional name=bidirectional, built=False>"
      ]
     },
     "execution_count": 2,
     "metadata": {},
     "output_type": "execute_result"
    }
   ],
   "source": [
    "bidir = keras.layers.Bidirectional(keras.layers.LSTM(10, return_sequences=True))\n",
    "bidir"
   ]
  },
  {
   "cell_type": "code",
   "execution_count": null,
   "metadata": {},
   "outputs": [],
   "source": []
  }
 ],
 "metadata": {
  "kernelspec": {
   "display_name": ".venv",
   "language": "python",
   "name": "python3"
  },
  "language_info": {
   "codemirror_mode": {
    "name": "ipython",
    "version": 3
   },
   "file_extension": ".py",
   "mimetype": "text/x-python",
   "name": "python",
   "nbconvert_exporter": "python",
   "pygments_lexer": "ipython3",
   "version": "3.12.3"
  }
 },
 "nbformat": 4,
 "nbformat_minor": 2
}
