{
 "cells": [
  {
   "cell_type": "markdown",
   "metadata": {},
   "source": [
    "# tf.keras.layers.Conv2D\n",
    "https://www.tensorflow.org/api_docs/python/tf/keras/layers/Conv2D"
   ]
  },
  {
   "cell_type": "markdown",
   "metadata": {},
   "source": [
    "2D convolution layer.\n",
    "\n",
    "Inherits From: Layer, Operation\n",
    "\n",
    "tf.keras.layers.Conv2D(\n",
    "    filters,\n",
    "    kernel_size,\n",
    "    strides=(1, 1),\n",
    "    padding='valid',\n",
    "    data_format=None,\n",
    "    dilation_rate=(1, 1),\n",
    "    groups=1,\n",
    "    activation=None,\n",
    "    use_bias=True,\n",
    "    kernel_initializer='glorot_uniform',\n",
    "    bias_initializer='zeros',\n",
    "    kernel_regularizer=None,\n",
    "    bias_regularizer=None,\n",
    "    activity_regularizer=None,\n",
    "    kernel_constraint=None,\n",
    "    bias_constraint=None,\n",
    "    **kwargs\n",
    ")\n"
   ]
  },
  {
   "cell_type": "markdown",
   "metadata": {},
   "source": [
    "Args\n",
    "filters \tint, the dimension of the output space (the number of filters in the convolution).\n",
    "kernel_size \tint or tuple/list of 2 integer, specifying the size of the convolution window.\n",
    "strides \tint or tuple/list of 2 integer, specifying the stride length of the convolution. strides > 1 is incompatible with dilation_rate > 1.\n",
    "padding \tstring, either \"valid\" or \"same\" (case-insensitive). \"valid\" means no padding. \"same\" results in padding evenly to the left/right or up/down of the input. When padding=\"same\" and strides=1, the output has the same size as the input.\n",
    "data_format \tstring, either \"channels_last\" or \"channels_first\". The ordering of the dimensions in the inputs. \"channels_last\" corresponds to inputs with shape (batch_size, height, width, channels) while \"channels_first\" corresponds to inputs with shape (batch_size, channels, height, width). It defaults to the image_data_format value found in your Keras config file at ~/.keras/keras.json. If you never set it, then it will be \"channels_last\".\n",
    "dilation_rate \tint or tuple/list of 2 integers, specifying the dilation rate to use for dilated convolution.\n",
    "groups \tA positive int specifying the number of groups in which the input is split along the channel axis. Each group is convolved separately with filters // groups filters. The output is the concatenation of all the groups results along the channel axis. Input channels and filters must both be divisible by groups.\n",
    "activation \tActivation function. If None, no activation is applied.\n",
    "use_bias \tbool, if True, bias will be added to the output.\n",
    "kernel_initializer \tInitializer for the convolution kernel. If None, the default initializer (\"glorot_uniform\") will be used.\n",
    "bias_initializer \tInitializer for the bias vector. If None, the default initializer (\"zeros\") will be used.\n",
    "kernel_regularizer \tOptional regularizer for the convolution kernel.\n",
    "bias_regularizer \tOptional regularizer for the bias vector.\n",
    "activity_regularizer \tOptional regularizer function for the output.\n",
    "kernel_constraint \tOptional projection function to be applied to the kernel after being updated by an Optimizer (e.g. used to implement norm constraints or value constraints for layer weights). The function must take as input the unprojected variable and must return the projected variable (which must have the same shape). Constraints are not safe to use when doing asynchronous distributed training.\n",
    "bias_constraint \tOptional projection function to be applied to the bias after being updated by an Optimizer.\n",
    "\n",
    "Input shape:\n",
    "\n",
    "    If data_format=\"channels_last\": A 4D tensor with shape: (batch_size, height, width, channels)\n",
    "    If data_format=\"channels_first\": A 4D tensor with shape: (batch_size, channels, height, width)\n",
    "\n",
    "Output shape:\n",
    "\n",
    "    If data_format=\"channels_last\": A 4D tensor with shape: (batch_size, new_height, new_width, filters)\n",
    "    If data_format=\"channels_first\": A 4D tensor with shape: (batch_size, filters, new_height, new_width)\n",
    "\n",
    "Returns\n",
    "A 4D tensor representing activation(conv2d(inputs, kernel) + bias).\n",
    "\n",
    "Raises\n",
    "ValueError \twhen both strides > 1 and dilation_rate > 1. "
   ]
  },
  {
   "cell_type": "code",
   "execution_count": 6,
   "metadata": {},
   "outputs": [
    {
     "name": "stdout",
     "output_type": "stream",
     "text": [
      "(4, 8, 8, 32)\n"
     ]
    }
   ],
   "source": [
    "import numpy as np\n",
    "import keras\n",
    "\n",
    "x = np.random.rand(4, 10, 10, 128)\n",
    "y = keras.layers.Conv2D(32, 3, activation='relu')(x)\n",
    "print(y.shape)"
   ]
  },
  {
   "cell_type": "code",
   "execution_count": null,
   "metadata": {},
   "outputs": [],
   "source": []
  }
 ],
 "metadata": {
  "kernelspec": {
   "display_name": ".venv",
   "language": "python",
   "name": "python3"
  },
  "language_info": {
   "codemirror_mode": {
    "name": "ipython",
    "version": 3
   },
   "file_extension": ".py",
   "mimetype": "text/x-python",
   "name": "python",
   "nbconvert_exporter": "python",
   "pygments_lexer": "ipython3",
   "version": "3.12.3"
  }
 },
 "nbformat": 4,
 "nbformat_minor": 2
}
