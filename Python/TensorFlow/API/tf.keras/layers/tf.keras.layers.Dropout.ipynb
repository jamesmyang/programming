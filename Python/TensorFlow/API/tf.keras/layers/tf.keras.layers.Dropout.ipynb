{
 "cells": [
  {
   "cell_type": "markdown",
   "metadata": {},
   "source": [
    "# tf.keras.layers.Dropout\n",
    "https://www.tensorflow.org/api_docs/python/tf/keras/layers/Dropout"
   ]
  },
  {
   "cell_type": "markdown",
   "metadata": {},
   "source": [
    "Applies dropout to the input.\n",
    "\n",
    "Inherits From: Layer, Operation\n",
    "\n",
    "tf.keras.layers.Dropout(\n",
    "    rate, noise_shape=None, seed=None, **kwargs\n",
    ")\n",
    "\n",
    "\n",
    "Args\n",
    "rate \tFloat between 0 and 1. Fraction of the input units to drop.\n",
    "noise_shape \t1D integer tensor representing the shape of the binary dropout mask that will be multiplied with the input. For instance, if your inputs have shape (batch_size, timesteps, features) and you want the dropout mask to be the same for all timesteps, you can use noise_shape=(batch_size, 1, features).\n",
    "seed \tA Python integer to use as random seed.\n",
    "\n",
    "Call arguments\n",
    "inputs \tInput tensor (of any rank).\n",
    "training \tPython boolean indicating whether the layer should behave in training mode (adding dropout) or in inference mode (doing nothing).\n",
    "\n",
    "Attributes\n",
    "input \tRetrieves the input tensor(s) of a symbolic operation.\n",
    "\n",
    "Only returns the tensor(s) corresponding to the first time the operation was called.\n",
    "output \tRetrieves the output tensor(s) of a layer.\n",
    "\n",
    "Only returns the tensor(s) corresponding to the first time the operation was called. "
   ]
  },
  {
   "cell_type": "code",
   "execution_count": null,
   "metadata": {},
   "outputs": [],
   "source": []
  }
 ],
 "metadata": {
  "kernelspec": {
   "display_name": ".venv",
   "language": "python",
   "name": "python3"
  },
  "language_info": {
   "name": "python",
   "version": "3.12.3"
  }
 },
 "nbformat": 4,
 "nbformat_minor": 2
}
