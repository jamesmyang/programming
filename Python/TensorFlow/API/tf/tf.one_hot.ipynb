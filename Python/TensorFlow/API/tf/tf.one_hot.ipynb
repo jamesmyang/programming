{
 "cells": [
  {
   "cell_type": "markdown",
   "metadata": {},
   "source": [
    "# tf.one_hot\n",
    "https://www.tensorflow.org/api_docs/python/tf/one_hot"
   ]
  },
  {
   "cell_type": "markdown",
   "metadata": {},
   "source": [
    "tf.one_hot(\n",
    "    indices,\n",
    "    depth,\n",
    "    on_value=None,\n",
    "    off_value=None,\n",
    "    axis=None,\n",
    "    dtype=None,\n",
    "    name=None\n",
    ")\n",
    "\n",
    "Args\n",
    "indices \tA Tensor of indices.\n",
    "depth \tA scalar defining the depth of the one hot dimension.\n",
    "on_value \tA scalar defining the value to fill in output when indices[j] = i. (default: 1)\n",
    "off_value \tA scalar defining the value to fill in output when indices[j] != i. (default: 0)\n",
    "axis \tThe axis to fill (default: -1, a new inner-most axis).\n",
    "dtype \tThe data type of the output tensor.\n",
    "name \tA name for the operation (optional).\n",
    "\n",
    "Returns\n",
    "output \tThe one-hot tensor.\n",
    "\n",
    "Raises\n",
    "TypeError \tIf dtype of either on_value or off_value don't match dtype\n",
    "TypeError \tIf dtype of on_value and off_value don't match one another "
   ]
  },
  {
   "cell_type": "code",
   "execution_count": null,
   "metadata": {},
   "outputs": [],
   "source": []
  }
 ],
 "metadata": {
  "language_info": {
   "name": "python"
  }
 },
 "nbformat": 4,
 "nbformat_minor": 2
}
