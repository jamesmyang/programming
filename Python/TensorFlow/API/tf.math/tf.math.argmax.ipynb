{
 "cells": [
  {
   "cell_type": "markdown",
   "metadata": {},
   "source": [
    "#  tf.math.argmax\n",
    "https://www.tensorflow.org/api_docs/python/tf/math/argmax"
   ]
  },
  {
   "cell_type": "markdown",
   "metadata": {},
   "source": [
    "tf.math.argmax(\n",
    "    input,\n",
    "    axis=None,\n",
    "    output_type=tf.dtypes.int64,\n",
    "    name=None\n",
    ")\n",
    "\n",
    "Args: \n",
    "input \tA Tensor.\n",
    "axis \tAn integer, the axis to reduce across. Default to 0.\n",
    "output_type \tAn optional output dtype (tf.int32 or tf.int64). Defaults to tf.int64.\n",
    "name \tAn optional name for the operation. \n",
    "\n",
    "Returns: \n",
    "A Tensor of type output_type. "
   ]
  },
  {
   "cell_type": "code",
   "execution_count": 1,
   "metadata": {},
   "outputs": [],
   "source": [
    "import tensorflow as tf"
   ]
  },
  {
   "cell_type": "code",
   "execution_count": 4,
   "metadata": {},
   "outputs": [
    {
     "data": {
      "text/plain": [
       "<tf.Tensor: shape=(), dtype=int64, numpy=2>"
      ]
     },
     "execution_count": 4,
     "metadata": {},
     "output_type": "execute_result"
    }
   ],
   "source": [
    "A = tf.constant([2, 20, 30, 3, 6])\n",
    "tf.math.argmax(A)"
   ]
  },
  {
   "cell_type": "code",
   "execution_count": 5,
   "metadata": {},
   "outputs": [
    {
     "data": {
      "text/plain": [
       "<tf.Tensor: shape=(5,), dtype=int64, numpy=array([2, 2, 0, 2, 2], dtype=int64)>"
      ]
     },
     "execution_count": 5,
     "metadata": {},
     "output_type": "execute_result"
    }
   ],
   "source": [
    "B = tf.constant([[2, 20, 30, 3, 6], \n",
    "                 [3, 11, 16, 1, 8],\n",
    "                 [14, 45, 23, 5, 27]\n",
    "                ])\n",
    "tf.math.argmax(B)"
   ]
  },
  {
   "cell_type": "code",
   "execution_count": 6,
   "metadata": {},
   "outputs": [
    {
     "data": {
      "text/plain": [
       "<tf.Tensor: shape=(5,), dtype=int64, numpy=array([2, 2, 0, 2, 2], dtype=int64)>"
      ]
     },
     "execution_count": 6,
     "metadata": {},
     "output_type": "execute_result"
    }
   ],
   "source": [
    "B = tf.constant([[2, 20, 30, 3, 6], \n",
    "                 [3, 11, 16, 1, 8],\n",
    "                 [14, 45, 23, 5, 27]\n",
    "                ])\n",
    "tf.math.argmax(B, 0)"
   ]
  },
  {
   "cell_type": "code",
   "execution_count": 7,
   "metadata": {},
   "outputs": [
    {
     "data": {
      "text/plain": [
       "<tf.Tensor: shape=(3,), dtype=int64, numpy=array([2, 2, 1], dtype=int64)>"
      ]
     },
     "execution_count": 7,
     "metadata": {},
     "output_type": "execute_result"
    }
   ],
   "source": [
    "B = tf.constant([[2, 20, 30, 3, 6], \n",
    "                 [3, 11, 16, 1, 8],\n",
    "                 [14, 45, 23, 5, 27]\n",
    "                ])\n",
    "tf.math.argmax(B, 1)"
   ]
  },
  {
   "cell_type": "code",
   "execution_count": 8,
   "metadata": {},
   "outputs": [
    {
     "data": {
      "text/plain": [
       "<tf.Tensor: shape=(), dtype=int64, numpy=0>"
      ]
     },
     "execution_count": 8,
     "metadata": {},
     "output_type": "execute_result"
    }
   ],
   "source": [
    "C = tf.constant([0, 0, 0, 0])\n",
    "tf.math.argmax(C)"
   ]
  },
  {
   "cell_type": "code",
   "execution_count": 9,
   "metadata": {},
   "outputs": [
    {
     "data": {
      "text/plain": [
       "<tf.Tensor: shape=(3,), dtype=int64, numpy=array([2, 2, 1], dtype=int64)>"
      ]
     },
     "execution_count": 9,
     "metadata": {},
     "output_type": "execute_result"
    }
   ],
   "source": [
    "B = tf.constant([[2, 20, 30, 3, 6], \n",
    "                 [3, 11, 16, 1, 8],\n",
    "                 [14, 45, 23, 5, 27]\n",
    "                ])\n",
    "tf.math.argmax(B, -1)"
   ]
  }
 ],
 "metadata": {
  "kernelspec": {
   "display_name": ".venv",
   "language": "python",
   "name": "python3"
  },
  "language_info": {
   "codemirror_mode": {
    "name": "ipython",
    "version": 3
   },
   "file_extension": ".py",
   "mimetype": "text/x-python",
   "name": "python",
   "nbconvert_exporter": "python",
   "pygments_lexer": "ipython3",
   "version": "3.12.3"
  }
 },
 "nbformat": 4,
 "nbformat_minor": 2
}
